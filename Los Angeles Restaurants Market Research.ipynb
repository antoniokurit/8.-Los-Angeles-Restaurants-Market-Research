{
 "cells": [
  {
   "cell_type": "markdown",
   "metadata": {},
   "source": [
    "# Los Angeles Restaurants: Market Research\n",
    "\n",
    "We opened a small robort-run cafe in Los Angeles, and will be conducting market research for investors.\n",
    "\n",
    "We will analyze open-source data on restaurants in LA, which will give us insight of the current market conditions for robot-run cafes. We will investigate various aspects of the restaurants in our dataset, and make conclusions and/or conjectures.\n",
    "\n",
    "Our analysis will be synthezied into a presentation ready to be shared with investors."
   ]
  },
  {
   "cell_type": "markdown",
   "metadata": {},
   "source": [
    "# Table of Contents\n",
    "[1 Open the data file and have a look at the general information](#1heading)  \n",
    "&emsp;[1.1 Conclusion](#1.1heading)  \n",
    "[2 Data preprocessing](#2heading)  \n",
    "&emsp;[2.1 Processing missing values](#2.1heading)  \n",
    "&emsp;[2.2 Data type replacement](#2.2heading)  \n",
    "&emsp;[2.3 Processing duplicates](#2.3heading)  \n",
    "[3 Data Analysis](#3heading)  \n",
    "&emsp;[3.1 Establishment Types Proportions](#3.1heading)  \n",
    "&emsp;[3.2 Chain vs Nonchain Proportions](#3.2heading)  \n",
    "&emsp;[3.3 Which type of establishment is typically a chain?](#3.3heading)  \n",
    "&emsp;[3.4 What characterizes chains?](#3.4heading)  \n",
    "&emsp;[3.5 Average number of seats per establishment type](#3.5heading)  \n",
    "&emsp;[3.6 Top Ten Street by Number of Restaurants](#3.6heading)  \n",
    "&emsp;[3.7 Streets with only One Establishment](#3.7heading)  \n",
    "&emsp;[3.8 Streets with lots of establishments and their amount of seats](#3.8heading)  \n",
    "[4 Overall Conclusion](#4heading)   \n",
    "[5 Presentation](#5heading)  "
   ]
  },
  {
   "cell_type": "markdown",
   "metadata": {},
   "source": [
    "<div class=\"alert alert-success\">\n",
    "<b>Reviewer's comment v1:</b>\n",
    "    \n",
    "Great that you added additional information about project objective. "
   ]
  },
  {
   "cell_type": "markdown",
   "metadata": {},
   "source": [
    "<a id='1heading'></a>"
   ]
  },
  {
   "cell_type": "markdown",
   "metadata": {},
   "source": [
    "## Open the data files and have a look at the general information"
   ]
  },
  {
   "cell_type": "code",
   "execution_count": 5,
   "metadata": {},
   "outputs": [],
   "source": [
    "# Importing libraries\n",
    "import pandas as pd\n",
    "import numpy as np\n",
    "import matplotlib.pyplot as plt\n",
    "from matplotlib import style\n",
    "import math as mt\n",
    "from math import factorial\n",
    "import datetime as dt\n",
    "import seaborn as sns\n",
    "import plotly.express as px\n",
    "from plotly import graph_objects as go\n",
    "from scipy import stats as st\n",
    "from functools import reduce\n",
    "import re"
   ]
  },
  {
   "cell_type": "code",
   "execution_count": 7,
   "metadata": {},
   "outputs": [],
   "source": [
    "# Read file\n",
    "rest_data = pd.read_csv('/datasets/rest_data_us.csv')"
   ]
  },
  {
   "cell_type": "code",
   "execution_count": 8,
   "metadata": {},
   "outputs": [
    {
     "data": {
      "text/html": [
       "<div>\n",
       "<style scoped>\n",
       "    .dataframe tbody tr th:only-of-type {\n",
       "        vertical-align: middle;\n",
       "    }\n",
       "\n",
       "    .dataframe tbody tr th {\n",
       "        vertical-align: top;\n",
       "    }\n",
       "\n",
       "    .dataframe thead th {\n",
       "        text-align: right;\n",
       "    }\n",
       "</style>\n",
       "<table border=\"1\" class=\"dataframe\">\n",
       "  <thead>\n",
       "    <tr style=\"text-align: right;\">\n",
       "      <th></th>\n",
       "      <th>id</th>\n",
       "      <th>object_name</th>\n",
       "      <th>address</th>\n",
       "      <th>chain</th>\n",
       "      <th>object_type</th>\n",
       "      <th>number</th>\n",
       "    </tr>\n",
       "  </thead>\n",
       "  <tbody>\n",
       "    <tr>\n",
       "      <th>0</th>\n",
       "      <td>11786</td>\n",
       "      <td>HABITAT COFFEE SHOP</td>\n",
       "      <td>3708 N EAGLE ROCK BLVD</td>\n",
       "      <td>False</td>\n",
       "      <td>Cafe</td>\n",
       "      <td>26</td>\n",
       "    </tr>\n",
       "    <tr>\n",
       "      <th>1</th>\n",
       "      <td>11787</td>\n",
       "      <td>REILLY'S</td>\n",
       "      <td>100 WORLD WAY # 120</td>\n",
       "      <td>False</td>\n",
       "      <td>Restaurant</td>\n",
       "      <td>9</td>\n",
       "    </tr>\n",
       "    <tr>\n",
       "      <th>2</th>\n",
       "      <td>11788</td>\n",
       "      <td>STREET CHURROS</td>\n",
       "      <td>6801 HOLLYWOOD BLVD # 253</td>\n",
       "      <td>False</td>\n",
       "      <td>Fast Food</td>\n",
       "      <td>20</td>\n",
       "    </tr>\n",
       "    <tr>\n",
       "      <th>3</th>\n",
       "      <td>11789</td>\n",
       "      <td>TRINITI ECHO PARK</td>\n",
       "      <td>1814 W SUNSET BLVD</td>\n",
       "      <td>False</td>\n",
       "      <td>Restaurant</td>\n",
       "      <td>22</td>\n",
       "    </tr>\n",
       "    <tr>\n",
       "      <th>4</th>\n",
       "      <td>11790</td>\n",
       "      <td>POLLEN</td>\n",
       "      <td>2100 ECHO PARK AVE</td>\n",
       "      <td>False</td>\n",
       "      <td>Restaurant</td>\n",
       "      <td>20</td>\n",
       "    </tr>\n",
       "  </tbody>\n",
       "</table>\n",
       "</div>"
      ],
      "text/plain": [
       "      id          object_name                    address  chain object_type  \\\n",
       "0  11786  HABITAT COFFEE SHOP     3708 N EAGLE ROCK BLVD  False        Cafe   \n",
       "1  11787             REILLY'S        100 WORLD WAY # 120  False  Restaurant   \n",
       "2  11788       STREET CHURROS  6801 HOLLYWOOD BLVD # 253  False   Fast Food   \n",
       "3  11789    TRINITI ECHO PARK         1814 W SUNSET BLVD  False  Restaurant   \n",
       "4  11790               POLLEN         2100 ECHO PARK AVE  False  Restaurant   \n",
       "\n",
       "   number  \n",
       "0      26  \n",
       "1       9  \n",
       "2      20  \n",
       "3      22  \n",
       "4      20  "
      ]
     },
     "metadata": {},
     "output_type": "display_data"
    },
    {
     "name": "stdout",
     "output_type": "stream",
     "text": [
      "<class 'pandas.core.frame.DataFrame'>\n",
      "RangeIndex: 9651 entries, 0 to 9650\n",
      "Data columns (total 6 columns):\n",
      " #   Column       Non-Null Count  Dtype \n",
      "---  ------       --------------  ----- \n",
      " 0   id           9651 non-null   int64 \n",
      " 1   object_name  9651 non-null   object\n",
      " 2   address      9651 non-null   object\n",
      " 3   chain        9648 non-null   object\n",
      " 4   object_type  9651 non-null   object\n",
      " 5   number       9651 non-null   int64 \n",
      "dtypes: int64(2), object(4)\n",
      "memory usage: 452.5+ KB\n"
     ]
    }
   ],
   "source": [
    "# Displaying rest_data dataframe and the data info\n",
    "display(rest_data.head())\n",
    "rest_data.info()"
   ]
  },
  {
   "cell_type": "code",
   "execution_count": 4,
   "metadata": {},
   "outputs": [],
   "source": [
    "#Renaming columns\n",
    "rest_data.rename(columns={'object_name': 'establishment_name'}, inplace=True)\n",
    "rest_data.rename(columns={'object_type': 'establishment_type'}, inplace=True)\n",
    "rest_data.rename(columns={'number': 'number_seats'}, inplace=True)"
   ]
  },
  {
   "cell_type": "markdown",
   "metadata": {},
   "source": [
    "<div class=\"alert alert-info\">\n",
    "    \n",
    "rest_data dataframe contains 6 columns: **id, object_name, address, chain, object_type, and number**\n",
    "- **id** — establishment identifier\n",
    "- **object_name** — establishment name\n",
    "- **chain** — if establishment is a chain (TRUE/FALSE)\n",
    "- **object_type** — establishment type\n",
    "- **address** — address\n",
    "- **number** — number of seats\n",
    "\n",
    "Total of 9651 rows. Chain column is missing 3 values. Data types need to be updated.\n",
    "</div>"
   ]
  },
  {
   "cell_type": "markdown",
   "metadata": {},
   "source": [
    "<a id='2heading'></a>"
   ]
  },
  {
   "cell_type": "markdown",
   "metadata": {},
   "source": [
    "## Data preprocessing"
   ]
  },
  {
   "cell_type": "markdown",
   "metadata": {},
   "source": [
    "<a id='2.1heading'></a>"
   ]
  },
  {
   "cell_type": "markdown",
   "metadata": {},
   "source": [
    "### Processing missing values"
   ]
  },
  {
   "cell_type": "code",
   "execution_count": 5,
   "metadata": {},
   "outputs": [
    {
     "name": "stdout",
     "output_type": "stream",
     "text": [
      "Total Rows: 9651\n"
     ]
    },
    {
     "data": {
      "text/plain": [
       "id                    0\n",
       "establishment_name    0\n",
       "address               0\n",
       "chain                 3\n",
       "establishment_type    0\n",
       "number_seats          0\n",
       "dtype: int64"
      ]
     },
     "execution_count": 5,
     "metadata": {},
     "output_type": "execute_result"
    }
   ],
   "source": [
    "# Count of nulls for rest_data\n",
    "print('Total Rows:', len(rest_data))\n",
    "rest_data.isnull().sum()"
   ]
  },
  {
   "cell_type": "code",
   "execution_count": 6,
   "metadata": {},
   "outputs": [
    {
     "data": {
      "text/plain": [
       "id                    0.000000\n",
       "establishment_name    0.000000\n",
       "address               0.000000\n",
       "chain                 0.031085\n",
       "establishment_type    0.000000\n",
       "number_seats          0.000000\n",
       "dtype: float64"
      ]
     },
     "execution_count": 6,
     "metadata": {},
     "output_type": "execute_result"
    }
   ],
   "source": [
    "# Proportion of nulls\n",
    "proportion = rest_data.isnull().sum()*100/len(rest_data)\n",
    "proportion"
   ]
  },
  {
   "cell_type": "code",
   "execution_count": 7,
   "metadata": {},
   "outputs": [],
   "source": [
    "# Dropping nulls\n",
    "rest_data = rest_data.dropna()"
   ]
  },
  {
   "cell_type": "code",
   "execution_count": 8,
   "metadata": {},
   "outputs": [
    {
     "name": "stdout",
     "output_type": "stream",
     "text": [
      "Total Rows: 9648\n"
     ]
    },
    {
     "data": {
      "text/plain": [
       "id                    0\n",
       "establishment_name    0\n",
       "address               0\n",
       "chain                 0\n",
       "establishment_type    0\n",
       "number_seats          0\n",
       "dtype: int64"
      ]
     },
     "execution_count": 8,
     "metadata": {},
     "output_type": "execute_result"
    }
   ],
   "source": [
    "# Confirming deletion of nulls\n",
    "print('Total Rows:', len(rest_data))\n",
    "rest_data.isnull().sum()"
   ]
  },
  {
   "cell_type": "markdown",
   "metadata": {},
   "source": [
    "<div class=\"alert alert-info\">\n",
    "We've removed 3 rows from our dataset where 'chain' was null since the dataset is large enough. Those 3 rows accounted for 0.03% of our data.\n",
    "</div>"
   ]
  },
  {
   "cell_type": "markdown",
   "metadata": {},
   "source": [
    "<a id='2.2heading'></a>"
   ]
  },
  {
   "cell_type": "markdown",
   "metadata": {},
   "source": [
    "### Data type replacement"
   ]
  },
  {
   "cell_type": "code",
   "execution_count": 9,
   "metadata": {},
   "outputs": [
    {
     "data": {
      "text/plain": [
       "id                     int64\n",
       "establishment_name    object\n",
       "address               object\n",
       "chain                 object\n",
       "establishment_type    object\n",
       "number_seats           int64\n",
       "dtype: object"
      ]
     },
     "execution_count": 9,
     "metadata": {},
     "output_type": "execute_result"
    }
   ],
   "source": [
    "# Check rest_data dtypes\n",
    "rest_data.dtypes"
   ]
  },
  {
   "cell_type": "code",
   "execution_count": 10,
   "metadata": {},
   "outputs": [],
   "source": [
    "# Change dtypes\n",
    "rest_data['chain'] = rest_data['chain'].astype('bool')\n",
    "rest_data['establishment_type'] = rest_data['establishment_type'].astype('category')"
   ]
  },
  {
   "cell_type": "code",
   "execution_count": 11,
   "metadata": {},
   "outputs": [
    {
     "data": {
      "text/plain": [
       "id                       int64\n",
       "establishment_name      object\n",
       "address                 object\n",
       "chain                     bool\n",
       "establishment_type    category\n",
       "number_seats             int64\n",
       "dtype: object"
      ]
     },
     "execution_count": 11,
     "metadata": {},
     "output_type": "execute_result"
    }
   ],
   "source": [
    "# Confirm new rest_data dtypes\n",
    "rest_data.dtypes"
   ]
  },
  {
   "cell_type": "markdown",
   "metadata": {},
   "source": [
    "<div class=\"alert alert-info\">\n",
    "We've successfully updated our data types.\n",
    "</div>"
   ]
  },
  {
   "cell_type": "markdown",
   "metadata": {},
   "source": [
    "<a id='2.3heading'></a>"
   ]
  },
  {
   "cell_type": "markdown",
   "metadata": {},
   "source": [
    "### Processing duplicates"
   ]
  },
  {
   "cell_type": "code",
   "execution_count": 12,
   "metadata": {},
   "outputs": [
    {
     "data": {
      "text/html": [
       "<div>\n",
       "<style scoped>\n",
       "    .dataframe tbody tr th:only-of-type {\n",
       "        vertical-align: middle;\n",
       "    }\n",
       "\n",
       "    .dataframe tbody tr th {\n",
       "        vertical-align: top;\n",
       "    }\n",
       "\n",
       "    .dataframe thead th {\n",
       "        text-align: right;\n",
       "    }\n",
       "</style>\n",
       "<table border=\"1\" class=\"dataframe\">\n",
       "  <thead>\n",
       "    <tr style=\"text-align: right;\">\n",
       "      <th></th>\n",
       "      <th>id</th>\n",
       "      <th>establishment_name</th>\n",
       "      <th>address</th>\n",
       "      <th>chain</th>\n",
       "      <th>establishment_type</th>\n",
       "      <th>number_seats</th>\n",
       "    </tr>\n",
       "  </thead>\n",
       "  <tbody>\n",
       "    <tr>\n",
       "      <td>0</td>\n",
       "      <td>11786</td>\n",
       "      <td>HABITAT COFFEE SHOP</td>\n",
       "      <td>3708 N EAGLE ROCK BLVD</td>\n",
       "      <td>False</td>\n",
       "      <td>Cafe</td>\n",
       "      <td>26</td>\n",
       "    </tr>\n",
       "    <tr>\n",
       "      <td>1</td>\n",
       "      <td>11787</td>\n",
       "      <td>REILLY'S</td>\n",
       "      <td>100 WORLD WAY # 120</td>\n",
       "      <td>False</td>\n",
       "      <td>Restaurant</td>\n",
       "      <td>9</td>\n",
       "    </tr>\n",
       "    <tr>\n",
       "      <td>2</td>\n",
       "      <td>11788</td>\n",
       "      <td>STREET CHURROS</td>\n",
       "      <td>6801 HOLLYWOOD BLVD # 253</td>\n",
       "      <td>False</td>\n",
       "      <td>Fast Food</td>\n",
       "      <td>20</td>\n",
       "    </tr>\n",
       "    <tr>\n",
       "      <td>3</td>\n",
       "      <td>11789</td>\n",
       "      <td>TRINITI ECHO PARK</td>\n",
       "      <td>1814 W SUNSET BLVD</td>\n",
       "      <td>False</td>\n",
       "      <td>Restaurant</td>\n",
       "      <td>22</td>\n",
       "    </tr>\n",
       "    <tr>\n",
       "      <td>4</td>\n",
       "      <td>11790</td>\n",
       "      <td>POLLEN</td>\n",
       "      <td>2100 ECHO PARK AVE</td>\n",
       "      <td>False</td>\n",
       "      <td>Restaurant</td>\n",
       "      <td>20</td>\n",
       "    </tr>\n",
       "  </tbody>\n",
       "</table>\n",
       "</div>"
      ],
      "text/plain": [
       "      id   establishment_name                    address  chain  \\\n",
       "0  11786  HABITAT COFFEE SHOP     3708 N EAGLE ROCK BLVD  False   \n",
       "1  11787             REILLY'S        100 WORLD WAY # 120  False   \n",
       "2  11788       STREET CHURROS  6801 HOLLYWOOD BLVD # 253  False   \n",
       "3  11789    TRINITI ECHO PARK         1814 W SUNSET BLVD  False   \n",
       "4  11790               POLLEN         2100 ECHO PARK AVE  False   \n",
       "\n",
       "  establishment_type  number_seats  \n",
       "0               Cafe            26  \n",
       "1         Restaurant             9  \n",
       "2          Fast Food            20  \n",
       "3         Restaurant            22  \n",
       "4         Restaurant            20  "
      ]
     },
     "execution_count": 12,
     "metadata": {},
     "output_type": "execute_result"
    }
   ],
   "source": [
    "rest_data.head()"
   ]
  },
  {
   "cell_type": "code",
   "execution_count": 13,
   "metadata": {},
   "outputs": [],
   "source": [
    "# Making new column for future use\n",
    "rest_data['street_only'] = rest_data['address']"
   ]
  },
  {
   "cell_type": "code",
   "execution_count": 14,
   "metadata": {},
   "outputs": [
    {
     "data": {
      "text/html": [
       "<div>\n",
       "<style scoped>\n",
       "    .dataframe tbody tr th:only-of-type {\n",
       "        vertical-align: middle;\n",
       "    }\n",
       "\n",
       "    .dataframe tbody tr th {\n",
       "        vertical-align: top;\n",
       "    }\n",
       "\n",
       "    .dataframe thead th {\n",
       "        text-align: right;\n",
       "    }\n",
       "</style>\n",
       "<table border=\"1\" class=\"dataframe\">\n",
       "  <thead>\n",
       "    <tr style=\"text-align: right;\">\n",
       "      <th></th>\n",
       "      <th>id</th>\n",
       "      <th>establishment_name</th>\n",
       "      <th>address</th>\n",
       "      <th>chain</th>\n",
       "      <th>establishment_type</th>\n",
       "      <th>number_seats</th>\n",
       "      <th>street_only</th>\n",
       "    </tr>\n",
       "  </thead>\n",
       "  <tbody>\n",
       "    <tr>\n",
       "      <td>0</td>\n",
       "      <td>11786</td>\n",
       "      <td>HABITATCOFFEESHOP</td>\n",
       "      <td>3708NEAGLEROCKBLVD</td>\n",
       "      <td>False</td>\n",
       "      <td>Cafe</td>\n",
       "      <td>26</td>\n",
       "      <td>3708 N EAGLE ROCK BLVD</td>\n",
       "    </tr>\n",
       "    <tr>\n",
       "      <td>1</td>\n",
       "      <td>11787</td>\n",
       "      <td>REILLYS</td>\n",
       "      <td>100WORLDWAY120</td>\n",
       "      <td>False</td>\n",
       "      <td>Restaurant</td>\n",
       "      <td>9</td>\n",
       "      <td>100 WORLD WAY # 120</td>\n",
       "    </tr>\n",
       "    <tr>\n",
       "      <td>2</td>\n",
       "      <td>11788</td>\n",
       "      <td>STREETCHURROS</td>\n",
       "      <td>6801HOLLYWOODBLVD253</td>\n",
       "      <td>False</td>\n",
       "      <td>Fast Food</td>\n",
       "      <td>20</td>\n",
       "      <td>6801 HOLLYWOOD BLVD # 253</td>\n",
       "    </tr>\n",
       "    <tr>\n",
       "      <td>3</td>\n",
       "      <td>11789</td>\n",
       "      <td>TRINITIECHOPARK</td>\n",
       "      <td>1814WSUNSETBLVD</td>\n",
       "      <td>False</td>\n",
       "      <td>Restaurant</td>\n",
       "      <td>22</td>\n",
       "      <td>1814 W SUNSET BLVD</td>\n",
       "    </tr>\n",
       "    <tr>\n",
       "      <td>4</td>\n",
       "      <td>11790</td>\n",
       "      <td>POLLEN</td>\n",
       "      <td>2100ECHOPARKAVE</td>\n",
       "      <td>False</td>\n",
       "      <td>Restaurant</td>\n",
       "      <td>20</td>\n",
       "      <td>2100 ECHO PARK AVE</td>\n",
       "    </tr>\n",
       "  </tbody>\n",
       "</table>\n",
       "</div>"
      ],
      "text/plain": [
       "      id establishment_name               address  chain establishment_type  \\\n",
       "0  11786  HABITATCOFFEESHOP    3708NEAGLEROCKBLVD  False               Cafe   \n",
       "1  11787            REILLYS        100WORLDWAY120  False         Restaurant   \n",
       "2  11788      STREETCHURROS  6801HOLLYWOODBLVD253  False          Fast Food   \n",
       "3  11789    TRINITIECHOPARK       1814WSUNSETBLVD  False         Restaurant   \n",
       "4  11790             POLLEN       2100ECHOPARKAVE  False         Restaurant   \n",
       "\n",
       "   number_seats                street_only  \n",
       "0            26     3708 N EAGLE ROCK BLVD  \n",
       "1             9        100 WORLD WAY # 120  \n",
       "2            20  6801 HOLLYWOOD BLVD # 253  \n",
       "3            22         1814 W SUNSET BLVD  \n",
       "4            20         2100 ECHO PARK AVE  "
      ]
     },
     "execution_count": 14,
     "metadata": {},
     "output_type": "execute_result"
    }
   ],
   "source": [
    "# Columns to only contain letters and numbers, to better pinpoint duplicates\n",
    "rest_data['establishment_name'] = rest_data['establishment_name'].str.replace('[^\\dA-Za-z]', '')\n",
    "rest_data['address'] = rest_data['address'].str.replace('[^\\dA-Za-z]', '')\n",
    "rest_data.head()"
   ]
  },
  {
   "cell_type": "code",
   "execution_count": 15,
   "metadata": {},
   "outputs": [
    {
     "name": "stdout",
     "output_type": "stream",
     "text": [
      "Total raw duplicates: 0\n"
     ]
    }
   ],
   "source": [
    "# Counting raw duplicates\n",
    "print('Total raw duplicates:', rest_data.duplicated().sum())"
   ]
  },
  {
   "cell_type": "code",
   "execution_count": 16,
   "metadata": {},
   "outputs": [
    {
     "data": {
      "text/html": [
       "<div>\n",
       "<style scoped>\n",
       "    .dataframe tbody tr th:only-of-type {\n",
       "        vertical-align: middle;\n",
       "    }\n",
       "\n",
       "    .dataframe tbody tr th {\n",
       "        vertical-align: top;\n",
       "    }\n",
       "\n",
       "    .dataframe thead th {\n",
       "        text-align: right;\n",
       "    }\n",
       "</style>\n",
       "<table border=\"1\" class=\"dataframe\">\n",
       "  <thead>\n",
       "    <tr style=\"text-align: right;\">\n",
       "      <th></th>\n",
       "      <th>id</th>\n",
       "      <th>establishment_name</th>\n",
       "      <th>address</th>\n",
       "      <th>chain</th>\n",
       "      <th>establishment_type</th>\n",
       "      <th>number_seats</th>\n",
       "      <th>street_only</th>\n",
       "    </tr>\n",
       "  </thead>\n",
       "  <tbody>\n",
       "    <tr>\n",
       "      <td>2308</td>\n",
       "      <td>14094</td>\n",
       "      <td>23RDSTCAFE</td>\n",
       "      <td>936W23RDST</td>\n",
       "      <td>False</td>\n",
       "      <td>Restaurant</td>\n",
       "      <td>32</td>\n",
       "      <td>936 W 23RD ST</td>\n",
       "    </tr>\n",
       "    <tr>\n",
       "      <td>7454</td>\n",
       "      <td>19240</td>\n",
       "      <td>23RDSTCAFE</td>\n",
       "      <td>936W23RDST</td>\n",
       "      <td>False</td>\n",
       "      <td>Restaurant</td>\n",
       "      <td>35</td>\n",
       "      <td>936 W 23RD ST</td>\n",
       "    </tr>\n",
       "    <tr>\n",
       "      <td>7063</td>\n",
       "      <td>18849</td>\n",
       "      <td>5STARMARKET</td>\n",
       "      <td>2700WVERNONAVE</td>\n",
       "      <td>False</td>\n",
       "      <td>Restaurant</td>\n",
       "      <td>1</td>\n",
       "      <td>2700 W VERNON AVE</td>\n",
       "    </tr>\n",
       "    <tr>\n",
       "      <td>3561</td>\n",
       "      <td>15347</td>\n",
       "      <td>5STARMARKET</td>\n",
       "      <td>2700WVERNONAVE</td>\n",
       "      <td>False</td>\n",
       "      <td>Restaurant</td>\n",
       "      <td>28</td>\n",
       "      <td>2700 W VERNON AVE</td>\n",
       "    </tr>\n",
       "    <tr>\n",
       "      <td>7772</td>\n",
       "      <td>19558</td>\n",
       "      <td>AUNTIEANNES</td>\n",
       "      <td>3650WMLKBLVD268A</td>\n",
       "      <td>True</td>\n",
       "      <td>Restaurant</td>\n",
       "      <td>13</td>\n",
       "      <td>3650 W MLK BLVD # #268A</td>\n",
       "    </tr>\n",
       "  </tbody>\n",
       "</table>\n",
       "</div>"
      ],
      "text/plain": [
       "         id establishment_name           address  chain establishment_type  \\\n",
       "2308  14094         23RDSTCAFE        936W23RDST  False         Restaurant   \n",
       "7454  19240         23RDSTCAFE        936W23RDST  False         Restaurant   \n",
       "7063  18849        5STARMARKET    2700WVERNONAVE  False         Restaurant   \n",
       "3561  15347        5STARMARKET    2700WVERNONAVE  False         Restaurant   \n",
       "7772  19558        AUNTIEANNES  3650WMLKBLVD268A   True         Restaurant   \n",
       "\n",
       "      number_seats              street_only  \n",
       "2308            32            936 W 23RD ST  \n",
       "7454            35            936 W 23RD ST  \n",
       "7063             1        2700 W VERNON AVE  \n",
       "3561            28        2700 W VERNON AVE  \n",
       "7772            13  3650 W MLK BLVD # #268A  "
      ]
     },
     "metadata": {},
     "output_type": "display_data"
    },
    {
     "name": "stdout",
     "output_type": "stream",
     "text": [
      "Total subset duplicates: 60\n"
     ]
    }
   ],
   "source": [
    "# Obtaining duplicates based on 'establishment_name' and 'address'\n",
    "rest_duplicates = rest_data[rest_data.duplicated(subset=['establishment_name', 'address'], keep=False)].sort_values(by='establishment_name')\n",
    "display(rest_duplicates.head())\n",
    "print('Total subset duplicates:', rest_data.duplicated(subset=['establishment_name', 'address']).sum())"
   ]
  },
  {
   "cell_type": "code",
   "execution_count": 17,
   "metadata": {},
   "outputs": [
    {
     "data": {
      "text/html": [
       "<div>\n",
       "<style scoped>\n",
       "    .dataframe tbody tr th:only-of-type {\n",
       "        vertical-align: middle;\n",
       "    }\n",
       "\n",
       "    .dataframe tbody tr th {\n",
       "        vertical-align: top;\n",
       "    }\n",
       "\n",
       "    .dataframe thead th {\n",
       "        text-align: right;\n",
       "    }\n",
       "</style>\n",
       "<table border=\"1\" class=\"dataframe\">\n",
       "  <thead>\n",
       "    <tr style=\"text-align: right;\">\n",
       "      <th></th>\n",
       "      <th>id</th>\n",
       "      <th>establishment_name</th>\n",
       "      <th>address</th>\n",
       "      <th>chain</th>\n",
       "      <th>establishment_type</th>\n",
       "      <th>number_seats</th>\n",
       "      <th>street_only</th>\n",
       "    </tr>\n",
       "  </thead>\n",
       "  <tbody>\n",
       "    <tr>\n",
       "      <td>7063</td>\n",
       "      <td>18849</td>\n",
       "      <td>5STARMARKET</td>\n",
       "      <td>2700WVERNONAVE</td>\n",
       "      <td>False</td>\n",
       "      <td>Restaurant</td>\n",
       "      <td>1</td>\n",
       "      <td>2700 W VERNON AVE</td>\n",
       "    </tr>\n",
       "    <tr>\n",
       "      <td>8414</td>\n",
       "      <td>20200</td>\n",
       "      <td>CHINAEXPRESS</td>\n",
       "      <td>8522SWESTERNAVEB</td>\n",
       "      <td>True</td>\n",
       "      <td>Fast Food</td>\n",
       "      <td>1</td>\n",
       "      <td>8522 S WESTERN AVE # #B</td>\n",
       "    </tr>\n",
       "    <tr>\n",
       "      <td>6228</td>\n",
       "      <td>18014</td>\n",
       "      <td>EDIBLEARRANGEMENTS</td>\n",
       "      <td>6100NFIGUEROASTSTEB</td>\n",
       "      <td>True</td>\n",
       "      <td>Restaurant</td>\n",
       "      <td>2</td>\n",
       "      <td>6100 N FIGUEROA ST STE #B</td>\n",
       "    </tr>\n",
       "    <tr>\n",
       "      <td>7211</td>\n",
       "      <td>18997</td>\n",
       "      <td>DOMINOSPIZZA</td>\n",
       "      <td>3309WPICOBLVD</td>\n",
       "      <td>True</td>\n",
       "      <td>Pizza</td>\n",
       "      <td>2</td>\n",
       "      <td>3309 W PICO BLVD</td>\n",
       "    </tr>\n",
       "    <tr>\n",
       "      <td>4464</td>\n",
       "      <td>16250</td>\n",
       "      <td>CHICKENNROLL</td>\n",
       "      <td>11111WILMINGTONAVE</td>\n",
       "      <td>False</td>\n",
       "      <td>Restaurant</td>\n",
       "      <td>2</td>\n",
       "      <td>11111 WILMINGTON AVE</td>\n",
       "    </tr>\n",
       "  </tbody>\n",
       "</table>\n",
       "</div>"
      ],
      "text/plain": [
       "         id  establishment_name              address  chain  \\\n",
       "7063  18849         5STARMARKET       2700WVERNONAVE  False   \n",
       "8414  20200        CHINAEXPRESS     8522SWESTERNAVEB   True   \n",
       "6228  18014  EDIBLEARRANGEMENTS  6100NFIGUEROASTSTEB   True   \n",
       "7211  18997        DOMINOSPIZZA        3309WPICOBLVD   True   \n",
       "4464  16250        CHICKENNROLL   11111WILMINGTONAVE  False   \n",
       "\n",
       "     establishment_type  number_seats                street_only  \n",
       "7063         Restaurant             1          2700 W VERNON AVE  \n",
       "8414          Fast Food             1    8522 S WESTERN AVE # #B  \n",
       "6228         Restaurant             2  6100 N FIGUEROA ST STE #B  \n",
       "7211              Pizza             2           3309 W PICO BLVD  \n",
       "4464         Restaurant             2       11111 WILMINGTON AVE  "
      ]
     },
     "execution_count": 17,
     "metadata": {},
     "output_type": "execute_result"
    }
   ],
   "source": [
    "# Dataframe of 60 duplicate rows to exclude - will delete duplicates with lower amount of seats\n",
    "rest_duplicates_exclude = rest_duplicates.sort_values('number_seats').drop_duplicates(subset=['establishment_name', 'address'], keep='first')\n",
    "rest_duplicates_exclude.head()"
   ]
  },
  {
   "cell_type": "code",
   "execution_count": 18,
   "metadata": {},
   "outputs": [
    {
     "data": {
      "text/html": [
       "<div>\n",
       "<style scoped>\n",
       "    .dataframe tbody tr th:only-of-type {\n",
       "        vertical-align: middle;\n",
       "    }\n",
       "\n",
       "    .dataframe tbody tr th {\n",
       "        vertical-align: top;\n",
       "    }\n",
       "\n",
       "    .dataframe thead th {\n",
       "        text-align: right;\n",
       "    }\n",
       "</style>\n",
       "<table border=\"1\" class=\"dataframe\">\n",
       "  <thead>\n",
       "    <tr style=\"text-align: right;\">\n",
       "      <th></th>\n",
       "      <th>id</th>\n",
       "      <th>establishment_name</th>\n",
       "      <th>address</th>\n",
       "      <th>chain</th>\n",
       "      <th>establishment_type</th>\n",
       "      <th>number_seats</th>\n",
       "      <th>street_only</th>\n",
       "    </tr>\n",
       "  </thead>\n",
       "  <tbody>\n",
       "    <tr>\n",
       "      <td>0</td>\n",
       "      <td>11786</td>\n",
       "      <td>HABITATCOFFEESHOP</td>\n",
       "      <td>3708NEAGLEROCKBLVD</td>\n",
       "      <td>False</td>\n",
       "      <td>Cafe</td>\n",
       "      <td>26</td>\n",
       "      <td>3708 N EAGLE ROCK BLVD</td>\n",
       "    </tr>\n",
       "    <tr>\n",
       "      <td>1</td>\n",
       "      <td>11787</td>\n",
       "      <td>REILLYS</td>\n",
       "      <td>100WORLDWAY120</td>\n",
       "      <td>False</td>\n",
       "      <td>Restaurant</td>\n",
       "      <td>9</td>\n",
       "      <td>100 WORLD WAY # 120</td>\n",
       "    </tr>\n",
       "    <tr>\n",
       "      <td>2</td>\n",
       "      <td>11788</td>\n",
       "      <td>STREETCHURROS</td>\n",
       "      <td>6801HOLLYWOODBLVD253</td>\n",
       "      <td>False</td>\n",
       "      <td>Fast Food</td>\n",
       "      <td>20</td>\n",
       "      <td>6801 HOLLYWOOD BLVD # 253</td>\n",
       "    </tr>\n",
       "    <tr>\n",
       "      <td>3</td>\n",
       "      <td>11789</td>\n",
       "      <td>TRINITIECHOPARK</td>\n",
       "      <td>1814WSUNSETBLVD</td>\n",
       "      <td>False</td>\n",
       "      <td>Restaurant</td>\n",
       "      <td>22</td>\n",
       "      <td>1814 W SUNSET BLVD</td>\n",
       "    </tr>\n",
       "    <tr>\n",
       "      <td>4</td>\n",
       "      <td>11790</td>\n",
       "      <td>POLLEN</td>\n",
       "      <td>2100ECHOPARKAVE</td>\n",
       "      <td>False</td>\n",
       "      <td>Restaurant</td>\n",
       "      <td>20</td>\n",
       "      <td>2100 ECHO PARK AVE</td>\n",
       "    </tr>\n",
       "  </tbody>\n",
       "</table>\n",
       "</div>"
      ],
      "text/plain": [
       "      id establishment_name               address  chain establishment_type  \\\n",
       "0  11786  HABITATCOFFEESHOP    3708NEAGLEROCKBLVD  False               Cafe   \n",
       "1  11787            REILLYS        100WORLDWAY120  False         Restaurant   \n",
       "2  11788      STREETCHURROS  6801HOLLYWOODBLVD253  False          Fast Food   \n",
       "3  11789    TRINITIECHOPARK       1814WSUNSETBLVD  False         Restaurant   \n",
       "4  11790             POLLEN       2100ECHOPARKAVE  False         Restaurant   \n",
       "\n",
       "   number_seats                street_only  \n",
       "0            26     3708 N EAGLE ROCK BLVD  \n",
       "1             9        100 WORLD WAY # 120  \n",
       "2            20  6801 HOLLYWOOD BLVD # 253  \n",
       "3            22         1814 W SUNSET BLVD  \n",
       "4            20         2100 ECHO PARK AVE  "
      ]
     },
     "execution_count": 18,
     "metadata": {},
     "output_type": "execute_result"
    }
   ],
   "source": [
    "#Removing duplicates from main dataframe\n",
    "rest_data = rest_data[~rest_data.id.isin(rest_duplicates_exclude.id)]\n",
    "rest_data.head()"
   ]
  },
  {
   "cell_type": "markdown",
   "metadata": {},
   "source": [
    "<div class=\"alert alert-info\">\n",
    "We've removed 60 duplicate rows from our dataset where establishment name and address were the same.\n",
    "</div>"
   ]
  },
  {
   "cell_type": "markdown",
   "metadata": {},
   "source": [
    "<a id='3heading'></a>"
   ]
  },
  {
   "cell_type": "markdown",
   "metadata": {},
   "source": [
    "## Data Analysis"
   ]
  },
  {
   "cell_type": "code",
   "execution_count": 19,
   "metadata": {},
   "outputs": [],
   "source": [
    "# Setting seaborn color palette\n",
    "plt.style.use('ggplot')"
   ]
  },
  {
   "cell_type": "markdown",
   "metadata": {},
   "source": [
    "<a id='3.1heading'></a>"
   ]
  },
  {
   "cell_type": "markdown",
   "metadata": {},
   "source": [
    "### Establishment Types Proportions"
   ]
  },
  {
   "cell_type": "code",
   "execution_count": 20,
   "metadata": {},
   "outputs": [
    {
     "data": {
      "image/png": "[encoded data removed]",
      "text/plain": [
       "<Figure size 720x360 with 1 Axes>"
      ]
     },
     "metadata": {},
     "output_type": "display_data"
    }
   ],
   "source": [
    "# Pie chart showing proportions of the various types of establishments\n",
    "colors = sns.color_palette(\"Blues\")\n",
    "\n",
    "rest_data.groupby('establishment_type').size().plot(kind='pie',\n",
    "                                                    labeldistance=None,\n",
    "                                                    colors = colors,\n",
    "                                                    autopct='%1.0f%%',  textprops={'color':\"y\"},\n",
    "                                                    figsize=(10, 5)\n",
    "                                                   )\n",
    "plt.title('Establishment Types Proportions')\n",
    "plt.ylabel(' ')\n",
    "plt.legend(bbox_to_anchor=(1, 1))\n",
    "plt.show()"
   ]
  },
  {
   "cell_type": "markdown",
   "metadata": {},
   "source": [
    "<div class=\"alert alert-info\">\n",
    "Our pie chart shows that a whopping 75% of establishments are restaurants. Fast food places account for 11%, and cafes account for 5%. Bakeries, pizza joints, and bars account for the rest, at 3% each.\n",
    "</div>"
   ]
  },
  {
   "cell_type": "markdown",
   "metadata": {},
   "source": [
    "<a id='3.2heading'></a>"
   ]
  },
  {
   "cell_type": "markdown",
   "metadata": {},
   "source": [
    "### Chain vs Nonchain Proportions"
   ]
  },
  {
   "cell_type": "code",
   "execution_count": 21,
   "metadata": {},
   "outputs": [
    {
     "data": {
      "image/png": "[encoded data removed]",
      "text/plain": [
       "<Figure size 720x360 with 1 Axes>"
      ]
     },
     "metadata": {},
     "output_type": "display_data"
    }
   ],
   "source": [
    "# Visualizing Chain vs Non-Chain\n",
    "rest_data.groupby('chain').size().plot(kind='pie',\n",
    "                                       labeldistance=None, \n",
    "                                       autopct='%1.0f%%',\n",
    "                                       figsize=(10, 5)\n",
    "                                      )\n",
    "plt.title('Percentage of Chains (True) vs Non-Chains (False)')\n",
    "plt.ylabel(' ')\n",
    "plt.legend(bbox_to_anchor=(1, 1))\n",
    "plt.show()"
   ]
  },
  {
   "cell_type": "markdown",
   "metadata": {},
   "source": [
    "<div class=\"alert alert-info\">\n",
    "Our pie chart shows that 38% of establishments in our dataset happen to be chains. The other 62% are not chains.\n",
    "</div>"
   ]
  },
  {
   "cell_type": "markdown",
   "metadata": {},
   "source": [
    "<a id='3.3heading'></a>"
   ]
  },
  {
   "cell_type": "markdown",
   "metadata": {},
   "source": [
    "### Which type of establishment is typically a chain?"
   ]
  },
  {
   "cell_type": "code",
   "execution_count": 22,
   "metadata": {},
   "outputs": [
    {
     "data": {
      "image/png": "[encoded data removed]",
      "text/plain": [
       "<Figure size 432x288 with 1 Axes>"
      ]
     },
     "metadata": {},
     "output_type": "display_data"
    }
   ],
   "source": [
    "# Visualizing count for types of establishments, and chains\n",
    "sns.countplot(rest_data['establishment_type'], hue=rest_data['chain'])\n",
    "plt.title('Establishment Types: Chains vs Non-Chains')\n",
    "plt.xlabel('Establishment Type')\n",
    "plt.legend(bbox_to_anchor=(1, 1))\n",
    "plt.show()"
   ]
  },
  {
   "cell_type": "markdown",
   "metadata": {},
   "source": [
    "<div class=\"alert alert-info\">\n",
    "Fast food establishments and cafes are typically chains. Restaurants and bars are mostly non-chains. There are only chain bakeries in the area. Might be an opportunity to enter a new market.\n",
    "\n",
    "</div>"
   ]
  },
  {
   "cell_type": "markdown",
   "metadata": {},
   "source": [
    "<a id='3.4heading'></a>"
   ]
  },
  {
   "cell_type": "markdown",
   "metadata": {},
   "source": [
    "### What characterizes chains?"
   ]
  },
  {
   "cell_type": "code",
   "execution_count": 23,
   "metadata": {},
   "outputs": [
    {
     "data": {
      "text/html": [
       "<div>\n",
       "<style scoped>\n",
       "    .dataframe tbody tr th:only-of-type {\n",
       "        vertical-align: middle;\n",
       "    }\n",
       "\n",
       "    .dataframe tbody tr th {\n",
       "        vertical-align: top;\n",
       "    }\n",
       "\n",
       "    .dataframe thead th {\n",
       "        text-align: right;\n",
       "    }\n",
       "</style>\n",
       "<table border=\"1\" class=\"dataframe\">\n",
       "  <thead>\n",
       "    <tr style=\"text-align: right;\">\n",
       "      <th></th>\n",
       "      <th>chain</th>\n",
       "      <th>establishment_type</th>\n",
       "      <th>establishment_name</th>\n",
       "      <th>number_seats</th>\n",
       "    </tr>\n",
       "  </thead>\n",
       "  <tbody>\n",
       "    <tr>\n",
       "      <td>0</td>\n",
       "      <td>False</td>\n",
       "      <td>Bar</td>\n",
       "      <td>4100BAR</td>\n",
       "      <td>3.0</td>\n",
       "    </tr>\n",
       "    <tr>\n",
       "      <td>1</td>\n",
       "      <td>False</td>\n",
       "      <td>Bar</td>\n",
       "      <td>69THFLOORBAR</td>\n",
       "      <td>28.0</td>\n",
       "    </tr>\n",
       "    <tr>\n",
       "      <td>2</td>\n",
       "      <td>False</td>\n",
       "      <td>Bar</td>\n",
       "      <td>ACCOMPLICEBARLITTLEFATTY</td>\n",
       "      <td>47.0</td>\n",
       "    </tr>\n",
       "    <tr>\n",
       "      <td>3</td>\n",
       "      <td>False</td>\n",
       "      <td>Bar</td>\n",
       "      <td>AHMANSONGROUNDGRANDBAR</td>\n",
       "      <td>14.0</td>\n",
       "    </tr>\n",
       "    <tr>\n",
       "      <td>4</td>\n",
       "      <td>False</td>\n",
       "      <td>Bar</td>\n",
       "      <td>AHMANSONWESTBAR</td>\n",
       "      <td>43.0</td>\n",
       "    </tr>\n",
       "  </tbody>\n",
       "</table>\n",
       "</div>"
      ],
      "text/plain": [
       "   chain establishment_type        establishment_name  number_seats\n",
       "0  False                Bar                   4100BAR           3.0\n",
       "1  False                Bar              69THFLOORBAR          28.0\n",
       "2  False                Bar  ACCOMPLICEBARLITTLEFATTY          47.0\n",
       "3  False                Bar    AHMANSONGROUNDGRANDBAR          14.0\n",
       "4  False                Bar           AHMANSONWESTBAR          43.0"
      ]
     },
     "metadata": {},
     "output_type": "display_data"
    },
    {
     "name": "stdout",
     "output_type": "stream",
     "text": [
      "Length: 8589\n"
     ]
    },
    {
     "data": {
      "text/html": [
       "<div>\n",
       "<style scoped>\n",
       "    .dataframe tbody tr th:only-of-type {\n",
       "        vertical-align: middle;\n",
       "    }\n",
       "\n",
       "    .dataframe tbody tr th {\n",
       "        vertical-align: top;\n",
       "    }\n",
       "\n",
       "    .dataframe thead th {\n",
       "        text-align: right;\n",
       "    }\n",
       "</style>\n",
       "<table border=\"1\" class=\"dataframe\">\n",
       "  <thead>\n",
       "    <tr style=\"text-align: right;\">\n",
       "      <th></th>\n",
       "      <th>establishment_name</th>\n",
       "      <th>id</th>\n",
       "    </tr>\n",
       "  </thead>\n",
       "  <tbody>\n",
       "    <tr>\n",
       "      <td>0</td>\n",
       "      <td>101ASIANKITCHENINC</td>\n",
       "      <td>1</td>\n",
       "    </tr>\n",
       "    <tr>\n",
       "      <td>1</td>\n",
       "      <td>101COFFEESHOP</td>\n",
       "      <td>1</td>\n",
       "    </tr>\n",
       "    <tr>\n",
       "      <td>2</td>\n",
       "      <td>10BELOWICECREAM</td>\n",
       "      <td>1</td>\n",
       "    </tr>\n",
       "    <tr>\n",
       "      <td>3</td>\n",
       "      <td>10E</td>\n",
       "      <td>1</td>\n",
       "    </tr>\n",
       "    <tr>\n",
       "      <td>4</td>\n",
       "      <td>161STREETPIZZERIA</td>\n",
       "      <td>1</td>\n",
       "    </tr>\n",
       "  </tbody>\n",
       "</table>\n",
       "</div>"
      ],
      "text/plain": [
       "   establishment_name  id\n",
       "0  101ASIANKITCHENINC   1\n",
       "1       101COFFEESHOP   1\n",
       "2     10BELOWICECREAM   1\n",
       "3                 10E   1\n",
       "4   161STREETPIZZERIA   1"
      ]
     },
     "metadata": {},
     "output_type": "display_data"
    },
    {
     "name": "stdout",
     "output_type": "stream",
     "text": [
      "Length: 8564\n"
     ]
    }
   ],
   "source": [
    "# Pivot table containing chain and non_chain avg. number of seats per establishment\n",
    "seats_pivot = rest_data.pivot_table(index=['chain', 'establishment_type', 'establishment_name'], values='number_seats', aggfunc='mean').reset_index(drop=False)\n",
    "display(seats_pivot.head())\n",
    "print('Length:', len(seats_pivot))\n",
    "\n",
    "# Pivot containing amount of establishments by name\n",
    "count_pivot = rest_data.groupby('establishment_name')['id'].count().reset_index(drop=False)\n",
    "display(count_pivot.head())\n",
    "print('Length:', len(count_pivot))"
   ]
  },
  {
   "cell_type": "code",
   "execution_count": 24,
   "metadata": {},
   "outputs": [
    {
     "data": {
      "text/html": [
       "<div>\n",
       "<style scoped>\n",
       "    .dataframe tbody tr th:only-of-type {\n",
       "        vertical-align: middle;\n",
       "    }\n",
       "\n",
       "    .dataframe tbody tr th {\n",
       "        vertical-align: top;\n",
       "    }\n",
       "\n",
       "    .dataframe thead th {\n",
       "        text-align: right;\n",
       "    }\n",
       "</style>\n",
       "<table border=\"1\" class=\"dataframe\">\n",
       "  <thead>\n",
       "    <tr style=\"text-align: right;\">\n",
       "      <th></th>\n",
       "      <th>chain</th>\n",
       "      <th>establishment_type</th>\n",
       "      <th>establishment_name</th>\n",
       "      <th>number_seats</th>\n",
       "      <th>id</th>\n",
       "    </tr>\n",
       "  </thead>\n",
       "  <tbody>\n",
       "    <tr>\n",
       "      <td>0</td>\n",
       "      <td>False</td>\n",
       "      <td>Bar</td>\n",
       "      <td>4100BAR</td>\n",
       "      <td>3.0</td>\n",
       "      <td>1</td>\n",
       "    </tr>\n",
       "    <tr>\n",
       "      <td>1</td>\n",
       "      <td>False</td>\n",
       "      <td>Bar</td>\n",
       "      <td>69THFLOORBAR</td>\n",
       "      <td>28.0</td>\n",
       "      <td>1</td>\n",
       "    </tr>\n",
       "    <tr>\n",
       "      <td>2</td>\n",
       "      <td>False</td>\n",
       "      <td>Bar</td>\n",
       "      <td>ACCOMPLICEBARLITTLEFATTY</td>\n",
       "      <td>47.0</td>\n",
       "      <td>1</td>\n",
       "    </tr>\n",
       "    <tr>\n",
       "      <td>3</td>\n",
       "      <td>False</td>\n",
       "      <td>Bar</td>\n",
       "      <td>AHMANSONGROUNDGRANDBAR</td>\n",
       "      <td>14.0</td>\n",
       "      <td>1</td>\n",
       "    </tr>\n",
       "    <tr>\n",
       "      <td>4</td>\n",
       "      <td>False</td>\n",
       "      <td>Bar</td>\n",
       "      <td>AHMANSONWESTBAR</td>\n",
       "      <td>43.0</td>\n",
       "      <td>1</td>\n",
       "    </tr>\n",
       "  </tbody>\n",
       "</table>\n",
       "</div>"
      ],
      "text/plain": [
       "   chain establishment_type        establishment_name  number_seats  id\n",
       "0  False                Bar                   4100BAR           3.0   1\n",
       "1  False                Bar              69THFLOORBAR          28.0   1\n",
       "2  False                Bar  ACCOMPLICEBARLITTLEFATTY          47.0   1\n",
       "3  False                Bar    AHMANSONGROUNDGRANDBAR          14.0   1\n",
       "4  False                Bar           AHMANSONWESTBAR          43.0   1"
      ]
     },
     "metadata": {},
     "output_type": "display_data"
    },
    {
     "name": "stdout",
     "output_type": "stream",
     "text": [
      "Length: 8589\n"
     ]
    }
   ],
   "source": [
    "# Merging both pivots\n",
    "cumulative_pivot = pd.merge(seats_pivot, count_pivot, on='establishment_name')\n",
    "display(cumulative_pivot.head())\n",
    "print('Length:', len(cumulative_pivot))"
   ]
  },
  {
   "cell_type": "code",
   "execution_count": 25,
   "metadata": {},
   "outputs": [
    {
     "data": {
      "image/png": "[encoded data removed]",
      "text/plain": [
       "<Figure size 432x288 with 1 Axes>"
      ]
     },
     "metadata": {},
     "output_type": "display_data"
    }
   ],
   "source": [
    "# scatterplot on id and number_seats, with chain as hue\n",
    "sns.scatterplot(data=cumulative_pivot, x='number_seats', y='id', hue='chain', alpha=0.75)\n",
    "plt.title('Chain vs Non-chain: # of locations and seats')\n",
    "plt.xlabel('Avg. Number of Seats')\n",
    "plt.ylabel('Number of Locations                          ', rotation=0)\n",
    "plt.show()"
   ]
  },
  {
   "cell_type": "markdown",
   "metadata": {},
   "source": [
    "<div class=\"alert alert-info\">\n",
    "Since we have a lot of data points, our chain values are in the way of our non-chain values. We will expand to multiple plots showing difference between chains/non-chains and establishments types.\n",
    "</div>"
   ]
  },
  {
   "cell_type": "code",
   "execution_count": 26,
   "metadata": {},
   "outputs": [],
   "source": [
    "# Indexing data chain and non-chain\n",
    "cumulative_data_chain = cumulative_pivot.loc[cumulative_pivot['chain'] == True]\n",
    "cumulative_data_non_chain = cumulative_pivot.loc[cumulative_pivot['chain'] == False]"
   ]
  },
  {
   "cell_type": "code",
   "execution_count": 27,
   "metadata": {},
   "outputs": [
    {
     "data": {
      "image/png": "[encoded data removed]",
      "text/plain": [
       "<Figure size 432x288 with 1 Axes>"
      ]
     },
     "metadata": {},
     "output_type": "display_data"
    },
    {
     "data": {
      "image/png": "[encoded data removed]",
      "text/plain": [
       "<Figure size 432x288 with 1 Axes>"
      ]
     },
     "metadata": {},
     "output_type": "display_data"
    }
   ],
   "source": [
    "# Scatterplot showing avg. number of seats by establishment_name number of locations for chains\n",
    "sns.scatterplot(data=cumulative_data_chain, x='number_seats', y='id', color='blue', hue='establishment_type')\n",
    "plt.ylim( [ 0, 50 ] )\n",
    "plt.title('Chains: # of locations and avg. seats')\n",
    "plt.xlabel('Avg. Number of Seats')\n",
    "plt.ylabel('Number of Locations                          ', rotation=0)\n",
    "plt.show()\n",
    "\n",
    "# Remove restaurants from second visualization\n",
    "cumulative_data_chain_2 = cumulative_data_chain.loc[cumulative_data_chain['establishment_type'] != 'Restaurant']\n",
    "\n",
    "sns.scatterplot(data=cumulative_data_chain_2, x='number_seats', y='id', color='blue', hue='establishment_type')\n",
    "plt.ylim( [ 0, 50 ] )\n",
    "plt.title('Chains: # of locations and avg. seats (excluding restaurants)')\n",
    "plt.xlabel('Avg. Number of Seats')\n",
    "plt.ylabel('Number of Locations                          ', rotation=0)\n",
    "plt.show()"
   ]
  },
  {
   "cell_type": "code",
   "execution_count": 28,
   "metadata": {},
   "outputs": [
    {
     "data": {
      "image/png": "[encoded data removed]",
      "text/plain": [
       "<Figure size 432x288 with 1 Axes>"
      ]
     },
     "metadata": {},
     "output_type": "display_data"
    },
    {
     "data": {
      "image/png": "[encoded data removed]",
      "text/plain": [
       "<Figure size 432x288 with 1 Axes>"
      ]
     },
     "metadata": {},
     "output_type": "display_data"
    }
   ],
   "source": [
    "# Scatterplot showing avg. number of seats by establishment_name number of locations for non-chains\n",
    "sns.scatterplot(data=cumulative_data_non_chain, x='number_seats', y='id', hue='establishment_type')\n",
    "plt.ylim( [ 0, 15 ] )\n",
    "plt.title('Non-chains: # of locations and avg. seats')\n",
    "plt.xlabel('Avg. Number of Seats')\n",
    "plt.ylabel('Number of Locations                             ', rotation=0)\n",
    "plt.show()\n",
    "\n",
    "# Remove restaurants from second visualization\n",
    "cumulative_data_non_chain_2 = cumulative_data_non_chain.loc[cumulative_data_non_chain['establishment_type'] != 'Restaurant']\n",
    "\n",
    "sns.scatterplot(data=cumulative_data_non_chain_2, x='number_seats', y='id', color='blue', hue='establishment_type')\n",
    "plt.ylim( [ 0, 15 ] )\n",
    "plt.title('Non-chains: # of locations and avg. seats (excluding restaurants)')\n",
    "plt.xlabel('Avg. Number of Seats')\n",
    "plt.ylabel('Number of Locations                             ', rotation=0)\n",
    "plt.show()"
   ]
  },
  {
   "cell_type": "markdown",
   "metadata": {},
   "source": [
    "<div class=\"alert alert-info\">\n",
    "<b>Main finding:</b>\n",
    "\n",
    "- According to our visualizations, chains usually have more number of locations and slightly higher number of seats.\n",
    "&emsp;  \n",
    "    \n",
    "<b>Other findings:</b>\n",
    "\n",
    "- There are a lot of establishment names that only have 1 location in our dataset, which is the case for both chains and non-chains.\n",
    "- Most restaurant names have 4 or less locations in the dataset, and have a full array of avg. number of seats\n",
    "- Pizza places usually have a smaller amount of seating\n",
    "- Fast food places and cafes are usually chains\n",
    "- Chain bakeries usually have a lot of seating capacity\n",
    "    \n",
    "</div>"
   ]
  },
  {
   "cell_type": "markdown",
   "metadata": {},
   "source": [
    "<a id='3.5heading'></a>"
   ]
  },
  {
   "cell_type": "markdown",
   "metadata": {},
   "source": [
    "### Average number of seats per establishment type"
   ]
  },
  {
   "cell_type": "code",
   "execution_count": 29,
   "metadata": {},
   "outputs": [
    {
     "data": {
      "text/html": [
       "<div>\n",
       "<style scoped>\n",
       "    .dataframe tbody tr th:only-of-type {\n",
       "        vertical-align: middle;\n",
       "    }\n",
       "\n",
       "    .dataframe tbody tr th {\n",
       "        vertical-align: top;\n",
       "    }\n",
       "\n",
       "    .dataframe thead th {\n",
       "        text-align: right;\n",
       "    }\n",
       "</style>\n",
       "<table border=\"1\" class=\"dataframe\">\n",
       "  <thead>\n",
       "    <tr style=\"text-align: right;\">\n",
       "      <th></th>\n",
       "      <th>establishment_type</th>\n",
       "      <th>number_seats</th>\n",
       "    </tr>\n",
       "  </thead>\n",
       "  <tbody>\n",
       "    <tr>\n",
       "      <td>0</td>\n",
       "      <td>Bakery</td>\n",
       "      <td>21.773852</td>\n",
       "    </tr>\n",
       "    <tr>\n",
       "      <td>1</td>\n",
       "      <td>Cafe</td>\n",
       "      <td>24.986175</td>\n",
       "    </tr>\n",
       "    <tr>\n",
       "      <td>2</td>\n",
       "      <td>Pizza</td>\n",
       "      <td>28.796178</td>\n",
       "    </tr>\n",
       "    <tr>\n",
       "      <td>3</td>\n",
       "      <td>Fast Food</td>\n",
       "      <td>31.820585</td>\n",
       "    </tr>\n",
       "    <tr>\n",
       "      <td>4</td>\n",
       "      <td>Bar</td>\n",
       "      <td>44.767123</td>\n",
       "    </tr>\n",
       "    <tr>\n",
       "      <td>5</td>\n",
       "      <td>Restaurant</td>\n",
       "      <td>48.150014</td>\n",
       "    </tr>\n",
       "  </tbody>\n",
       "</table>\n",
       "</div>"
      ],
      "text/plain": [
       "  establishment_type  number_seats\n",
       "0             Bakery     21.773852\n",
       "1               Cafe     24.986175\n",
       "2              Pizza     28.796178\n",
       "3          Fast Food     31.820585\n",
       "4                Bar     44.767123\n",
       "5         Restaurant     48.150014"
      ]
     },
     "execution_count": 29,
     "metadata": {},
     "output_type": "execute_result"
    }
   ],
   "source": [
    "# Obtaining average number of seats per establishment type\n",
    "seats_by_type = rest_data.groupby('establishment_type')['number_seats'].mean().sort_values(ascending=True).reset_index(drop=False)\n",
    "seats_by_type"
   ]
  },
  {
   "cell_type": "code",
   "execution_count": 30,
   "metadata": {},
   "outputs": [
    {
     "data": {
      "image/png": "[encoded data removed]",
      "text/plain": [
       "<Figure size 432x288 with 1 Axes>"
      ]
     },
     "metadata": {},
     "output_type": "display_data"
    }
   ],
   "source": [
    "# Plotting average number of seats by establishment type\n",
    "sns.barplot(x = 'establishment_type',\n",
    "            y = 'number_seats',\n",
    "            data = seats_by_type,\n",
    "            order=['Bakery', 'Cafe', 'Pizza', 'Fast Food', 'Bar', 'Restaurant'])\n",
    "plt.title('Average Number of Seats by Establishment Type')\n",
    "plt.xlabel('Establishment Type')\n",
    "plt.ylabel('Number of seats                          ', rotation=0)\n",
    "plt.show()"
   ]
  },
  {
   "cell_type": "markdown",
   "metadata": {},
   "source": [
    "<div class=\"alert alert-info\">\n",
    "Restaurants and bars on average have the greatest number of seats, surpassing the 40 average seats mark.\n",
    "</div>"
   ]
  },
  {
   "cell_type": "markdown",
   "metadata": {},
   "source": [
    "<a id='3.6heading'></a>"
   ]
  },
  {
   "cell_type": "markdown",
   "metadata": {},
   "source": [
    "### Top Ten Street by Number of Restaurants"
   ]
  },
  {
   "cell_type": "markdown",
   "metadata": {},
   "source": [
    "pip install pyap  \n",
    "import pyap  "
   ]
  },
  {
   "cell_type": "code",
   "execution_count": 31,
   "metadata": {},
   "outputs": [],
   "source": [
    "# Function to remove digits from list\n",
    "def remove(list):\n",
    "    pattern = '[0-9]'\n",
    "    list = [re.sub(pattern, '', i) for i in list]\n",
    "    return list"
   ]
  },
  {
   "cell_type": "code",
   "execution_count": 32,
   "metadata": {},
   "outputs": [
    {
     "data": {
      "text/html": [
       "<div>\n",
       "<style scoped>\n",
       "    .dataframe tbody tr th:only-of-type {\n",
       "        vertical-align: middle;\n",
       "    }\n",
       "\n",
       "    .dataframe tbody tr th {\n",
       "        vertical-align: top;\n",
       "    }\n",
       "\n",
       "    .dataframe thead th {\n",
       "        text-align: right;\n",
       "    }\n",
       "</style>\n",
       "<table border=\"1\" class=\"dataframe\">\n",
       "  <thead>\n",
       "    <tr style=\"text-align: right;\">\n",
       "      <th></th>\n",
       "      <th>id</th>\n",
       "      <th>establishment_name</th>\n",
       "      <th>address</th>\n",
       "      <th>chain</th>\n",
       "      <th>establishment_type</th>\n",
       "      <th>number_seats</th>\n",
       "      <th>street_only</th>\n",
       "    </tr>\n",
       "  </thead>\n",
       "  <tbody>\n",
       "    <tr>\n",
       "      <td>0</td>\n",
       "      <td>11786</td>\n",
       "      <td>HABITATCOFFEESHOP</td>\n",
       "      <td>3708NEAGLEROCKBLVD</td>\n",
       "      <td>False</td>\n",
       "      <td>Cafe</td>\n",
       "      <td>26</td>\n",
       "      <td>N EAGLE ROCK BLVD</td>\n",
       "    </tr>\n",
       "    <tr>\n",
       "      <td>1</td>\n",
       "      <td>11787</td>\n",
       "      <td>REILLYS</td>\n",
       "      <td>100WORLDWAY120</td>\n",
       "      <td>False</td>\n",
       "      <td>Restaurant</td>\n",
       "      <td>9</td>\n",
       "      <td>WORLD WAY #</td>\n",
       "    </tr>\n",
       "    <tr>\n",
       "      <td>2</td>\n",
       "      <td>11788</td>\n",
       "      <td>STREETCHURROS</td>\n",
       "      <td>6801HOLLYWOODBLVD253</td>\n",
       "      <td>False</td>\n",
       "      <td>Fast Food</td>\n",
       "      <td>20</td>\n",
       "      <td>HOLLYWOOD BLVD #</td>\n",
       "    </tr>\n",
       "    <tr>\n",
       "      <td>3</td>\n",
       "      <td>11789</td>\n",
       "      <td>TRINITIECHOPARK</td>\n",
       "      <td>1814WSUNSETBLVD</td>\n",
       "      <td>False</td>\n",
       "      <td>Restaurant</td>\n",
       "      <td>22</td>\n",
       "      <td>W SUNSET BLVD</td>\n",
       "    </tr>\n",
       "    <tr>\n",
       "      <td>4</td>\n",
       "      <td>11790</td>\n",
       "      <td>POLLEN</td>\n",
       "      <td>2100ECHOPARKAVE</td>\n",
       "      <td>False</td>\n",
       "      <td>Restaurant</td>\n",
       "      <td>20</td>\n",
       "      <td>ECHO PARK AVE</td>\n",
       "    </tr>\n",
       "  </tbody>\n",
       "</table>\n",
       "</div>"
      ],
      "text/plain": [
       "      id establishment_name               address  chain establishment_type  \\\n",
       "0  11786  HABITATCOFFEESHOP    3708NEAGLEROCKBLVD  False               Cafe   \n",
       "1  11787            REILLYS        100WORLDWAY120  False         Restaurant   \n",
       "2  11788      STREETCHURROS  6801HOLLYWOODBLVD253  False          Fast Food   \n",
       "3  11789    TRINITIECHOPARK       1814WSUNSETBLVD  False         Restaurant   \n",
       "4  11790             POLLEN       2100ECHOPARKAVE  False         Restaurant   \n",
       "\n",
       "   number_seats         street_only  \n",
       "0            26   N EAGLE ROCK BLVD  \n",
       "1             9        WORLD WAY #   \n",
       "2            20   HOLLYWOOD BLVD #   \n",
       "3            22       W SUNSET BLVD  \n",
       "4            20       ECHO PARK AVE  "
      ]
     },
     "execution_count": 32,
     "metadata": {},
     "output_type": "execute_result"
    }
   ],
   "source": [
    "# Adding street column, by removing digits from address column\n",
    "rest_data['street_only'] = remove(rest_data['street_only'])\n",
    "rest_data.head()"
   ]
  },
  {
   "cell_type": "markdown",
   "metadata": {},
   "source": [
    "Regex example\n",
    "rest_data['street'] = rest_data['address'].str.extract(r'^((?:\\S+\\s+){2}\\S+).*', expand=False)\n",
    "rest_data"
   ]
  },
  {
   "cell_type": "code",
   "execution_count": 33,
   "metadata": {},
   "outputs": [
    {
     "data": {
      "text/html": [
       "<div>\n",
       "<style scoped>\n",
       "    .dataframe tbody tr th:only-of-type {\n",
       "        vertical-align: middle;\n",
       "    }\n",
       "\n",
       "    .dataframe tbody tr th {\n",
       "        vertical-align: top;\n",
       "    }\n",
       "\n",
       "    .dataframe thead th {\n",
       "        text-align: right;\n",
       "    }\n",
       "</style>\n",
       "<table border=\"1\" class=\"dataframe\">\n",
       "  <thead>\n",
       "    <tr style=\"text-align: right;\">\n",
       "      <th></th>\n",
       "      <th>street_only</th>\n",
       "      <th>id</th>\n",
       "    </tr>\n",
       "  </thead>\n",
       "  <tbody>\n",
       "    <tr>\n",
       "      <td>0</td>\n",
       "      <td>W SUNSET BLVD</td>\n",
       "      <td>295</td>\n",
       "    </tr>\n",
       "    <tr>\n",
       "      <td>1</td>\n",
       "      <td>W PICO BLVD</td>\n",
       "      <td>287</td>\n",
       "    </tr>\n",
       "    <tr>\n",
       "      <td>2</td>\n",
       "      <td>HOLLYWOOD BLVD</td>\n",
       "      <td>167</td>\n",
       "    </tr>\n",
       "    <tr>\n",
       "      <td>3</td>\n",
       "      <td>WILSHIRE BLVD</td>\n",
       "      <td>161</td>\n",
       "    </tr>\n",
       "    <tr>\n",
       "      <td>4</td>\n",
       "      <td>S VERMONT AVE</td>\n",
       "      <td>147</td>\n",
       "    </tr>\n",
       "    <tr>\n",
       "      <td>5</td>\n",
       "      <td>SANTA MONICA BLVD</td>\n",
       "      <td>144</td>\n",
       "    </tr>\n",
       "    <tr>\n",
       "      <td>6</td>\n",
       "      <td>BEVERLY BLVD</td>\n",
       "      <td>134</td>\n",
       "    </tr>\n",
       "    <tr>\n",
       "      <td>7</td>\n",
       "      <td>S FIGUEROA ST</td>\n",
       "      <td>133</td>\n",
       "    </tr>\n",
       "    <tr>\n",
       "      <td>8</td>\n",
       "      <td>MELROSE AVE</td>\n",
       "      <td>128</td>\n",
       "    </tr>\n",
       "    <tr>\n",
       "      <td>9</td>\n",
       "      <td>S WESTERN AVE</td>\n",
       "      <td>126</td>\n",
       "    </tr>\n",
       "  </tbody>\n",
       "</table>\n",
       "</div>"
      ],
      "text/plain": [
       "          street_only   id\n",
       "0       W SUNSET BLVD  295\n",
       "1         W PICO BLVD  287\n",
       "2      HOLLYWOOD BLVD  167\n",
       "3       WILSHIRE BLVD  161\n",
       "4       S VERMONT AVE  147\n",
       "5   SANTA MONICA BLVD  144\n",
       "6        BEVERLY BLVD  134\n",
       "7       S FIGUEROA ST  133\n",
       "8         MELROSE AVE  128\n",
       "9       S WESTERN AVE  126"
      ]
     },
     "execution_count": 33,
     "metadata": {},
     "output_type": "execute_result"
    }
   ],
   "source": [
    "# Obtaining average number of seats per establishment type\n",
    "restaurants_in_streets = rest_data.groupby('street_only')['id'].count().sort_values(ascending=False).reset_index(drop=False)\n",
    "\n",
    "#R emoving 2 streets that are not accurate - they include many streets combined into one\n",
    "restaurants_in_streets_top_10 = restaurants_in_streets.head(12).query('id != (\"319\", \"146\")').reset_index(drop=True)\n",
    "\n",
    "restaurants_in_streets_top_10"
   ]
  },
  {
   "cell_type": "code",
   "execution_count": 34,
   "metadata": {},
   "outputs": [
    {
     "data": {
      "image/png": "[encoded data removed]",
      "text/plain": [
       "<Figure size 432x288 with 1 Axes>"
      ]
     },
     "metadata": {},
     "output_type": "display_data"
    }
   ],
   "source": [
    "# Plotting top ten streets by Number of Establishments\n",
    "sns.barplot(x = 'street_only',\n",
    "            y = 'id',\n",
    "            data = restaurants_in_streets_top_10\n",
    "           )\n",
    "plt.title('Top 10 Streets by Number of Establishments')\n",
    "plt.xlabel('Streets')\n",
    "plt.xticks(rotation=75)\n",
    "plt.ylabel('Establishments                          ', rotation=0)\n",
    "plt.show()"
   ]
  },
  {
   "cell_type": "markdown",
   "metadata": {},
   "source": [
    "<div class=\"alert alert-info\">\n",
    "Our bar chart shows us the Top 10 Streets in terms of number of establishments. W SUNSET BLVD and W PICO BLVD surpass the rest of the top 10 streets around twice their size.\n",
    "<div>"
   ]
  },
  {
   "cell_type": "markdown",
   "metadata": {},
   "source": [
    "<a id='3.7heading'></a>"
   ]
  },
  {
   "cell_type": "markdown",
   "metadata": {},
   "source": [
    "### Streets with only One Establishment"
   ]
  },
  {
   "cell_type": "code",
   "execution_count": 35,
   "metadata": {},
   "outputs": [
    {
     "data": {
      "text/html": [
       "<div>\n",
       "<style scoped>\n",
       "    .dataframe tbody tr th:only-of-type {\n",
       "        vertical-align: middle;\n",
       "    }\n",
       "\n",
       "    .dataframe tbody tr th {\n",
       "        vertical-align: top;\n",
       "    }\n",
       "\n",
       "    .dataframe thead th {\n",
       "        text-align: right;\n",
       "    }\n",
       "</style>\n",
       "<table border=\"1\" class=\"dataframe\">\n",
       "  <thead>\n",
       "    <tr style=\"text-align: right;\">\n",
       "      <th></th>\n",
       "      <th>street_only</th>\n",
       "      <th>id</th>\n",
       "    </tr>\n",
       "  </thead>\n",
       "  <tbody>\n",
       "    <tr>\n",
       "      <td>0</td>\n",
       "      <td>W TH ST</td>\n",
       "      <td>319</td>\n",
       "    </tr>\n",
       "    <tr>\n",
       "      <td>1</td>\n",
       "      <td>W SUNSET BLVD</td>\n",
       "      <td>295</td>\n",
       "    </tr>\n",
       "    <tr>\n",
       "      <td>2</td>\n",
       "      <td>W PICO BLVD</td>\n",
       "      <td>287</td>\n",
       "    </tr>\n",
       "    <tr>\n",
       "      <td>3</td>\n",
       "      <td>HOLLYWOOD BLVD</td>\n",
       "      <td>167</td>\n",
       "    </tr>\n",
       "    <tr>\n",
       "      <td>4</td>\n",
       "      <td>WILSHIRE BLVD</td>\n",
       "      <td>161</td>\n",
       "    </tr>\n",
       "  </tbody>\n",
       "</table>\n",
       "</div>"
      ],
      "text/plain": [
       "       street_only   id\n",
       "0          W TH ST  319\n",
       "1    W SUNSET BLVD  295\n",
       "2      W PICO BLVD  287\n",
       "3   HOLLYWOOD BLVD  167\n",
       "4    WILSHIRE BLVD  161"
      ]
     },
     "execution_count": 35,
     "metadata": {},
     "output_type": "execute_result"
    }
   ],
   "source": [
    "# Dataframe from section 3.6 which we'll work with\n",
    "restaurants_in_streets.head()"
   ]
  },
  {
   "cell_type": "code",
   "execution_count": 36,
   "metadata": {},
   "outputs": [
    {
     "data": {
      "text/html": [
       "<div>\n",
       "<style scoped>\n",
       "    .dataframe tbody tr th:only-of-type {\n",
       "        vertical-align: middle;\n",
       "    }\n",
       "\n",
       "    .dataframe tbody tr th {\n",
       "        vertical-align: top;\n",
       "    }\n",
       "\n",
       "    .dataframe thead th {\n",
       "        text-align: right;\n",
       "    }\n",
       "</style>\n",
       "<table border=\"1\" class=\"dataframe\">\n",
       "  <thead>\n",
       "    <tr style=\"text-align: right;\">\n",
       "      <th></th>\n",
       "      <th>street_only</th>\n",
       "      <th>id</th>\n",
       "      <th>street_establishments</th>\n",
       "    </tr>\n",
       "  </thead>\n",
       "  <tbody>\n",
       "    <tr>\n",
       "      <td>0</td>\n",
       "      <td>W TH ST</td>\n",
       "      <td>319</td>\n",
       "      <td>150-319</td>\n",
       "    </tr>\n",
       "    <tr>\n",
       "      <td>1</td>\n",
       "      <td>W SUNSET BLVD</td>\n",
       "      <td>295</td>\n",
       "      <td>150-319</td>\n",
       "    </tr>\n",
       "    <tr>\n",
       "      <td>2</td>\n",
       "      <td>W PICO BLVD</td>\n",
       "      <td>287</td>\n",
       "      <td>150-319</td>\n",
       "    </tr>\n",
       "    <tr>\n",
       "      <td>3</td>\n",
       "      <td>HOLLYWOOD BLVD</td>\n",
       "      <td>167</td>\n",
       "      <td>150-319</td>\n",
       "    </tr>\n",
       "    <tr>\n",
       "      <td>4</td>\n",
       "      <td>WILSHIRE BLVD</td>\n",
       "      <td>161</td>\n",
       "      <td>150-319</td>\n",
       "    </tr>\n",
       "  </tbody>\n",
       "</table>\n",
       "</div>"
      ],
      "text/plain": [
       "       street_only   id street_establishments\n",
       "0          W TH ST  319               150-319\n",
       "1    W SUNSET BLVD  295               150-319\n",
       "2      W PICO BLVD  287               150-319\n",
       "3   HOLLYWOOD BLVD  167               150-319\n",
       "4    WILSHIRE BLVD  161               150-319"
      ]
     },
     "execution_count": 36,
     "metadata": {},
     "output_type": "execute_result"
    }
   ],
   "source": [
    "# Categorizing rows by # of establishments in streets\n",
    "def street_establishments(id):\n",
    "    if id < 2:\n",
    "        return '1'\n",
    "    if id <= 3:\n",
    "        return '2-3'\n",
    "    if id <= 6:\n",
    "        return '4-6'\n",
    "    if id <= 20:\n",
    "        return '6-20'\n",
    "    if id <= 50:\n",
    "        return '21-50'\n",
    "    if id <= 150:\n",
    "        return '51-150'\n",
    "    if id <= 319:\n",
    "        return '150-319'\n",
    "\n",
    "restaurants_in_streets['street_establishments'] = restaurants_in_streets['id'].apply(street_establishments)\n",
    "restaurants_in_streets.head()"
   ]
  },
  {
   "cell_type": "code",
   "execution_count": 37,
   "metadata": {},
   "outputs": [
    {
     "data": {
      "text/html": [
       "<div>\n",
       "<style scoped>\n",
       "    .dataframe tbody tr th:only-of-type {\n",
       "        vertical-align: middle;\n",
       "    }\n",
       "\n",
       "    .dataframe tbody tr th {\n",
       "        vertical-align: top;\n",
       "    }\n",
       "\n",
       "    .dataframe thead th {\n",
       "        text-align: right;\n",
       "    }\n",
       "</style>\n",
       "<table border=\"1\" class=\"dataframe\">\n",
       "  <thead>\n",
       "    <tr style=\"text-align: right;\">\n",
       "      <th></th>\n",
       "      <th>street_only</th>\n",
       "      <th>id</th>\n",
       "      <th>street_establishments</th>\n",
       "    </tr>\n",
       "  </thead>\n",
       "  <tbody>\n",
       "    <tr>\n",
       "      <td>0</td>\n",
       "      <td>AVENUE OF THE STARS STE PK</td>\n",
       "      <td>1</td>\n",
       "      <td>1</td>\n",
       "    </tr>\n",
       "    <tr>\n",
       "      <td>1</td>\n",
       "      <td>CAHUENGA BLVD W STE</td>\n",
       "      <td>1</td>\n",
       "      <td>1</td>\n",
       "    </tr>\n",
       "    <tr>\n",
       "      <td>2</td>\n",
       "      <td>N CENTRAL AVE # #</td>\n",
       "      <td>1</td>\n",
       "      <td>1</td>\n",
       "    </tr>\n",
       "    <tr>\n",
       "      <td>3</td>\n",
       "      <td>N HOBART BLVD</td>\n",
       "      <td>1</td>\n",
       "      <td>1</td>\n",
       "    </tr>\n",
       "    <tr>\n",
       "      <td>4</td>\n",
       "      <td>BARTON AVE FL ND</td>\n",
       "      <td>1</td>\n",
       "      <td>1</td>\n",
       "    </tr>\n",
       "  </tbody>\n",
       "</table>\n",
       "</div>"
      ],
      "text/plain": [
       "                   street_only  id street_establishments\n",
       "0   AVENUE OF THE STARS STE PK   1                     1\n",
       "1         CAHUENGA BLVD W STE    1                     1\n",
       "2            N CENTRAL AVE # #   1                     1\n",
       "3                N HOBART BLVD   1                     1\n",
       "4             BARTON AVE FL ND   1                     1"
      ]
     },
     "execution_count": 37,
     "metadata": {},
     "output_type": "execute_result"
    }
   ],
   "source": [
    "# Querying streets with only one establishment # global variable used in visualization cell calculation\n",
    "one_restaurant_streets = restaurants_in_streets.query('id in (\"1\")').reset_index(drop=True)\n",
    "one_restaurant_streets.head()"
   ]
  },
  {
   "cell_type": "code",
   "execution_count": 38,
   "metadata": {},
   "outputs": [
    {
     "data": {
      "image/png": "[encoded data removed]",
      "text/plain": [
       "<Figure size 720x360 with 1 Axes>"
      ]
     },
     "metadata": {},
     "output_type": "display_data"
    },
    {
     "name": "stdout",
     "output_type": "stream",
     "text": [
      "Streets with 1 establishment: 65.39%\n"
     ]
    }
   ],
   "source": [
    "# Visualizing the amount of establishments in LA streets\n",
    "restaurants_in_streets.groupby('street_establishments').size().plot(kind='pie',\n",
    "                                                labeldistance=None,\n",
    "                                                autopct='%.2f',\n",
    "                                                figsize=(10, 5)\n",
    "                                                )\n",
    "plt.title('Number of Establishments in Individual Streets')\n",
    "plt.ylabel(' ')\n",
    "plt.legend(bbox_to_anchor=(1, 1))\n",
    "plt.show()\n",
    "\n",
    "# Percentage of streets with 1 establishment\n",
    "print('Streets with 1 establishment: {:.2%}'.format(len(one_restaurant_streets)/len(restaurants_in_streets)))"
   ]
  },
  {
   "cell_type": "markdown",
   "metadata": {},
   "source": [
    "<div class=\"alert alert-info\">\n",
    "<b>Findings:</b>\n",
    "\n",
    "- To our surprise, <b>65.39%</b> of streets in our dataset only have one establishment\n",
    "- <b>17.93%</b> of streets have 2-3 establishments\n",
    "- <b>6.99%</b> of streets have 4-6 establishments\n",
    "- <b>5.84%</b> of streets have 6-20 establishments\n",
    "- <b>3.07%</b> of streets have 21-50 establishments\n",
    "- <b>1.51%</b> of streets have 51-150 establishments\n",
    "- <b>0.25%</b> of streets have 6-20 establishments\n",
    "\n",
    "<div>"
   ]
  },
  {
   "cell_type": "markdown",
   "metadata": {},
   "source": [
    "<a id='3.8heading'></a>"
   ]
  },
  {
   "cell_type": "markdown",
   "metadata": {},
   "source": [
    "### Streets with lots of establishments and their amount of seats"
   ]
  },
  {
   "cell_type": "code",
   "execution_count": 39,
   "metadata": {},
   "outputs": [
    {
     "data": {
      "text/html": [
       "<div>\n",
       "<style scoped>\n",
       "    .dataframe tbody tr th:only-of-type {\n",
       "        vertical-align: middle;\n",
       "    }\n",
       "\n",
       "    .dataframe tbody tr th {\n",
       "        vertical-align: top;\n",
       "    }\n",
       "\n",
       "    .dataframe thead th {\n",
       "        text-align: right;\n",
       "    }\n",
       "</style>\n",
       "<table border=\"1\" class=\"dataframe\">\n",
       "  <thead>\n",
       "    <tr style=\"text-align: right;\">\n",
       "      <th></th>\n",
       "      <th>street_only</th>\n",
       "      <th>number_seats_average</th>\n",
       "    </tr>\n",
       "  </thead>\n",
       "  <tbody>\n",
       "    <tr>\n",
       "      <td>0</td>\n",
       "      <td>MULHOOLAND DR</td>\n",
       "      <td>229.0</td>\n",
       "    </tr>\n",
       "    <tr>\n",
       "      <td>1</td>\n",
       "      <td>MOUNTAIN GATE DR</td>\n",
       "      <td>229.0</td>\n",
       "    </tr>\n",
       "    <tr>\n",
       "      <td>2</td>\n",
       "      <td>S FLOWER ST ST</td>\n",
       "      <td>227.0</td>\n",
       "    </tr>\n",
       "    <tr>\n",
       "      <td>3</td>\n",
       "      <td>S BURLINGAME AVE</td>\n",
       "      <td>226.0</td>\n",
       "    </tr>\n",
       "    <tr>\n",
       "      <td>4</td>\n",
       "      <td>NAUD ST</td>\n",
       "      <td>225.0</td>\n",
       "    </tr>\n",
       "  </tbody>\n",
       "</table>\n",
       "</div>"
      ],
      "text/plain": [
       "         street_only  number_seats_average\n",
       "0      MULHOOLAND DR                 229.0\n",
       "1   MOUNTAIN GATE DR                 229.0\n",
       "2     S FLOWER ST ST                 227.0\n",
       "3   S BURLINGAME AVE                 226.0\n",
       "4            NAUD ST                 225.0"
      ]
     },
     "execution_count": 39,
     "metadata": {},
     "output_type": "execute_result"
    }
   ],
   "source": [
    "# Creating dataframe containing indvidual streets and their establishments' average number of seats\n",
    "avg_seats_in_streets = rest_data.groupby('street_only')['number_seats'].mean().sort_values(ascending=False).reset_index(drop=False)\n",
    "avg_seats_in_streets.rename(columns={'number_seats': 'number_seats_average'}, inplace=True)\n",
    "avg_seats_in_streets.head()"
   ]
  },
  {
   "cell_type": "code",
   "execution_count": 40,
   "metadata": {},
   "outputs": [
    {
     "data": {
      "text/html": [
       "<div>\n",
       "<style scoped>\n",
       "    .dataframe tbody tr th:only-of-type {\n",
       "        vertical-align: middle;\n",
       "    }\n",
       "\n",
       "    .dataframe tbody tr th {\n",
       "        vertical-align: top;\n",
       "    }\n",
       "\n",
       "    .dataframe thead th {\n",
       "        text-align: right;\n",
       "    }\n",
       "</style>\n",
       "<table border=\"1\" class=\"dataframe\">\n",
       "  <thead>\n",
       "    <tr style=\"text-align: right;\">\n",
       "      <th></th>\n",
       "      <th>street_only</th>\n",
       "      <th>id</th>\n",
       "      <th>street_establishments</th>\n",
       "      <th>number_seats_average</th>\n",
       "    </tr>\n",
       "  </thead>\n",
       "  <tbody>\n",
       "    <tr>\n",
       "      <td>0</td>\n",
       "      <td>W TH ST</td>\n",
       "      <td>319</td>\n",
       "      <td>150-319</td>\n",
       "      <td>49</td>\n",
       "    </tr>\n",
       "    <tr>\n",
       "      <td>1</td>\n",
       "      <td>W SUNSET BLVD</td>\n",
       "      <td>295</td>\n",
       "      <td>150-319</td>\n",
       "      <td>51</td>\n",
       "    </tr>\n",
       "    <tr>\n",
       "      <td>2</td>\n",
       "      <td>W PICO BLVD</td>\n",
       "      <td>287</td>\n",
       "      <td>150-319</td>\n",
       "      <td>41</td>\n",
       "    </tr>\n",
       "    <tr>\n",
       "      <td>3</td>\n",
       "      <td>HOLLYWOOD BLVD</td>\n",
       "      <td>167</td>\n",
       "      <td>150-319</td>\n",
       "      <td>53</td>\n",
       "    </tr>\n",
       "    <tr>\n",
       "      <td>4</td>\n",
       "      <td>WILSHIRE BLVD</td>\n",
       "      <td>161</td>\n",
       "      <td>150-319</td>\n",
       "      <td>62</td>\n",
       "    </tr>\n",
       "  </tbody>\n",
       "</table>\n",
       "</div>"
      ],
      "text/plain": [
       "       street_only   id street_establishments  number_seats_average\n",
       "0          W TH ST  319               150-319                    49\n",
       "1    W SUNSET BLVD  295               150-319                    51\n",
       "2      W PICO BLVD  287               150-319                    41\n",
       "3   HOLLYWOOD BLVD  167               150-319                    53\n",
       "4    WILSHIRE BLVD  161               150-319                    62"
      ]
     },
     "execution_count": 40,
     "metadata": {},
     "output_type": "execute_result"
    }
   ],
   "source": [
    "# Merging new dataframe with dataframe created in section 2.6\n",
    "street_data = pd.merge(restaurants_in_streets, avg_seats_in_streets, on='street_only')\n",
    "street_data['number_seats_average'] = street_data['number_seats_average'].astype('int')\n",
    "street_data.head()"
   ]
  },
  {
   "cell_type": "code",
   "execution_count": 41,
   "metadata": {},
   "outputs": [],
   "source": [
    "# Querying between establishments with many seats vs few seats\n",
    "street_data_many_est = street_data.query('street_establishments in (\"1\", \"2-3\", \"4-6\")')\n",
    "street_data_few_est = street_data.query('street_establishments not in (\"1\", \"2-3\", \"4-6\")')"
   ]
  },
  {
   "cell_type": "code",
   "execution_count": 42,
   "metadata": {},
   "outputs": [
    {
     "data": {
      "image/png": "[encoded data removed]",
      "text/plain": [
       "<Figure size 432x288 with 1 Axes>"
      ]
     },
     "metadata": {},
     "output_type": "display_data"
    }
   ],
   "source": [
    "#Plotting density histograms for both queries\n",
    "sns.distplot(street_data_many_est['number_seats_average']) # Red\n",
    "sns.distplot(street_data_few_est['number_seats_average']) # Blue\n",
    "\n",
    "plt.title('Avg. Number of Seats: Many vs Few establishments')\n",
    "plt.xlabel('Average Number of Seats')\n",
    "\n",
    "plt.show()"
   ]
  },
  {
   "cell_type": "markdown",
   "metadata": {},
   "source": [
    "<div class=\"alert alert-info\">\n",
    "Our red distribution shows that streets that contain many establishments, on average, have a higher amount of seats than streets with few establishments. The distribution of seats for streets with many establishments almost represents a normal distribution, while the other distribution contains a lot of outliers that skew the distribution to the right.\n",
    "</div>"
   ]
  },
  {
   "cell_type": "markdown",
   "metadata": {},
   "source": [
    "<a id='4heading'></a>"
   ]
  },
  {
   "cell_type": "markdown",
   "metadata": {},
   "source": [
    "## Overall Conclusion"
   ]
  },
  {
   "cell_type": "markdown",
   "metadata": {},
   "source": [
    "The the help of the data provided and visualizations made, we found out that a whopping 75% of establishments are restaurants. Fast food places account for 11%, and cafes account for 5%. Bakeries, pizza joints, and bars account for the rest, at 3% each\n",
    "\n",
    "We found out that 38% of establishments in our dataset happen to be chains. The other 62% are not chains. Fast food establishments and cafes are typically chains. Restaurants and bars are mostly non-chains. There are only chain bakeries in the area.\n",
    "\n",
    "Restaurants and bars on average have the greatest number of seats, surpassing the 40 average seats mark.\n",
    "\n",
    "About 85% of streets have 3 or less establishments present, which is a low amount of esablishments. Streets that contain many establishments, on average, have a higher amount of seats than streets with few establishments\n",
    "\n",
    "There are **two recommendations** we can provide based on our given data.\n",
    "- Open a chain restaurant with a lot of seating capacity (around 50), perhaps in a street with few establishments\n",
    "- Open a non-chain bakery with a moderate amount of seating capacity (around 20), in a popular street with a lot of establishments lacking a bakery\n",
    "\n",
    "Note: there are ZERO non-chain bakeries present in our dataset. Non-chain bakery can boast of sourcing fresh and local ingredients."
   ]
  },
  {
   "cell_type": "markdown",
   "metadata": {},
   "source": [
    "<div class=\"alert alert-block alert-success\">\n",
    "<b>Reviewer's comment v1:</b>\n",
    "    \n",
    "Great conclusions with main points and recommendations."
   ]
  },
  {
   "cell_type": "markdown",
   "metadata": {},
   "source": [
    "<a id='5heading'></a>"
   ]
  },
  {
   "cell_type": "markdown",
   "metadata": {},
   "source": [
    "## Presentation"
   ]
  },
  {
   "cell_type": "markdown",
   "metadata": {},
   "source": [
    "Presentation: <https://docs.google.com/presentation/d/1M-ciMgB2PcWMkRDeyrHOoOUd_AH-GN795hgFfA1w66o/edit?usp=sharing> "
   ]
  }
 ],
 "metadata": {
  "ExecuteTimeLog": [
   {
    "duration": 137,
    "start_time": "2022-01-07T22:03:46.897Z"
   },
   {
    "duration": 4,
    "start_time": "2022-01-07T22:04:30.928Z"
   },
   {
    "duration": 1491,
    "start_time": "2022-01-07T22:31:37.645Z"
   },
   {
    "duration": 231,
    "start_time": "2022-01-07T22:31:39.139Z"
   },
   {
    "duration": 490,
    "start_time": "2022-01-07T22:31:39.373Z"
   },
   {
    "duration": 22,
    "start_time": "2022-01-07T22:31:45.727Z"
   },
   {
    "duration": 55,
    "start_time": "2022-01-07T22:31:55.941Z"
   },
   {
    "duration": 25,
    "start_time": "2022-01-07T22:31:56.650Z"
   },
   {
    "duration": 1585,
    "start_time": "2022-01-07T22:44:06.234Z"
   },
   {
    "duration": 38,
    "start_time": "2022-01-07T22:44:07.822Z"
   },
   {
    "duration": 30,
    "start_time": "2022-01-07T22:44:07.862Z"
   },
   {
    "duration": 14,
    "start_time": "2022-01-07T22:44:07.895Z"
   },
   {
    "duration": 7,
    "start_time": "2022-01-07T22:46:29.333Z"
   },
   {
    "duration": 7,
    "start_time": "2022-01-07T22:48:33.816Z"
   },
   {
    "duration": 9,
    "start_time": "2022-01-07T22:48:33.968Z"
   },
   {
    "duration": 7,
    "start_time": "2022-01-07T22:48:34.120Z"
   },
   {
    "duration": 133,
    "start_time": "2022-01-07T22:49:15.835Z"
   },
   {
    "duration": 166,
    "start_time": "2022-01-07T22:49:16.718Z"
   },
   {
    "duration": 13,
    "start_time": "2022-01-07T22:49:40.395Z"
   },
   {
    "duration": 9,
    "start_time": "2022-01-07T22:52:31.974Z"
   },
   {
    "duration": 12,
    "start_time": "2022-01-07T22:52:32.666Z"
   },
   {
    "duration": 1517,
    "start_time": "2022-01-07T22:52:56.155Z"
   },
   {
    "duration": 37,
    "start_time": "2022-01-07T22:52:57.675Z"
   },
   {
    "duration": 45,
    "start_time": "2022-01-07T22:52:57.715Z"
   },
   {
    "duration": 11,
    "start_time": "2022-01-07T22:52:57.763Z"
   },
   {
    "duration": 13,
    "start_time": "2022-01-07T22:52:57.777Z"
   },
   {
    "duration": 14,
    "start_time": "2022-01-07T22:52:57.792Z"
   },
   {
    "duration": 61,
    "start_time": "2022-01-07T22:52:57.808Z"
   },
   {
    "duration": 12,
    "start_time": "2022-01-07T22:52:57.871Z"
   },
   {
    "duration": 7,
    "start_time": "2022-01-07T22:52:57.886Z"
   },
   {
    "duration": 18,
    "start_time": "2022-01-07T22:52:57.896Z"
   },
   {
    "duration": 10,
    "start_time": "2022-01-07T22:54:58.359Z"
   },
   {
    "duration": 1528,
    "start_time": "2022-01-10T01:47:59.022Z"
   },
   {
    "duration": 50,
    "start_time": "2022-01-10T01:48:00.553Z"
   },
   {
    "duration": 37,
    "start_time": "2022-01-10T01:48:00.606Z"
   },
   {
    "duration": 14,
    "start_time": "2022-01-10T01:48:00.663Z"
   },
   {
    "duration": 12,
    "start_time": "2022-01-10T01:48:00.681Z"
   },
   {
    "duration": 12,
    "start_time": "2022-01-10T01:48:00.696Z"
   },
   {
    "duration": 58,
    "start_time": "2022-01-10T01:48:00.710Z"
   },
   {
    "duration": 9,
    "start_time": "2022-01-10T01:48:00.772Z"
   },
   {
    "duration": 10,
    "start_time": "2022-01-10T01:48:00.783Z"
   },
   {
    "duration": 18,
    "start_time": "2022-01-10T01:48:00.795Z"
   },
   {
    "duration": 54,
    "start_time": "2022-01-10T01:48:00.815Z"
   },
   {
    "duration": 11,
    "start_time": "2022-01-10T01:55:29.748Z"
   },
   {
    "duration": 11,
    "start_time": "2022-01-10T01:55:39.387Z"
   },
   {
    "duration": 11,
    "start_time": "2022-01-10T01:55:43.976Z"
   },
   {
    "duration": 9,
    "start_time": "2022-01-10T01:56:23.420Z"
   },
   {
    "duration": 9,
    "start_time": "2022-01-10T01:58:52.349Z"
   },
   {
    "duration": 7,
    "start_time": "2022-01-10T01:59:30.715Z"
   },
   {
    "duration": 8,
    "start_time": "2022-01-10T01:59:31.059Z"
   },
   {
    "duration": 9,
    "start_time": "2022-01-10T01:59:43.430Z"
   },
   {
    "duration": 23,
    "start_time": "2022-01-10T01:59:44.151Z"
   },
   {
    "duration": 14,
    "start_time": "2022-01-10T02:00:06.080Z"
   },
   {
    "duration": 22,
    "start_time": "2022-01-10T02:00:08.589Z"
   },
   {
    "duration": 109,
    "start_time": "2022-01-10T02:01:13.234Z"
   },
   {
    "duration": 25,
    "start_time": "2022-01-10T02:01:14.040Z"
   },
   {
    "duration": 98,
    "start_time": "2022-01-10T02:01:40.289Z"
   },
   {
    "duration": 23,
    "start_time": "2022-01-10T02:01:40.884Z"
   },
   {
    "duration": 12,
    "start_time": "2022-01-10T02:02:00.012Z"
   },
   {
    "duration": 23,
    "start_time": "2022-01-10T02:02:00.652Z"
   },
   {
    "duration": 14,
    "start_time": "2022-01-10T02:02:17.122Z"
   },
   {
    "duration": 418,
    "start_time": "2022-01-10T02:06:05.814Z"
   },
   {
    "duration": 298,
    "start_time": "2022-01-10T02:06:16.491Z"
   },
   {
    "duration": 5352,
    "start_time": "2022-01-10T02:06:45.322Z"
   },
   {
    "duration": 1523,
    "start_time": "2022-01-10T02:06:57.934Z"
   },
   {
    "duration": 38,
    "start_time": "2022-01-10T02:06:59.460Z"
   },
   {
    "duration": 31,
    "start_time": "2022-01-10T02:06:59.502Z"
   },
   {
    "duration": 32,
    "start_time": "2022-01-10T02:06:59.536Z"
   },
   {
    "duration": 10,
    "start_time": "2022-01-10T02:06:59.570Z"
   },
   {
    "duration": 10,
    "start_time": "2022-01-10T02:06:59.583Z"
   },
   {
    "duration": 6,
    "start_time": "2022-01-10T02:06:59.596Z"
   },
   {
    "duration": 59,
    "start_time": "2022-01-10T02:06:59.604Z"
   },
   {
    "duration": 7,
    "start_time": "2022-01-10T02:06:59.666Z"
   },
   {
    "duration": 15,
    "start_time": "2022-01-10T02:06:59.675Z"
   },
   {
    "duration": 9,
    "start_time": "2022-01-10T02:06:59.692Z"
   },
   {
    "duration": 61,
    "start_time": "2022-01-10T02:06:59.703Z"
   },
   {
    "duration": 15,
    "start_time": "2022-01-10T02:06:59.767Z"
   },
   {
    "duration": 3436,
    "start_time": "2022-01-10T02:06:59.785Z"
   },
   {
    "duration": 943,
    "start_time": "2022-01-10T02:07:03.224Z"
   },
   {
    "duration": 24,
    "start_time": "2022-01-10T02:15:50.455Z"
   },
   {
    "duration": 26,
    "start_time": "2022-01-10T02:15:55.242Z"
   },
   {
    "duration": 673,
    "start_time": "2022-01-10T02:50:35.053Z"
   },
   {
    "duration": 472,
    "start_time": "2022-01-10T02:51:52.985Z"
   },
   {
    "duration": 457,
    "start_time": "2022-01-10T02:52:47.803Z"
   },
   {
    "duration": 354,
    "start_time": "2022-01-10T02:53:44.144Z"
   },
   {
    "duration": 276,
    "start_time": "2022-01-10T02:57:57.013Z"
   },
   {
    "duration": 289,
    "start_time": "2022-01-10T02:58:09.340Z"
   },
   {
    "duration": 11,
    "start_time": "2022-01-10T02:58:10.640Z"
   },
   {
    "duration": 282,
    "start_time": "2022-01-10T02:58:11.281Z"
   },
   {
    "duration": 303,
    "start_time": "2022-01-10T02:59:10.850Z"
   },
   {
    "duration": 305,
    "start_time": "2022-01-10T03:00:02.057Z"
   },
   {
    "duration": 568,
    "start_time": "2022-01-10T03:00:23.491Z"
   },
   {
    "duration": 418,
    "start_time": "2022-01-10T03:01:27.493Z"
   },
   {
    "duration": -176,
    "start_time": "2022-01-10T03:02:23.668Z"
   },
   {
    "duration": 4,
    "start_time": "2022-01-10T03:02:29.060Z"
   },
   {
    "duration": 542,
    "start_time": "2022-01-10T03:02:29.791Z"
   },
   {
    "duration": 1923,
    "start_time": "2022-01-10T03:02:54.384Z"
   },
   {
    "duration": 35,
    "start_time": "2022-01-10T03:02:56.310Z"
   },
   {
    "duration": 31,
    "start_time": "2022-01-10T03:02:56.349Z"
   },
   {
    "duration": 11,
    "start_time": "2022-01-10T03:02:56.383Z"
   },
   {
    "duration": 11,
    "start_time": "2022-01-10T03:02:56.401Z"
   },
   {
    "duration": 58,
    "start_time": "2022-01-10T03:02:56.414Z"
   },
   {
    "duration": 9,
    "start_time": "2022-01-10T03:02:56.475Z"
   },
   {
    "duration": 7,
    "start_time": "2022-01-10T03:02:56.490Z"
   },
   {
    "duration": 8,
    "start_time": "2022-01-10T03:02:56.500Z"
   },
   {
    "duration": 14,
    "start_time": "2022-01-10T03:02:56.564Z"
   },
   {
    "duration": 11,
    "start_time": "2022-01-10T03:02:56.582Z"
   },
   {
    "duration": 10,
    "start_time": "2022-01-10T03:02:56.596Z"
   },
   {
    "duration": 71,
    "start_time": "2022-01-10T03:02:56.608Z"
   },
   {
    "duration": 858,
    "start_time": "2022-01-10T03:02:56.682Z"
   },
   {
    "duration": 8,
    "start_time": "2022-01-10T03:03:02.896Z"
   },
   {
    "duration": 7,
    "start_time": "2022-01-10T03:03:03.415Z"
   },
   {
    "duration": 702,
    "start_time": "2022-01-10T03:11:40.363Z"
   },
   {
    "duration": 505,
    "start_time": "2022-01-10T03:12:07.129Z"
   },
   {
    "duration": 378,
    "start_time": "2022-01-10T03:12:43.410Z"
   },
   {
    "duration": 243,
    "start_time": "2022-01-10T03:12:51.105Z"
   },
   {
    "duration": 530,
    "start_time": "2022-01-10T03:13:52.610Z"
   },
   {
    "duration": 253,
    "start_time": "2022-01-10T03:13:57.876Z"
   },
   {
    "duration": 292,
    "start_time": "2022-01-10T03:14:53.705Z"
   },
   {
    "duration": 346,
    "start_time": "2022-01-10T03:15:39.501Z"
   },
   {
    "duration": 290,
    "start_time": "2022-01-10T03:15:40.082Z"
   },
   {
    "duration": 346,
    "start_time": "2022-01-10T03:16:09.016Z"
   },
   {
    "duration": 4,
    "start_time": "2022-01-10T03:16:27.371Z"
   },
   {
    "duration": 95,
    "start_time": "2022-01-10T03:16:28.245Z"
   },
   {
    "duration": 92,
    "start_time": "2022-01-10T03:16:33.711Z"
   },
   {
    "duration": 98,
    "start_time": "2022-01-10T03:16:37.771Z"
   },
   {
    "duration": 237,
    "start_time": "2022-01-10T03:16:44.251Z"
   },
   {
    "duration": 4,
    "start_time": "2022-01-10T03:16:51.610Z"
   },
   {
    "duration": 373,
    "start_time": "2022-01-10T03:16:54.856Z"
   },
   {
    "duration": -467,
    "start_time": "2022-01-10T03:16:55.700Z"
   },
   {
    "duration": 7,
    "start_time": "2022-01-10T03:17:10.929Z"
   },
   {
    "duration": 235,
    "start_time": "2022-01-10T03:17:11.545Z"
   },
   {
    "duration": 12,
    "start_time": "2022-01-10T03:18:52.635Z"
   },
   {
    "duration": 246,
    "start_time": "2022-01-10T03:18:53.229Z"
   },
   {
    "duration": 284,
    "start_time": "2022-01-10T03:19:17.290Z"
   },
   {
    "duration": -141,
    "start_time": "2022-01-10T03:19:17.718Z"
   },
   {
    "duration": 301,
    "start_time": "2022-01-10T03:19:32.486Z"
   },
   {
    "duration": 237,
    "start_time": "2022-01-10T03:19:33.527Z"
   },
   {
    "duration": 7,
    "start_time": "2022-01-10T03:20:33.283Z"
   },
   {
    "duration": 252,
    "start_time": "2022-01-10T03:20:33.863Z"
   },
   {
    "duration": 8,
    "start_time": "2022-01-10T03:20:56.825Z"
   },
   {
    "duration": 7,
    "start_time": "2022-01-10T03:21:06.826Z"
   },
   {
    "duration": 288,
    "start_time": "2022-01-10T03:21:11.337Z"
   },
   {
    "duration": 6,
    "start_time": "2022-01-10T03:21:24.586Z"
   },
   {
    "duration": 333,
    "start_time": "2022-01-10T03:21:25.995Z"
   },
   {
    "duration": 5,
    "start_time": "2022-01-10T03:21:57.041Z"
   },
   {
    "duration": 240,
    "start_time": "2022-01-10T03:21:58.012Z"
   },
   {
    "duration": 6,
    "start_time": "2022-01-10T03:22:14.866Z"
   },
   {
    "duration": 245,
    "start_time": "2022-01-10T03:22:15.672Z"
   },
   {
    "duration": 5,
    "start_time": "2022-01-10T03:22:20.806Z"
   },
   {
    "duration": 251,
    "start_time": "2022-01-10T03:22:21.982Z"
   },
   {
    "duration": 4,
    "start_time": "2022-01-10T03:22:33.637Z"
   },
   {
    "duration": 241,
    "start_time": "2022-01-10T03:22:34.251Z"
   },
   {
    "duration": 6,
    "start_time": "2022-01-10T03:23:19.015Z"
   },
   {
    "duration": 244,
    "start_time": "2022-01-10T03:23:19.645Z"
   },
   {
    "duration": 5,
    "start_time": "2022-01-10T03:23:44.173Z"
   },
   {
    "duration": 239,
    "start_time": "2022-01-10T03:23:44.532Z"
   },
   {
    "duration": 189,
    "start_time": "2022-01-10T03:24:50.583Z"
   },
   {
    "duration": 5,
    "start_time": "2022-01-10T03:26:04.480Z"
   },
   {
    "duration": 239,
    "start_time": "2022-01-10T03:26:05.088Z"
   },
   {
    "duration": 204,
    "start_time": "2022-01-10T03:26:09.161Z"
   },
   {
    "duration": 4,
    "start_time": "2022-01-10T03:26:28.023Z"
   },
   {
    "duration": 241,
    "start_time": "2022-01-10T03:26:28.573Z"
   },
   {
    "duration": 188,
    "start_time": "2022-01-10T03:26:32.066Z"
   },
   {
    "duration": 4,
    "start_time": "2022-01-10T03:27:09.588Z"
   },
   {
    "duration": 241,
    "start_time": "2022-01-10T03:27:10.477Z"
   },
   {
    "duration": 209,
    "start_time": "2022-01-10T03:27:17.664Z"
   },
   {
    "duration": 625,
    "start_time": "2022-01-10T03:28:45.607Z"
   },
   {
    "duration": 4,
    "start_time": "2022-01-10T03:28:53.204Z"
   },
   {
    "duration": 243,
    "start_time": "2022-01-10T03:28:53.952Z"
   },
   {
    "duration": 189,
    "start_time": "2022-01-10T03:28:56.798Z"
   },
   {
    "duration": 5,
    "start_time": "2022-01-10T03:32:02.990Z"
   },
   {
    "duration": 282,
    "start_time": "2022-01-10T03:32:49.921Z"
   },
   {
    "duration": 279,
    "start_time": "2022-01-10T03:33:14.640Z"
   },
   {
    "duration": 300,
    "start_time": "2022-01-10T03:34:06.942Z"
   },
   {
    "duration": 281,
    "start_time": "2022-01-10T03:34:11.150Z"
   },
   {
    "duration": 313,
    "start_time": "2022-01-10T03:34:25.513Z"
   },
   {
    "duration": 246,
    "start_time": "2022-01-10T03:35:48.675Z"
   },
   {
    "duration": 99,
    "start_time": "2022-01-10T03:36:22.101Z"
   },
   {
    "duration": 103,
    "start_time": "2022-01-10T03:36:32.584Z"
   },
   {
    "duration": 106,
    "start_time": "2022-01-10T03:36:40.694Z"
   },
   {
    "duration": 107,
    "start_time": "2022-01-10T03:36:47.303Z"
   },
   {
    "duration": 102,
    "start_time": "2022-01-10T03:36:52.208Z"
   },
   {
    "duration": 102,
    "start_time": "2022-01-10T03:36:58.499Z"
   },
   {
    "duration": 132,
    "start_time": "2022-01-10T03:37:22.196Z"
   },
   {
    "duration": 145,
    "start_time": "2022-01-10T03:38:10.958Z"
   },
   {
    "duration": 446,
    "start_time": "2022-01-10T03:38:32.459Z"
   },
   {
    "duration": 432,
    "start_time": "2022-01-10T03:39:21.821Z"
   },
   {
    "duration": 581,
    "start_time": "2022-01-10T03:39:56.851Z"
   },
   {
    "duration": 463,
    "start_time": "2022-01-10T03:40:07.112Z"
   },
   {
    "duration": 142,
    "start_time": "2022-01-10T03:40:30.782Z"
   },
   {
    "duration": 141,
    "start_time": "2022-01-10T03:40:55.474Z"
   },
   {
    "duration": 288,
    "start_time": "2022-01-10T03:54:28.068Z"
   },
   {
    "duration": 296,
    "start_time": "2022-01-10T03:55:30.542Z"
   },
   {
    "duration": 318,
    "start_time": "2022-01-10T03:55:37.650Z"
   },
   {
    "duration": 289,
    "start_time": "2022-01-10T03:56:11.513Z"
   },
   {
    "duration": 4,
    "start_time": "2022-01-10T03:56:47.402Z"
   },
   {
    "duration": 412,
    "start_time": "2022-01-10T03:56:48.282Z"
   },
   {
    "duration": 268,
    "start_time": "2022-01-10T03:56:56.955Z"
   },
   {
    "duration": 4,
    "start_time": "2022-01-10T03:57:08.102Z"
   },
   {
    "duration": 304,
    "start_time": "2022-01-10T03:57:08.618Z"
   },
   {
    "duration": 5,
    "start_time": "2022-01-10T03:57:25.932Z"
   },
   {
    "duration": 305,
    "start_time": "2022-01-10T03:57:26.576Z"
   },
   {
    "duration": 146,
    "start_time": "2022-01-10T03:57:27.023Z"
   },
   {
    "duration": 4,
    "start_time": "2022-01-10T03:57:38.568Z"
   },
   {
    "duration": 292,
    "start_time": "2022-01-10T03:57:39.274Z"
   },
   {
    "duration": 141,
    "start_time": "2022-01-10T03:57:44.103Z"
   },
   {
    "duration": 4,
    "start_time": "2022-01-10T03:57:56.975Z"
   },
   {
    "duration": 290,
    "start_time": "2022-01-10T03:57:57.908Z"
   },
   {
    "duration": 4,
    "start_time": "2022-01-10T03:58:08.173Z"
   },
   {
    "duration": 293,
    "start_time": "2022-01-10T03:58:08.358Z"
   },
   {
    "duration": 4,
    "start_time": "2022-01-10T03:58:21.754Z"
   },
   {
    "duration": 296,
    "start_time": "2022-01-10T03:58:23.195Z"
   },
   {
    "duration": 4,
    "start_time": "2022-01-10T03:58:35.324Z"
   },
   {
    "duration": 285,
    "start_time": "2022-01-10T03:58:35.772Z"
   },
   {
    "duration": 155,
    "start_time": "2022-01-10T03:58:36.267Z"
   },
   {
    "duration": 248,
    "start_time": "2022-01-10T03:58:52.944Z"
   },
   {
    "duration": 286,
    "start_time": "2022-01-10T03:58:56.774Z"
   },
   {
    "duration": 288,
    "start_time": "2022-01-10T04:00:28.014Z"
   },
   {
    "duration": 337,
    "start_time": "2022-01-10T04:00:43.129Z"
   },
   {
    "duration": 154,
    "start_time": "2022-01-10T04:00:53.024Z"
   },
   {
    "duration": 7,
    "start_time": "2022-01-10T04:15:23.558Z"
   },
   {
    "duration": 4,
    "start_time": "2022-01-10T04:15:28.548Z"
   },
   {
    "duration": 299,
    "start_time": "2022-01-10T04:15:29.010Z"
   },
   {
    "duration": 147,
    "start_time": "2022-01-10T04:15:37.898Z"
   },
   {
    "duration": 497,
    "start_time": "2022-01-10T04:15:55.372Z"
   },
   {
    "duration": 143,
    "start_time": "2022-01-10T04:16:47.068Z"
   },
   {
    "duration": 4,
    "start_time": "2022-01-10T04:16:55.705Z"
   },
   {
    "duration": 141,
    "start_time": "2022-01-10T04:16:56.687Z"
   },
   {
    "duration": 421,
    "start_time": "2022-01-10T04:17:04.546Z"
   },
   {
    "duration": 4,
    "start_time": "2022-01-10T04:17:19.127Z"
   },
   {
    "duration": 143,
    "start_time": "2022-01-10T04:17:19.807Z"
   },
   {
    "duration": 152,
    "start_time": "2022-01-10T04:17:43.037Z"
   },
   {
    "duration": 149,
    "start_time": "2022-01-10T04:17:53.115Z"
   },
   {
    "duration": 684,
    "start_time": "2022-01-10T04:18:31.161Z"
   },
   {
    "duration": 147,
    "start_time": "2022-01-10T04:18:37.623Z"
   },
   {
    "duration": 347,
    "start_time": "2022-01-10T04:19:14.817Z"
   },
   {
    "duration": 700,
    "start_time": "2022-01-10T04:21:49.192Z"
   },
   {
    "duration": 159,
    "start_time": "2022-01-10T04:21:53.590Z"
   },
   {
    "duration": 145,
    "start_time": "2022-01-10T04:21:56.106Z"
   },
   {
    "duration": 200,
    "start_time": "2022-01-10T04:22:25.094Z"
   },
   {
    "duration": 565,
    "start_time": "2022-01-10T04:23:00.027Z"
   },
   {
    "duration": 195,
    "start_time": "2022-01-10T04:24:30.189Z"
   },
   {
    "duration": 347,
    "start_time": "2022-01-10T04:26:26.920Z"
   },
   {
    "duration": 294,
    "start_time": "2022-01-10T04:29:15.865Z"
   },
   {
    "duration": 396,
    "start_time": "2022-01-10T04:29:25.265Z"
   },
   {
    "duration": 934,
    "start_time": "2022-01-10T04:29:46.305Z"
   },
   {
    "duration": 294,
    "start_time": "2022-01-10T04:29:57.645Z"
   },
   {
    "duration": 243,
    "start_time": "2022-01-10T04:33:28.691Z"
   },
   {
    "duration": 1057,
    "start_time": "2022-01-10T04:34:43.925Z"
   },
   {
    "duration": 250,
    "start_time": "2022-01-10T04:34:55.879Z"
   },
   {
    "duration": 241,
    "start_time": "2022-01-10T04:35:02.725Z"
   },
   {
    "duration": 324,
    "start_time": "2022-01-10T04:35:38.732Z"
   },
   {
    "duration": 332,
    "start_time": "2022-01-10T04:35:43.302Z"
   },
   {
    "duration": 186,
    "start_time": "2022-01-10T04:37:21.176Z"
   },
   {
    "duration": 739,
    "start_time": "2022-01-10T04:37:36.141Z"
   },
   {
    "duration": 235,
    "start_time": "2022-01-10T04:38:02.852Z"
   },
   {
    "duration": 465,
    "start_time": "2022-01-10T04:39:37.227Z"
   },
   {
    "duration": 480,
    "start_time": "2022-01-10T04:39:49.881Z"
   },
   {
    "duration": 225,
    "start_time": "2022-01-10T04:41:08.937Z"
   },
   {
    "duration": 356,
    "start_time": "2022-01-10T04:47:00.073Z"
   },
   {
    "duration": 338,
    "start_time": "2022-01-10T04:47:24.513Z"
   },
   {
    "duration": 285,
    "start_time": "2022-01-10T04:54:46.388Z"
   },
   {
    "duration": 136,
    "start_time": "2022-01-10T04:55:26.398Z"
   },
   {
    "duration": 363,
    "start_time": "2022-01-10T04:55:42.413Z"
   },
   {
    "duration": 892,
    "start_time": "2022-01-10T04:57:06.894Z"
   },
   {
    "duration": 230,
    "start_time": "2022-01-10T04:59:30.881Z"
   },
   {
    "duration": 518,
    "start_time": "2022-01-10T05:00:35.448Z"
   },
   {
    "duration": 437,
    "start_time": "2022-01-10T05:00:45.540Z"
   },
   {
    "duration": 1971,
    "start_time": "2022-01-10T05:01:48.534Z"
   },
   {
    "duration": 37,
    "start_time": "2022-01-10T05:01:50.507Z"
   },
   {
    "duration": 31,
    "start_time": "2022-01-10T05:01:50.547Z"
   },
   {
    "duration": 5,
    "start_time": "2022-01-10T05:01:50.581Z"
   },
   {
    "duration": 13,
    "start_time": "2022-01-10T05:01:50.589Z"
   },
   {
    "duration": 11,
    "start_time": "2022-01-10T05:01:50.604Z"
   },
   {
    "duration": 12,
    "start_time": "2022-01-10T05:01:50.664Z"
   },
   {
    "duration": 9,
    "start_time": "2022-01-10T05:01:50.679Z"
   },
   {
    "duration": 8341,
    "start_time": "2022-01-10T05:01:50.692Z"
   },
   {
    "duration": -718,
    "start_time": "2022-01-10T05:01:59.754Z"
   },
   {
    "duration": -721,
    "start_time": "2022-01-10T05:01:59.758Z"
   },
   {
    "duration": -758,
    "start_time": "2022-01-10T05:01:59.796Z"
   },
   {
    "duration": -760,
    "start_time": "2022-01-10T05:01:59.800Z"
   },
   {
    "duration": -902,
    "start_time": "2022-01-10T05:01:59.943Z"
   },
   {
    "duration": -903,
    "start_time": "2022-01-10T05:01:59.945Z"
   },
   {
    "duration": -906,
    "start_time": "2022-01-10T05:01:59.949Z"
   },
   {
    "duration": -908,
    "start_time": "2022-01-10T05:01:59.952Z"
   },
   {
    "duration": -908,
    "start_time": "2022-01-10T05:01:59.954Z"
   },
   {
    "duration": 8,
    "start_time": "2022-01-10T05:02:14.506Z"
   },
   {
    "duration": 8,
    "start_time": "2022-01-10T05:02:14.517Z"
   },
   {
    "duration": 12,
    "start_time": "2022-01-10T05:02:14.528Z"
   },
   {
    "duration": 7,
    "start_time": "2022-01-10T05:02:14.543Z"
   },
   {
    "duration": 15,
    "start_time": "2022-01-10T05:02:14.553Z"
   },
   {
    "duration": 4,
    "start_time": "2022-01-10T05:02:16.730Z"
   },
   {
    "duration": 299,
    "start_time": "2022-01-10T05:02:17.180Z"
   },
   {
    "duration": 212,
    "start_time": "2022-01-10T05:02:20.051Z"
   },
   {
    "duration": 144,
    "start_time": "2022-01-10T05:02:22.559Z"
   },
   {
    "duration": 306,
    "start_time": "2022-01-10T05:02:27.426Z"
   },
   {
    "duration": 5,
    "start_time": "2022-01-10T05:02:42.180Z"
   },
   {
    "duration": 322,
    "start_time": "2022-01-10T05:02:43.056Z"
   },
   {
    "duration": 215,
    "start_time": "2022-01-10T05:02:44.068Z"
   },
   {
    "duration": 140,
    "start_time": "2022-01-10T05:02:46.960Z"
   },
   {
    "duration": 292,
    "start_time": "2022-01-10T05:02:59.844Z"
   },
   {
    "duration": 587,
    "start_time": "2022-01-10T05:03:03.353Z"
   },
   {
    "duration": 779,
    "start_time": "2022-01-10T05:03:59.758Z"
   },
   {
    "duration": 589,
    "start_time": "2022-01-10T05:04:18.748Z"
   },
   {
    "duration": 625,
    "start_time": "2022-01-10T05:04:20.523Z"
   },
   {
    "duration": 133,
    "start_time": "2022-01-10T05:06:51.120Z"
   },
   {
    "duration": 134,
    "start_time": "2022-01-10T05:07:32.617Z"
   },
   {
    "duration": 136,
    "start_time": "2022-01-10T05:07:49.496Z"
   },
   {
    "duration": 162,
    "start_time": "2022-01-10T05:08:07.689Z"
   },
   {
    "duration": 166,
    "start_time": "2022-01-10T05:08:19.287Z"
   },
   {
    "duration": 168,
    "start_time": "2022-01-10T05:09:25.530Z"
   },
   {
    "duration": 165,
    "start_time": "2022-01-10T05:09:43.201Z"
   },
   {
    "duration": 313,
    "start_time": "2022-01-10T05:10:42.374Z"
   },
   {
    "duration": 321,
    "start_time": "2022-01-10T05:10:51.664Z"
   },
   {
    "duration": 9801,
    "start_time": "2022-01-10T05:29:12.462Z"
   },
   {
    "duration": 6411,
    "start_time": "2022-01-10T05:29:24.635Z"
   },
   {
    "duration": 6140,
    "start_time": "2022-01-10T05:29:38.438Z"
   },
   {
    "duration": 1575,
    "start_time": "2022-01-10T05:32:07.676Z"
   },
   {
    "duration": 1339,
    "start_time": "2022-01-10T05:32:47.540Z"
   },
   {
    "duration": 920,
    "start_time": "2022-01-10T05:34:41.549Z"
   },
   {
    "duration": 1081,
    "start_time": "2022-01-10T05:34:56.686Z"
   },
   {
    "duration": 1215,
    "start_time": "2022-01-10T05:35:14.830Z"
   },
   {
    "duration": 8,
    "start_time": "2022-01-10T05:37:07.512Z"
   },
   {
    "duration": 1941,
    "start_time": "2022-01-10T05:37:26.554Z"
   },
   {
    "duration": 38,
    "start_time": "2022-01-10T05:37:28.498Z"
   },
   {
    "duration": 41,
    "start_time": "2022-01-10T05:37:28.540Z"
   },
   {
    "duration": 8,
    "start_time": "2022-01-10T05:37:28.584Z"
   },
   {
    "duration": 15,
    "start_time": "2022-01-10T05:37:28.594Z"
   },
   {
    "duration": 51,
    "start_time": "2022-01-10T05:37:28.612Z"
   },
   {
    "duration": 13,
    "start_time": "2022-01-10T05:37:28.666Z"
   },
   {
    "duration": 7,
    "start_time": "2022-01-10T05:37:28.681Z"
   },
   {
    "duration": 8,
    "start_time": "2022-01-10T05:37:28.692Z"
   },
   {
    "duration": 7,
    "start_time": "2022-01-10T05:37:28.703Z"
   },
   {
    "duration": 13,
    "start_time": "2022-01-10T05:37:28.764Z"
   },
   {
    "duration": 8,
    "start_time": "2022-01-10T05:37:28.779Z"
   },
   {
    "duration": 11,
    "start_time": "2022-01-10T05:37:28.790Z"
   },
   {
    "duration": 3,
    "start_time": "2022-01-10T05:37:28.804Z"
   },
   {
    "duration": 265,
    "start_time": "2022-01-10T05:37:28.810Z"
   },
   {
    "duration": 177,
    "start_time": "2022-01-10T05:37:29.078Z"
   },
   {
    "duration": 318,
    "start_time": "2022-01-10T05:37:29.262Z"
   },
   {
    "duration": 6085,
    "start_time": "2022-01-10T05:37:29.583Z"
   },
   {
    "duration": 1187,
    "start_time": "2022-01-10T05:37:35.671Z"
   },
   {
    "duration": 16,
    "start_time": "2022-01-10T05:42:17.869Z"
   },
   {
    "duration": 503,
    "start_time": "2022-01-10T05:42:22.971Z"
   },
   {
    "duration": 14,
    "start_time": "2022-01-10T05:42:34.773Z"
   },
   {
    "duration": 26,
    "start_time": "2022-01-10T05:43:07.768Z"
   },
   {
    "duration": 11,
    "start_time": "2022-01-10T05:43:51.911Z"
   },
   {
    "duration": 279,
    "start_time": "2022-01-10T05:46:59.348Z"
   },
   {
    "duration": 291,
    "start_time": "2022-01-10T05:47:09.517Z"
   },
   {
    "duration": 293,
    "start_time": "2022-01-10T05:47:15.784Z"
   },
   {
    "duration": 293,
    "start_time": "2022-01-10T05:49:26.335Z"
   },
   {
    "duration": 6,
    "start_time": "2022-01-10T05:50:03.367Z"
   },
   {
    "duration": 5,
    "start_time": "2022-01-10T05:50:11.119Z"
   },
   {
    "duration": 6,
    "start_time": "2022-01-10T05:50:11.287Z"
   },
   {
    "duration": 10,
    "start_time": "2022-01-10T05:55:12.104Z"
   },
   {
    "duration": 279,
    "start_time": "2022-01-10T05:55:32.815Z"
   },
   {
    "duration": 10,
    "start_time": "2022-01-10T05:56:13.147Z"
   },
   {
    "duration": 11,
    "start_time": "2022-01-10T05:56:19.119Z"
   },
   {
    "duration": 235,
    "start_time": "2022-01-10T05:57:26.684Z"
   },
   {
    "duration": 306,
    "start_time": "2022-01-10T05:57:52.822Z"
   },
   {
    "duration": 11,
    "start_time": "2022-01-10T05:58:29.401Z"
   },
   {
    "duration": 16,
    "start_time": "2022-01-10T05:58:33.862Z"
   },
   {
    "duration": 507,
    "start_time": "2022-01-10T05:58:47.177Z"
   },
   {
    "duration": 281,
    "start_time": "2022-01-10T05:59:23.056Z"
   },
   {
    "duration": 249,
    "start_time": "2022-01-10T05:59:38.910Z"
   },
   {
    "duration": 560,
    "start_time": "2022-01-10T05:59:54.737Z"
   },
   {
    "duration": 263,
    "start_time": "2022-01-10T06:00:12.617Z"
   },
   {
    "duration": 290,
    "start_time": "2022-01-10T06:01:22.107Z"
   },
   {
    "duration": 1402,
    "start_time": "2022-01-10T06:02:01.516Z"
   },
   {
    "duration": 250,
    "start_time": "2022-01-10T06:02:55.640Z"
   },
   {
    "duration": 260,
    "start_time": "2022-01-10T06:03:47.516Z"
   },
   {
    "duration": 265,
    "start_time": "2022-01-10T06:03:55.285Z"
   },
   {
    "duration": 402,
    "start_time": "2022-01-10T06:03:59.835Z"
   },
   {
    "duration": 276,
    "start_time": "2022-01-10T06:04:04.262Z"
   },
   {
    "duration": 269,
    "start_time": "2022-01-10T06:04:09.656Z"
   },
   {
    "duration": 267,
    "start_time": "2022-01-10T06:04:27.719Z"
   },
   {
    "duration": 270,
    "start_time": "2022-01-10T06:04:43.797Z"
   },
   {
    "duration": 269,
    "start_time": "2022-01-10T06:05:00.490Z"
   },
   {
    "duration": 272,
    "start_time": "2022-01-10T06:05:12.602Z"
   },
   {
    "duration": 27,
    "start_time": "2022-01-10T06:18:43.782Z"
   },
   {
    "duration": 28,
    "start_time": "2022-01-10T06:18:50.889Z"
   },
   {
    "duration": 26,
    "start_time": "2022-01-10T06:18:59.702Z"
   },
   {
    "duration": 16,
    "start_time": "2022-01-10T06:21:09.223Z"
   },
   {
    "duration": 808,
    "start_time": "2022-01-10T06:33:52.146Z"
   },
   {
    "duration": 4,
    "start_time": "2022-01-10T06:34:07.588Z"
   },
   {
    "duration": 978,
    "start_time": "2022-01-10T06:34:08.312Z"
   },
   {
    "duration": 694,
    "start_time": "2022-01-10T06:34:39.813Z"
   },
   {
    "duration": 554,
    "start_time": "2022-01-10T06:36:23.293Z"
   },
   {
    "duration": 388,
    "start_time": "2022-01-10T06:37:00.068Z"
   },
   {
    "duration": 533,
    "start_time": "2022-01-10T06:38:31.318Z"
   },
   {
    "duration": 727,
    "start_time": "2022-01-10T06:42:37.186Z"
   },
   {
    "duration": 409,
    "start_time": "2022-01-10T06:44:13.748Z"
   },
   {
    "duration": 321,
    "start_time": "2022-01-10T06:46:38.511Z"
   },
   {
    "duration": 21,
    "start_time": "2022-01-10T06:46:45.691Z"
   },
   {
    "duration": 47,
    "start_time": "2022-01-10T06:46:51.807Z"
   },
   {
    "duration": 41,
    "start_time": "2022-01-10T06:47:13.456Z"
   },
   {
    "duration": 44,
    "start_time": "2022-01-10T06:47:23.830Z"
   },
   {
    "duration": 42,
    "start_time": "2022-01-10T06:50:07.377Z"
   },
   {
    "duration": 1963,
    "start_time": "2022-01-10T06:50:24.111Z"
   },
   {
    "duration": 36,
    "start_time": "2022-01-10T06:50:26.077Z"
   },
   {
    "duration": 50,
    "start_time": "2022-01-10T06:50:26.119Z"
   },
   {
    "duration": 8,
    "start_time": "2022-01-10T06:50:26.172Z"
   },
   {
    "duration": 15,
    "start_time": "2022-01-10T06:50:26.182Z"
   },
   {
    "duration": 10,
    "start_time": "2022-01-10T06:50:26.200Z"
   },
   {
    "duration": 56,
    "start_time": "2022-01-10T06:50:26.213Z"
   },
   {
    "duration": 7,
    "start_time": "2022-01-10T06:50:26.273Z"
   },
   {
    "duration": 10,
    "start_time": "2022-01-10T06:50:26.283Z"
   },
   {
    "duration": 8,
    "start_time": "2022-01-10T06:50:26.295Z"
   },
   {
    "duration": 68,
    "start_time": "2022-01-10T06:50:26.305Z"
   },
   {
    "duration": 8,
    "start_time": "2022-01-10T06:50:26.376Z"
   },
   {
    "duration": 13,
    "start_time": "2022-01-10T06:50:26.386Z"
   },
   {
    "duration": 3,
    "start_time": "2022-01-10T06:50:26.402Z"
   },
   {
    "duration": 277,
    "start_time": "2022-01-10T06:50:26.408Z"
   },
   {
    "duration": 182,
    "start_time": "2022-01-10T06:50:26.687Z"
   },
   {
    "duration": 310,
    "start_time": "2022-01-10T06:50:26.872Z"
   },
   {
    "duration": 17,
    "start_time": "2022-01-10T06:50:27.185Z"
   },
   {
    "duration": 4,
    "start_time": "2022-01-10T06:50:27.205Z"
   },
   {
    "duration": 6,
    "start_time": "2022-01-10T06:50:27.211Z"
   },
   {
    "duration": 332,
    "start_time": "2022-01-10T06:50:27.220Z"
   },
   {
    "duration": 6182,
    "start_time": "2022-01-10T06:50:27.555Z"
   },
   {
    "duration": 1064,
    "start_time": "2022-01-10T06:50:33.739Z"
   },
   {
    "duration": 16,
    "start_time": "2022-01-10T06:50:34.805Z"
   },
   {
    "duration": 298,
    "start_time": "2022-01-10T06:50:34.823Z"
   },
   {
    "duration": 4,
    "start_time": "2022-01-10T06:50:35.125Z"
   },
   {
    "duration": 523,
    "start_time": "2022-01-10T06:50:35.131Z"
   },
   {
    "duration": -1433,
    "start_time": "2022-01-10T06:50:37.089Z"
   },
   {
    "duration": -1435,
    "start_time": "2022-01-10T06:50:37.092Z"
   },
   {
    "duration": -1454,
    "start_time": "2022-01-10T06:50:37.113Z"
   },
   {
    "duration": -1506,
    "start_time": "2022-01-10T06:50:37.167Z"
   },
   {
    "duration": 41,
    "start_time": "2022-01-10T06:50:47.184Z"
   },
   {
    "duration": 311,
    "start_time": "2022-01-10T06:53:51.456Z"
   },
   {
    "duration": 301,
    "start_time": "2022-01-10T06:54:34.149Z"
   },
   {
    "duration": 467,
    "start_time": "2022-01-10T06:54:41.436Z"
   },
   {
    "duration": 370,
    "start_time": "2022-01-10T06:55:59.063Z"
   },
   {
    "duration": 101,
    "start_time": "2022-01-10T06:57:30.777Z"
   },
   {
    "duration": 586,
    "start_time": "2022-01-10T06:57:34.677Z"
   },
   {
    "duration": 39,
    "start_time": "2022-01-10T06:58:55.730Z"
   },
   {
    "duration": 352,
    "start_time": "2022-01-10T07:00:44.903Z"
   },
   {
    "duration": 752,
    "start_time": "2022-01-10T07:01:01.734Z"
   },
   {
    "duration": 497,
    "start_time": "2022-01-10T07:01:14.740Z"
   },
   {
    "duration": 302,
    "start_time": "2022-01-10T07:03:15.329Z"
   },
   {
    "duration": 300,
    "start_time": "2022-01-10T07:03:27.413Z"
   },
   {
    "duration": 320,
    "start_time": "2022-01-10T07:04:01.470Z"
   },
   {
    "duration": 438,
    "start_time": "2022-01-10T07:09:10.477Z"
   },
   {
    "duration": 380,
    "start_time": "2022-01-10T07:09:18.404Z"
   },
   {
    "duration": 991,
    "start_time": "2022-01-10T07:10:22.010Z"
   },
   {
    "duration": 16,
    "start_time": "2022-01-10T07:10:35.275Z"
   },
   {
    "duration": 2153,
    "start_time": "2022-01-10T07:10:53.781Z"
   },
   {
    "duration": 38,
    "start_time": "2022-01-10T07:10:55.937Z"
   },
   {
    "duration": 35,
    "start_time": "2022-01-10T07:10:55.979Z"
   },
   {
    "duration": 7,
    "start_time": "2022-01-10T07:10:56.018Z"
   },
   {
    "duration": 45,
    "start_time": "2022-01-10T07:10:56.029Z"
   },
   {
    "duration": 10,
    "start_time": "2022-01-10T07:10:56.077Z"
   },
   {
    "duration": 13,
    "start_time": "2022-01-10T07:10:56.090Z"
   },
   {
    "duration": 60,
    "start_time": "2022-01-10T07:10:56.107Z"
   },
   {
    "duration": 9,
    "start_time": "2022-01-10T07:10:56.170Z"
   },
   {
    "duration": 7,
    "start_time": "2022-01-10T07:10:56.181Z"
   },
   {
    "duration": 14,
    "start_time": "2022-01-10T07:10:56.191Z"
   },
   {
    "duration": 55,
    "start_time": "2022-01-10T07:10:56.208Z"
   },
   {
    "duration": 14,
    "start_time": "2022-01-10T07:10:56.265Z"
   },
   {
    "duration": 4,
    "start_time": "2022-01-10T07:10:56.281Z"
   },
   {
    "duration": 269,
    "start_time": "2022-01-10T07:10:56.287Z"
   },
   {
    "duration": 178,
    "start_time": "2022-01-10T07:10:56.562Z"
   },
   {
    "duration": 331,
    "start_time": "2022-01-10T07:10:56.743Z"
   },
   {
    "duration": 16,
    "start_time": "2022-01-10T07:10:57.077Z"
   },
   {
    "duration": 5,
    "start_time": "2022-01-10T07:10:57.095Z"
   },
   {
    "duration": 4,
    "start_time": "2022-01-10T07:10:57.103Z"
   },
   {
    "duration": 347,
    "start_time": "2022-01-10T07:10:57.110Z"
   },
   {
    "duration": 6205,
    "start_time": "2022-01-10T07:10:57.459Z"
   },
   {
    "duration": 1110,
    "start_time": "2022-01-10T07:11:03.668Z"
   },
   {
    "duration": 16,
    "start_time": "2022-01-10T07:11:04.781Z"
   },
   {
    "duration": 307,
    "start_time": "2022-01-10T07:11:04.799Z"
   },
   {
    "duration": 4,
    "start_time": "2022-01-10T07:11:05.108Z"
   },
   {
    "duration": 26,
    "start_time": "2022-01-10T07:11:05.114Z"
   },
   {
    "duration": 479,
    "start_time": "2022-01-10T07:11:05.142Z"
   },
   {
    "duration": -122,
    "start_time": "2022-01-10T07:11:05.746Z"
   },
   {
    "duration": -135,
    "start_time": "2022-01-10T07:11:05.760Z"
   },
   {
    "duration": -142,
    "start_time": "2022-01-10T07:11:05.769Z"
   },
   {
    "duration": 303,
    "start_time": "2022-01-10T07:11:44.568Z"
   },
   {
    "duration": 488,
    "start_time": "2022-01-10T07:13:28.226Z"
   },
   {
    "duration": 310,
    "start_time": "2022-01-10T07:13:37.034Z"
   },
   {
    "duration": 289,
    "start_time": "2022-01-10T07:14:29.684Z"
   },
   {
    "duration": 714,
    "start_time": "2022-01-10T07:14:44.984Z"
   },
   {
    "duration": 57,
    "start_time": "2022-01-10T07:16:31.556Z"
   },
   {
    "duration": 63,
    "start_time": "2022-01-10T07:16:45.020Z"
   },
   {
    "duration": 53,
    "start_time": "2022-01-10T07:16:48.094Z"
   },
   {
    "duration": 35,
    "start_time": "2022-01-10T07:17:41.553Z"
   },
   {
    "duration": 53,
    "start_time": "2022-01-10T07:17:43.818Z"
   },
   {
    "duration": 50,
    "start_time": "2022-01-10T07:18:27.982Z"
   },
   {
    "duration": 46,
    "start_time": "2022-01-10T07:18:31.644Z"
   },
   {
    "duration": 47,
    "start_time": "2022-01-10T07:18:35.192Z"
   },
   {
    "duration": 51,
    "start_time": "2022-01-10T07:18:40.695Z"
   },
   {
    "duration": 48,
    "start_time": "2022-01-10T07:21:41.907Z"
   },
   {
    "duration": 39,
    "start_time": "2022-01-10T07:22:11.555Z"
   },
   {
    "duration": 35,
    "start_time": "2022-01-10T07:22:13.884Z"
   },
   {
    "duration": 47,
    "start_time": "2022-01-10T07:22:17.888Z"
   },
   {
    "duration": 47,
    "start_time": "2022-01-10T07:23:50.962Z"
   },
   {
    "duration": 48,
    "start_time": "2022-01-10T07:24:30.686Z"
   },
   {
    "duration": 47,
    "start_time": "2022-01-10T07:24:35.682Z"
   },
   {
    "duration": 46,
    "start_time": "2022-01-10T07:25:14.083Z"
   },
   {
    "duration": 46,
    "start_time": "2022-01-10T07:25:39.243Z"
   },
   {
    "duration": 46,
    "start_time": "2022-01-10T07:26:33.810Z"
   },
   {
    "duration": 47,
    "start_time": "2022-01-10T07:30:11.878Z"
   },
   {
    "duration": 40,
    "start_time": "2022-01-10T07:30:14.615Z"
   },
   {
    "duration": 40,
    "start_time": "2022-01-10T07:30:17.097Z"
   },
   {
    "duration": 41,
    "start_time": "2022-01-10T07:30:20.022Z"
   },
   {
    "duration": 45,
    "start_time": "2022-01-10T07:30:22.025Z"
   },
   {
    "duration": 35,
    "start_time": "2022-01-10T07:30:47.878Z"
   },
   {
    "duration": 44,
    "start_time": "2022-01-10T07:30:54.930Z"
   },
   {
    "duration": 28,
    "start_time": "2022-01-10T07:35:11.740Z"
   },
   {
    "duration": 5,
    "start_time": "2022-01-10T07:39:30.599Z"
   },
   {
    "duration": 32,
    "start_time": "2022-01-10T07:40:01.154Z"
   },
   {
    "duration": 25,
    "start_time": "2022-01-10T07:40:06.422Z"
   },
   {
    "duration": 15,
    "start_time": "2022-01-10T07:40:24.622Z"
   },
   {
    "duration": 43,
    "start_time": "2022-01-10T07:40:32.090Z"
   },
   {
    "duration": 20,
    "start_time": "2022-01-10T07:41:23.212Z"
   },
   {
    "duration": 288,
    "start_time": "2022-01-10T07:44:13.091Z"
   },
   {
    "duration": 2190,
    "start_time": "2022-01-10T08:14:08.428Z"
   },
   {
    "duration": 35,
    "start_time": "2022-01-10T08:14:10.621Z"
   },
   {
    "duration": 30,
    "start_time": "2022-01-10T08:14:10.659Z"
   },
   {
    "duration": 7,
    "start_time": "2022-01-10T08:14:10.692Z"
   },
   {
    "duration": 27,
    "start_time": "2022-01-10T08:14:10.702Z"
   },
   {
    "duration": 37,
    "start_time": "2022-01-10T08:14:10.732Z"
   },
   {
    "duration": 11,
    "start_time": "2022-01-10T08:14:10.772Z"
   },
   {
    "duration": 6,
    "start_time": "2022-01-10T08:14:10.787Z"
   },
   {
    "duration": 8,
    "start_time": "2022-01-10T08:14:10.796Z"
   },
   {
    "duration": 7,
    "start_time": "2022-01-10T08:14:10.806Z"
   },
   {
    "duration": 59,
    "start_time": "2022-01-10T08:14:10.815Z"
   },
   {
    "duration": 8,
    "start_time": "2022-01-10T08:14:10.876Z"
   },
   {
    "duration": 13,
    "start_time": "2022-01-10T08:14:10.886Z"
   },
   {
    "duration": 3,
    "start_time": "2022-01-10T08:14:10.901Z"
   },
   {
    "duration": 260,
    "start_time": "2022-01-10T08:14:10.907Z"
   },
   {
    "duration": 183,
    "start_time": "2022-01-10T08:14:11.169Z"
   },
   {
    "duration": 318,
    "start_time": "2022-01-10T08:14:11.355Z"
   },
   {
    "duration": 17,
    "start_time": "2022-01-10T08:14:11.675Z"
   },
   {
    "duration": 5,
    "start_time": "2022-01-10T08:14:11.695Z"
   },
   {
    "duration": 5,
    "start_time": "2022-01-10T08:14:11.702Z"
   },
   {
    "duration": 339,
    "start_time": "2022-01-10T08:14:11.709Z"
   },
   {
    "duration": 6579,
    "start_time": "2022-01-10T08:14:12.051Z"
   },
   {
    "duration": 1226,
    "start_time": "2022-01-10T08:14:18.636Z"
   },
   {
    "duration": 15,
    "start_time": "2022-01-10T08:14:19.865Z"
   },
   {
    "duration": 352,
    "start_time": "2022-01-10T08:14:19.882Z"
   },
   {
    "duration": 3,
    "start_time": "2022-01-10T08:14:20.237Z"
   },
   {
    "duration": 697,
    "start_time": "2022-01-10T08:14:20.243Z"
   },
   {
    "duration": 78,
    "start_time": "2022-01-10T08:14:20.865Z"
   },
   {
    "duration": 73,
    "start_time": "2022-01-10T08:14:20.872Z"
   },
   {
    "duration": 72,
    "start_time": "2022-01-10T08:14:20.876Z"
   },
   {
    "duration": 68,
    "start_time": "2022-01-10T08:14:20.882Z"
   },
   {
    "duration": 943,
    "start_time": "2022-01-10T08:14:39.706Z"
   },
   {
    "duration": 7180,
    "start_time": "2022-01-10T08:14:48.596Z"
   },
   {
    "duration": 2387,
    "start_time": "2022-01-10T08:15:11.717Z"
   },
   {
    "duration": 38,
    "start_time": "2022-01-10T08:15:14.107Z"
   },
   {
    "duration": 41,
    "start_time": "2022-01-10T08:15:14.149Z"
   },
   {
    "duration": 9,
    "start_time": "2022-01-10T08:15:14.194Z"
   },
   {
    "duration": 15,
    "start_time": "2022-01-10T08:15:14.206Z"
   },
   {
    "duration": 49,
    "start_time": "2022-01-10T08:15:14.224Z"
   },
   {
    "duration": 13,
    "start_time": "2022-01-10T08:15:14.276Z"
   },
   {
    "duration": 8,
    "start_time": "2022-01-10T08:15:14.292Z"
   },
   {
    "duration": 60,
    "start_time": "2022-01-10T08:15:14.307Z"
   },
   {
    "duration": 10,
    "start_time": "2022-01-10T08:15:14.371Z"
   },
   {
    "duration": 15,
    "start_time": "2022-01-10T08:15:14.384Z"
   },
   {
    "duration": 12,
    "start_time": "2022-01-10T08:15:14.402Z"
   },
   {
    "duration": 14,
    "start_time": "2022-01-10T08:15:14.464Z"
   },
   {
    "duration": 16,
    "start_time": "2022-01-10T08:15:14.480Z"
   },
   {
    "duration": 227,
    "start_time": "2022-01-10T08:15:14.499Z"
   },
   {
    "duration": 169,
    "start_time": "2022-01-10T08:15:14.729Z"
   },
   {
    "duration": 322,
    "start_time": "2022-01-10T08:15:14.901Z"
   },
   {
    "duration": 31,
    "start_time": "2022-01-10T08:15:15.226Z"
   },
   {
    "duration": 8,
    "start_time": "2022-01-10T08:15:15.259Z"
   },
   {
    "duration": 13,
    "start_time": "2022-01-10T08:15:15.270Z"
   },
   {
    "duration": 318,
    "start_time": "2022-01-10T08:15:15.285Z"
   },
   {
    "duration": 6507,
    "start_time": "2022-01-10T08:15:15.605Z"
   },
   {
    "duration": 1089,
    "start_time": "2022-01-10T08:15:22.114Z"
   },
   {
    "duration": 16,
    "start_time": "2022-01-10T08:15:23.206Z"
   },
   {
    "duration": 322,
    "start_time": "2022-01-10T08:15:23.225Z"
   },
   {
    "duration": 3,
    "start_time": "2022-01-10T08:15:23.549Z"
   },
   {
    "duration": 5,
    "start_time": "2022-01-10T08:15:23.564Z"
   },
   {
    "duration": 93,
    "start_time": "2022-01-10T08:15:23.572Z"
   },
   {
    "duration": 693,
    "start_time": "2022-01-10T08:15:23.667Z"
   },
   {
    "duration": 85,
    "start_time": "2022-01-10T08:15:24.278Z"
   },
   {
    "duration": 81,
    "start_time": "2022-01-10T08:15:24.284Z"
   },
   {
    "duration": 80,
    "start_time": "2022-01-10T08:15:24.287Z"
   },
   {
    "duration": 73,
    "start_time": "2022-01-10T08:15:24.297Z"
   },
   {
    "duration": 5,
    "start_time": "2022-01-10T08:15:39.731Z"
   },
   {
    "duration": 317,
    "start_time": "2022-01-10T08:16:33.629Z"
   },
   {
    "duration": 291,
    "start_time": "2022-01-10T08:18:54.447Z"
   },
   {
    "duration": 4450,
    "start_time": "2022-01-10T08:19:17.498Z"
   },
   {
    "duration": 2155,
    "start_time": "2022-01-10T08:19:37.836Z"
   },
   {
    "duration": 38,
    "start_time": "2022-01-10T08:19:39.994Z"
   },
   {
    "duration": 32,
    "start_time": "2022-01-10T08:19:40.036Z"
   },
   {
    "duration": 6,
    "start_time": "2022-01-10T08:19:40.071Z"
   },
   {
    "duration": 15,
    "start_time": "2022-01-10T08:19:40.080Z"
   },
   {
    "duration": 9,
    "start_time": "2022-01-10T08:19:40.098Z"
   },
   {
    "duration": 53,
    "start_time": "2022-01-10T08:19:40.110Z"
   },
   {
    "duration": 8,
    "start_time": "2022-01-10T08:19:40.166Z"
   },
   {
    "duration": 8,
    "start_time": "2022-01-10T08:19:40.179Z"
   },
   {
    "duration": 6,
    "start_time": "2022-01-10T08:19:40.190Z"
   },
   {
    "duration": 15,
    "start_time": "2022-01-10T08:19:40.198Z"
   },
   {
    "duration": 8,
    "start_time": "2022-01-10T08:19:40.263Z"
   },
   {
    "duration": 18,
    "start_time": "2022-01-10T08:19:40.274Z"
   },
   {
    "duration": 5,
    "start_time": "2022-01-10T08:19:40.295Z"
   },
   {
    "duration": 270,
    "start_time": "2022-01-10T08:19:40.303Z"
   },
   {
    "duration": 211,
    "start_time": "2022-01-10T08:19:40.576Z"
   },
   {
    "duration": 354,
    "start_time": "2022-01-10T08:19:40.789Z"
   },
   {
    "duration": 21,
    "start_time": "2022-01-10T08:19:41.145Z"
   },
   {
    "duration": 6,
    "start_time": "2022-01-10T08:19:41.168Z"
   },
   {
    "duration": 6,
    "start_time": "2022-01-10T08:19:41.176Z"
   },
   {
    "duration": 382,
    "start_time": "2022-01-10T08:19:41.184Z"
   },
   {
    "duration": 6195,
    "start_time": "2022-01-10T08:19:41.569Z"
   },
   {
    "duration": 1122,
    "start_time": "2022-01-10T08:19:47.766Z"
   },
   {
    "duration": 16,
    "start_time": "2022-01-10T08:19:48.890Z"
   },
   {
    "duration": 307,
    "start_time": "2022-01-10T08:19:48.908Z"
   },
   {
    "duration": 3,
    "start_time": "2022-01-10T08:19:49.218Z"
   },
   {
    "duration": 17,
    "start_time": "2022-01-10T08:19:49.226Z"
   },
   {
    "duration": 547,
    "start_time": "2022-01-10T08:19:49.246Z"
   },
   {
    "duration": 25,
    "start_time": "2022-01-10T08:19:49.771Z"
   },
   {
    "duration": 18,
    "start_time": "2022-01-10T08:19:49.779Z"
   },
   {
    "duration": -6,
    "start_time": "2022-01-10T08:19:49.805Z"
   },
   {
    "duration": -23,
    "start_time": "2022-01-10T08:19:49.823Z"
   },
   {
    "duration": -37,
    "start_time": "2022-01-10T08:19:49.838Z"
   },
   {
    "duration": 334,
    "start_time": "2022-01-10T08:21:00.890Z"
   },
   {
    "duration": 95,
    "start_time": "2022-01-10T08:21:12.957Z"
   },
   {
    "duration": 6,
    "start_time": "2022-01-10T08:21:17.605Z"
   },
   {
    "duration": 7,
    "start_time": "2022-01-10T08:21:22.363Z"
   },
   {
    "duration": 296,
    "start_time": "2022-01-10T08:21:28.166Z"
   },
   {
    "duration": 388,
    "start_time": "2022-01-10T23:34:46.102Z"
   },
   {
    "duration": 1689,
    "start_time": "2022-01-10T23:34:57.615Z"
   },
   {
    "duration": 33,
    "start_time": "2022-01-10T23:34:59.306Z"
   },
   {
    "duration": 20,
    "start_time": "2022-01-10T23:34:59.342Z"
   },
   {
    "duration": 5,
    "start_time": "2022-01-10T23:34:59.364Z"
   },
   {
    "duration": 368,
    "start_time": "2022-01-10T23:34:59.371Z"
   },
   {
    "duration": -40,
    "start_time": "2022-01-10T23:34:59.782Z"
   },
   {
    "duration": -44,
    "start_time": "2022-01-10T23:34:59.787Z"
   },
   {
    "duration": -46,
    "start_time": "2022-01-10T23:34:59.790Z"
   },
   {
    "duration": -49,
    "start_time": "2022-01-10T23:34:59.794Z"
   },
   {
    "duration": -57,
    "start_time": "2022-01-10T23:34:59.803Z"
   },
   {
    "duration": -184,
    "start_time": "2022-01-10T23:34:59.931Z"
   },
   {
    "duration": -199,
    "start_time": "2022-01-10T23:34:59.947Z"
   },
   {
    "duration": -202,
    "start_time": "2022-01-10T23:34:59.951Z"
   },
   {
    "duration": -205,
    "start_time": "2022-01-10T23:34:59.955Z"
   },
   {
    "duration": -208,
    "start_time": "2022-01-10T23:34:59.959Z"
   },
   {
    "duration": -215,
    "start_time": "2022-01-10T23:34:59.967Z"
   },
   {
    "duration": -224,
    "start_time": "2022-01-10T23:34:59.977Z"
   },
   {
    "duration": -227,
    "start_time": "2022-01-10T23:34:59.981Z"
   },
   {
    "duration": -229,
    "start_time": "2022-01-10T23:34:59.984Z"
   },
   {
    "duration": -232,
    "start_time": "2022-01-10T23:34:59.988Z"
   },
   {
    "duration": -233,
    "start_time": "2022-01-10T23:34:59.991Z"
   },
   {
    "duration": -235,
    "start_time": "2022-01-10T23:34:59.994Z"
   },
   {
    "duration": -237,
    "start_time": "2022-01-10T23:34:59.997Z"
   },
   {
    "duration": -240,
    "start_time": "2022-01-10T23:35:00.001Z"
   },
   {
    "duration": -243,
    "start_time": "2022-01-10T23:35:00.005Z"
   },
   {
    "duration": -250,
    "start_time": "2022-01-10T23:35:00.013Z"
   },
   {
    "duration": -265,
    "start_time": "2022-01-10T23:35:00.029Z"
   },
   {
    "duration": -269,
    "start_time": "2022-01-10T23:35:00.034Z"
   },
   {
    "duration": -270,
    "start_time": "2022-01-10T23:35:00.036Z"
   },
   {
    "duration": -273,
    "start_time": "2022-01-10T23:35:00.040Z"
   },
   {
    "duration": -275,
    "start_time": "2022-01-10T23:35:00.043Z"
   },
   {
    "duration": -279,
    "start_time": "2022-01-10T23:35:00.048Z"
   },
   {
    "duration": -281,
    "start_time": "2022-01-10T23:35:00.051Z"
   },
   {
    "duration": -283,
    "start_time": "2022-01-10T23:35:00.054Z"
   },
   {
    "duration": -285,
    "start_time": "2022-01-10T23:35:00.057Z"
   },
   {
    "duration": -287,
    "start_time": "2022-01-10T23:35:00.061Z"
   },
   {
    "duration": 8,
    "start_time": "2022-01-10T23:35:16.509Z"
   },
   {
    "duration": 8,
    "start_time": "2022-01-10T23:35:17.000Z"
   },
   {
    "duration": 8,
    "start_time": "2022-01-10T23:35:17.241Z"
   },
   {
    "duration": 6,
    "start_time": "2022-01-10T23:35:19.745Z"
   },
   {
    "duration": 6,
    "start_time": "2022-01-10T23:35:19.938Z"
   },
   {
    "duration": 5,
    "start_time": "2022-01-10T23:35:20.063Z"
   },
   {
    "duration": 9,
    "start_time": "2022-01-10T23:35:22.379Z"
   },
   {
    "duration": 30,
    "start_time": "2022-01-10T23:35:22.524Z"
   },
   {
    "duration": 7,
    "start_time": "2022-01-10T23:35:33.160Z"
   },
   {
    "duration": 9,
    "start_time": "2022-01-10T23:35:45.300Z"
   },
   {
    "duration": 15,
    "start_time": "2022-01-10T23:35:59.004Z"
   },
   {
    "duration": 259,
    "start_time": "2022-01-10T23:36:22.703Z"
   },
   {
    "duration": 1463,
    "start_time": "2022-01-10T23:37:56.209Z"
   },
   {
    "duration": 27,
    "start_time": "2022-01-10T23:37:57.674Z"
   },
   {
    "duration": 20,
    "start_time": "2022-01-10T23:37:57.704Z"
   },
   {
    "duration": 5,
    "start_time": "2022-01-10T23:37:57.726Z"
   },
   {
    "duration": 10,
    "start_time": "2022-01-10T23:37:57.732Z"
   },
   {
    "duration": 22,
    "start_time": "2022-01-10T23:37:57.744Z"
   },
   {
    "duration": 12,
    "start_time": "2022-01-10T23:37:57.768Z"
   },
   {
    "duration": 10,
    "start_time": "2022-01-10T23:37:57.782Z"
   },
   {
    "duration": 14,
    "start_time": "2022-01-10T23:37:57.795Z"
   },
   {
    "duration": 8,
    "start_time": "2022-01-10T23:37:57.811Z"
   },
   {
    "duration": 10,
    "start_time": "2022-01-10T23:37:57.821Z"
   },
   {
    "duration": 63,
    "start_time": "2022-01-10T23:37:57.833Z"
   },
   {
    "duration": 11,
    "start_time": "2022-01-10T23:37:57.898Z"
   },
   {
    "duration": 6,
    "start_time": "2022-01-10T23:37:57.910Z"
   },
   {
    "duration": 13,
    "start_time": "2022-01-10T23:37:57.918Z"
   },
   {
    "duration": 389,
    "start_time": "2022-01-10T23:37:57.932Z"
   },
   {
    "duration": -343,
    "start_time": "2022-01-10T23:37:58.666Z"
   },
   {
    "duration": -504,
    "start_time": "2022-01-10T23:37:58.828Z"
   },
   {
    "duration": -511,
    "start_time": "2022-01-10T23:37:58.836Z"
   },
   {
    "duration": -518,
    "start_time": "2022-01-10T23:37:58.844Z"
   },
   {
    "duration": -520,
    "start_time": "2022-01-10T23:37:58.847Z"
   },
   {
    "duration": -530,
    "start_time": "2022-01-10T23:37:58.859Z"
   },
   {
    "duration": -537,
    "start_time": "2022-01-10T23:37:58.866Z"
   },
   {
    "duration": -541,
    "start_time": "2022-01-10T23:37:58.872Z"
   },
   {
    "duration": -546,
    "start_time": "2022-01-10T23:37:58.878Z"
   },
   {
    "duration": -549,
    "start_time": "2022-01-10T23:37:58.882Z"
   },
   {
    "duration": -554,
    "start_time": "2022-01-10T23:37:58.888Z"
   },
   {
    "duration": -582,
    "start_time": "2022-01-10T23:37:58.917Z"
   },
   {
    "duration": -627,
    "start_time": "2022-01-10T23:37:58.963Z"
   },
   {
    "duration": -689,
    "start_time": "2022-01-10T23:37:59.026Z"
   },
   {
    "duration": -692,
    "start_time": "2022-01-10T23:37:59.030Z"
   },
   {
    "duration": -694,
    "start_time": "2022-01-10T23:37:59.033Z"
   },
   {
    "duration": -700,
    "start_time": "2022-01-10T23:37:59.040Z"
   },
   {
    "duration": -702,
    "start_time": "2022-01-10T23:37:59.043Z"
   },
   {
    "duration": -705,
    "start_time": "2022-01-10T23:37:59.047Z"
   },
   {
    "duration": -708,
    "start_time": "2022-01-10T23:37:59.051Z"
   },
   {
    "duration": -715,
    "start_time": "2022-01-10T23:37:59.059Z"
   },
   {
    "duration": 1509,
    "start_time": "2022-01-10T23:44:26.124Z"
   },
   {
    "duration": 27,
    "start_time": "2022-01-10T23:44:27.634Z"
   },
   {
    "duration": 19,
    "start_time": "2022-01-10T23:44:27.663Z"
   },
   {
    "duration": 5,
    "start_time": "2022-01-10T23:44:27.684Z"
   },
   {
    "duration": 7,
    "start_time": "2022-01-10T23:44:27.690Z"
   },
   {
    "duration": 6,
    "start_time": "2022-01-10T23:44:27.699Z"
   },
   {
    "duration": 6,
    "start_time": "2022-01-10T23:44:27.707Z"
   },
   {
    "duration": 48,
    "start_time": "2022-01-10T23:44:27.716Z"
   },
   {
    "duration": 8,
    "start_time": "2022-01-10T23:44:27.766Z"
   },
   {
    "duration": 5,
    "start_time": "2022-01-10T23:44:27.775Z"
   },
   {
    "duration": 11,
    "start_time": "2022-01-10T23:44:27.782Z"
   },
   {
    "duration": 5,
    "start_time": "2022-01-10T23:44:27.794Z"
   },
   {
    "duration": 67,
    "start_time": "2022-01-10T23:44:27.800Z"
   },
   {
    "duration": 10,
    "start_time": "2022-01-10T23:44:27.868Z"
   },
   {
    "duration": 4,
    "start_time": "2022-01-10T23:44:27.880Z"
   },
   {
    "duration": 19,
    "start_time": "2022-01-10T23:44:27.886Z"
   },
   {
    "duration": 362,
    "start_time": "2022-01-10T23:44:27.907Z"
   },
   {
    "duration": -240,
    "start_time": "2022-01-10T23:44:28.511Z"
   },
   {
    "duration": -244,
    "start_time": "2022-01-10T23:44:28.516Z"
   },
   {
    "duration": -267,
    "start_time": "2022-01-10T23:44:28.540Z"
   },
   {
    "duration": -271,
    "start_time": "2022-01-10T23:44:28.545Z"
   },
   {
    "duration": -368,
    "start_time": "2022-01-10T23:44:28.642Z"
   },
   {
    "duration": -379,
    "start_time": "2022-01-10T23:44:28.654Z"
   },
   {
    "duration": -381,
    "start_time": "2022-01-10T23:44:28.657Z"
   },
   {
    "duration": -406,
    "start_time": "2022-01-10T23:44:28.683Z"
   },
   {
    "duration": -410,
    "start_time": "2022-01-10T23:44:28.688Z"
   },
   {
    "duration": -414,
    "start_time": "2022-01-10T23:44:28.693Z"
   },
   {
    "duration": -428,
    "start_time": "2022-01-10T23:44:28.708Z"
   },
   {
    "duration": -433,
    "start_time": "2022-01-10T23:44:28.713Z"
   },
   {
    "duration": -435,
    "start_time": "2022-01-10T23:44:28.716Z"
   },
   {
    "duration": -439,
    "start_time": "2022-01-10T23:44:28.721Z"
   },
   {
    "duration": -442,
    "start_time": "2022-01-10T23:44:28.725Z"
   },
   {
    "duration": -447,
    "start_time": "2022-01-10T23:44:28.730Z"
   },
   {
    "duration": -524,
    "start_time": "2022-01-10T23:44:28.808Z"
   },
   {
    "duration": -570,
    "start_time": "2022-01-10T23:44:28.855Z"
   },
   {
    "duration": -574,
    "start_time": "2022-01-10T23:44:28.860Z"
   },
   {
    "duration": -591,
    "start_time": "2022-01-10T23:44:28.877Z"
   },
   {
    "duration": -594,
    "start_time": "2022-01-10T23:44:28.881Z"
   },
   {
    "duration": 4,
    "start_time": "2022-01-10T23:44:49.772Z"
   },
   {
    "duration": 24,
    "start_time": "2022-01-10T23:44:50.485Z"
   },
   {
    "duration": 1486,
    "start_time": "2022-01-10T23:44:57.161Z"
   },
   {
    "duration": 28,
    "start_time": "2022-01-10T23:44:58.649Z"
   },
   {
    "duration": 21,
    "start_time": "2022-01-10T23:44:58.679Z"
   },
   {
    "duration": 5,
    "start_time": "2022-01-10T23:44:58.701Z"
   },
   {
    "duration": 9,
    "start_time": "2022-01-10T23:44:58.708Z"
   },
   {
    "duration": 7,
    "start_time": "2022-01-10T23:44:58.719Z"
   },
   {
    "duration": 8,
    "start_time": "2022-01-10T23:44:58.760Z"
   },
   {
    "duration": 5,
    "start_time": "2022-01-10T23:44:58.770Z"
   },
   {
    "duration": 7,
    "start_time": "2022-01-10T23:44:58.777Z"
   },
   {
    "duration": 6,
    "start_time": "2022-01-10T23:44:58.786Z"
   },
   {
    "duration": 11,
    "start_time": "2022-01-10T23:44:58.794Z"
   },
   {
    "duration": 5,
    "start_time": "2022-01-10T23:44:58.807Z"
   },
   {
    "duration": 79,
    "start_time": "2022-01-10T23:44:58.814Z"
   },
   {
    "duration": 12,
    "start_time": "2022-01-10T23:44:58.895Z"
   },
   {
    "duration": 8,
    "start_time": "2022-01-10T23:44:58.909Z"
   },
   {
    "duration": 48,
    "start_time": "2022-01-10T23:44:58.919Z"
   },
   {
    "duration": 363,
    "start_time": "2022-01-10T23:44:58.968Z"
   },
   {
    "duration": -215,
    "start_time": "2022-01-10T23:44:59.550Z"
   },
   {
    "duration": -296,
    "start_time": "2022-01-10T23:44:59.632Z"
   },
   {
    "duration": -314,
    "start_time": "2022-01-10T23:44:59.651Z"
   },
   {
    "duration": -347,
    "start_time": "2022-01-10T23:44:59.685Z"
   },
   {
    "duration": -361,
    "start_time": "2022-01-10T23:44:59.701Z"
   },
   {
    "duration": -364,
    "start_time": "2022-01-10T23:44:59.705Z"
   },
   {
    "duration": -366,
    "start_time": "2022-01-10T23:44:59.708Z"
   },
   {
    "duration": -390,
    "start_time": "2022-01-10T23:44:59.733Z"
   },
   {
    "duration": -393,
    "start_time": "2022-01-10T23:44:59.737Z"
   },
   {
    "duration": -396,
    "start_time": "2022-01-10T23:44:59.741Z"
   },
   {
    "duration": -398,
    "start_time": "2022-01-10T23:44:59.744Z"
   },
   {
    "duration": -402,
    "start_time": "2022-01-10T23:44:59.749Z"
   },
   {
    "duration": -411,
    "start_time": "2022-01-10T23:44:59.759Z"
   },
   {
    "duration": -414,
    "start_time": "2022-01-10T23:44:59.763Z"
   },
   {
    "duration": -480,
    "start_time": "2022-01-10T23:44:59.830Z"
   },
   {
    "duration": -554,
    "start_time": "2022-01-10T23:44:59.905Z"
   },
   {
    "duration": -557,
    "start_time": "2022-01-10T23:44:59.909Z"
   },
   {
    "duration": -559,
    "start_time": "2022-01-10T23:44:59.912Z"
   },
   {
    "duration": -593,
    "start_time": "2022-01-10T23:44:59.947Z"
   },
   {
    "duration": -597,
    "start_time": "2022-01-10T23:44:59.952Z"
   },
   {
    "duration": -599,
    "start_time": "2022-01-10T23:44:59.955Z"
   },
   {
    "duration": 8,
    "start_time": "2022-01-10T23:47:44.667Z"
   },
   {
    "duration": 13,
    "start_time": "2022-01-10T23:47:48.168Z"
   },
   {
    "duration": 8,
    "start_time": "2022-01-10T23:48:00.441Z"
   },
   {
    "duration": 17,
    "start_time": "2022-01-10T23:48:02.429Z"
   },
   {
    "duration": 24,
    "start_time": "2022-01-10T23:48:39.455Z"
   },
   {
    "duration": 11,
    "start_time": "2022-01-10T23:48:57.546Z"
   },
   {
    "duration": 27,
    "start_time": "2022-01-10T23:49:08.247Z"
   },
   {
    "duration": 21,
    "start_time": "2022-01-10T23:50:18.254Z"
   },
   {
    "duration": 9,
    "start_time": "2022-01-10T23:51:06.685Z"
   },
   {
    "duration": 17,
    "start_time": "2022-01-10T23:51:14.302Z"
   },
   {
    "duration": 8,
    "start_time": "2022-01-10T23:51:45.809Z"
   },
   {
    "duration": 16,
    "start_time": "2022-01-10T23:51:47.783Z"
   },
   {
    "duration": 1552,
    "start_time": "2022-01-10T23:52:30.428Z"
   },
   {
    "duration": 30,
    "start_time": "2022-01-10T23:52:31.983Z"
   },
   {
    "duration": 42,
    "start_time": "2022-01-10T23:52:32.015Z"
   },
   {
    "duration": 29,
    "start_time": "2022-01-10T23:52:32.060Z"
   },
   {
    "duration": 37,
    "start_time": "2022-01-10T23:52:32.091Z"
   },
   {
    "duration": 14,
    "start_time": "2022-01-10T23:52:32.130Z"
   },
   {
    "duration": 45,
    "start_time": "2022-01-10T23:52:32.145Z"
   },
   {
    "duration": 17,
    "start_time": "2022-01-10T23:52:32.193Z"
   },
   {
    "duration": 36,
    "start_time": "2022-01-10T23:52:32.212Z"
   },
   {
    "duration": 34,
    "start_time": "2022-01-10T23:52:32.250Z"
   },
   {
    "duration": 37,
    "start_time": "2022-01-10T23:52:32.286Z"
   },
   {
    "duration": 46,
    "start_time": "2022-01-10T23:52:32.325Z"
   },
   {
    "duration": 64,
    "start_time": "2022-01-10T23:52:32.373Z"
   },
   {
    "duration": 33,
    "start_time": "2022-01-10T23:52:32.439Z"
   },
   {
    "duration": 28,
    "start_time": "2022-01-10T23:52:32.474Z"
   },
   {
    "duration": 27,
    "start_time": "2022-01-10T23:52:32.504Z"
   },
   {
    "duration": 29,
    "start_time": "2022-01-10T23:52:32.533Z"
   },
   {
    "duration": 443,
    "start_time": "2022-01-10T23:52:32.563Z"
   },
   {
    "duration": 106,
    "start_time": "2022-01-10T23:52:32.902Z"
   },
   {
    "duration": 97,
    "start_time": "2022-01-10T23:52:32.912Z"
   },
   {
    "duration": 94,
    "start_time": "2022-01-10T23:52:32.916Z"
   },
   {
    "duration": 92,
    "start_time": "2022-01-10T23:52:32.919Z"
   },
   {
    "duration": 89,
    "start_time": "2022-01-10T23:52:32.923Z"
   },
   {
    "duration": 86,
    "start_time": "2022-01-10T23:52:32.926Z"
   },
   {
    "duration": 84,
    "start_time": "2022-01-10T23:52:32.929Z"
   },
   {
    "duration": 80,
    "start_time": "2022-01-10T23:52:32.934Z"
   },
   {
    "duration": 77,
    "start_time": "2022-01-10T23:52:32.938Z"
   },
   {
    "duration": 75,
    "start_time": "2022-01-10T23:52:32.941Z"
   },
   {
    "duration": 73,
    "start_time": "2022-01-10T23:52:32.944Z"
   },
   {
    "duration": 70,
    "start_time": "2022-01-10T23:52:32.948Z"
   },
   {
    "duration": 67,
    "start_time": "2022-01-10T23:52:32.951Z"
   },
   {
    "duration": 63,
    "start_time": "2022-01-10T23:52:32.956Z"
   },
   {
    "duration": 40,
    "start_time": "2022-01-10T23:52:32.980Z"
   },
   {
    "duration": 38,
    "start_time": "2022-01-10T23:52:32.983Z"
   },
   {
    "duration": 35,
    "start_time": "2022-01-10T23:52:32.987Z"
   },
   {
    "duration": 15,
    "start_time": "2022-01-10T23:52:33.008Z"
   },
   {
    "duration": -25,
    "start_time": "2022-01-10T23:52:33.048Z"
   },
   {
    "duration": -29,
    "start_time": "2022-01-10T23:52:33.053Z"
   },
   {
    "duration": -36,
    "start_time": "2022-01-10T23:52:33.061Z"
   },
   {
    "duration": 7,
    "start_time": "2022-01-10T23:52:50.141Z"
   },
   {
    "duration": 18,
    "start_time": "2022-01-10T23:52:50.834Z"
   },
   {
    "duration": 1424,
    "start_time": "2022-01-10T23:52:57.012Z"
   },
   {
    "duration": 27,
    "start_time": "2022-01-10T23:52:58.438Z"
   },
   {
    "duration": 20,
    "start_time": "2022-01-10T23:52:58.467Z"
   },
   {
    "duration": 11,
    "start_time": "2022-01-10T23:52:58.489Z"
   },
   {
    "duration": 11,
    "start_time": "2022-01-10T23:52:58.501Z"
   },
   {
    "duration": 11,
    "start_time": "2022-01-10T23:52:58.513Z"
   },
   {
    "duration": 15,
    "start_time": "2022-01-10T23:52:58.525Z"
   },
   {
    "duration": 4,
    "start_time": "2022-01-10T23:52:58.561Z"
   },
   {
    "duration": 6,
    "start_time": "2022-01-10T23:52:58.567Z"
   },
   {
    "duration": 5,
    "start_time": "2022-01-10T23:52:58.575Z"
   },
   {
    "duration": 12,
    "start_time": "2022-01-10T23:52:58.581Z"
   },
   {
    "duration": 6,
    "start_time": "2022-01-10T23:52:58.594Z"
   },
   {
    "duration": 73,
    "start_time": "2022-01-10T23:52:58.602Z"
   },
   {
    "duration": 10,
    "start_time": "2022-01-10T23:52:58.677Z"
   },
   {
    "duration": 20,
    "start_time": "2022-01-10T23:52:58.689Z"
   },
   {
    "duration": 6,
    "start_time": "2022-01-10T23:52:58.711Z"
   },
   {
    "duration": 45,
    "start_time": "2022-01-10T23:52:58.718Z"
   },
   {
    "duration": 481,
    "start_time": "2022-01-10T23:52:58.765Z"
   },
   {
    "duration": -293,
    "start_time": "2022-01-10T23:52:59.541Z"
   },
   {
    "duration": -300,
    "start_time": "2022-01-10T23:52:59.549Z"
   },
   {
    "duration": -307,
    "start_time": "2022-01-10T23:52:59.557Z"
   },
   {
    "duration": -310,
    "start_time": "2022-01-10T23:52:59.561Z"
   },
   {
    "duration": -318,
    "start_time": "2022-01-10T23:52:59.570Z"
   },
   {
    "duration": -320,
    "start_time": "2022-01-10T23:52:59.573Z"
   },
   {
    "duration": -324,
    "start_time": "2022-01-10T23:52:59.578Z"
   },
   {
    "duration": -330,
    "start_time": "2022-01-10T23:52:59.585Z"
   },
   {
    "duration": -333,
    "start_time": "2022-01-10T23:52:59.589Z"
   },
   {
    "duration": -338,
    "start_time": "2022-01-10T23:52:59.595Z"
   },
   {
    "duration": -344,
    "start_time": "2022-01-10T23:52:59.602Z"
   },
   {
    "duration": -346,
    "start_time": "2022-01-10T23:52:59.605Z"
   },
   {
    "duration": -350,
    "start_time": "2022-01-10T23:52:59.610Z"
   },
   {
    "duration": -355,
    "start_time": "2022-01-10T23:52:59.616Z"
   },
   {
    "duration": -358,
    "start_time": "2022-01-10T23:52:59.620Z"
   },
   {
    "duration": -360,
    "start_time": "2022-01-10T23:52:59.623Z"
   },
   {
    "duration": -362,
    "start_time": "2022-01-10T23:52:59.626Z"
   },
   {
    "duration": -366,
    "start_time": "2022-01-10T23:52:59.631Z"
   },
   {
    "duration": -390,
    "start_time": "2022-01-10T23:52:59.656Z"
   },
   {
    "duration": -402,
    "start_time": "2022-01-10T23:52:59.669Z"
   },
   {
    "duration": -408,
    "start_time": "2022-01-10T23:52:59.676Z"
   },
   {
    "duration": 14,
    "start_time": "2022-01-11T00:20:27.141Z"
   },
   {
    "duration": 1549,
    "start_time": "2022-01-11T00:24:31.413Z"
   },
   {
    "duration": 28,
    "start_time": "2022-01-11T00:24:32.964Z"
   },
   {
    "duration": 20,
    "start_time": "2022-01-11T00:24:32.994Z"
   },
   {
    "duration": 5,
    "start_time": "2022-01-11T00:24:33.016Z"
   },
   {
    "duration": 11,
    "start_time": "2022-01-11T00:24:33.023Z"
   },
   {
    "duration": 8,
    "start_time": "2022-01-11T00:24:33.036Z"
   },
   {
    "duration": 21,
    "start_time": "2022-01-11T00:24:33.045Z"
   },
   {
    "duration": 4,
    "start_time": "2022-01-11T00:24:33.069Z"
   },
   {
    "duration": 7,
    "start_time": "2022-01-11T00:24:33.076Z"
   },
   {
    "duration": 6,
    "start_time": "2022-01-11T00:24:33.084Z"
   },
   {
    "duration": 13,
    "start_time": "2022-01-11T00:24:33.091Z"
   },
   {
    "duration": 4,
    "start_time": "2022-01-11T00:24:33.106Z"
   },
   {
    "duration": 68,
    "start_time": "2022-01-11T00:24:33.112Z"
   },
   {
    "duration": 10,
    "start_time": "2022-01-11T00:24:33.182Z"
   },
   {
    "duration": 19,
    "start_time": "2022-01-11T00:24:33.194Z"
   },
   {
    "duration": 12,
    "start_time": "2022-01-11T00:24:33.214Z"
   },
   {
    "duration": 355,
    "start_time": "2022-01-11T00:24:33.228Z"
   },
   {
    "duration": -526,
    "start_time": "2022-01-11T00:24:34.111Z"
   },
   {
    "duration": -528,
    "start_time": "2022-01-11T00:24:34.114Z"
   },
   {
    "duration": -533,
    "start_time": "2022-01-11T00:24:34.120Z"
   },
   {
    "duration": -544,
    "start_time": "2022-01-11T00:24:34.132Z"
   },
   {
    "duration": -546,
    "start_time": "2022-01-11T00:24:34.135Z"
   },
   {
    "duration": -549,
    "start_time": "2022-01-11T00:24:34.139Z"
   },
   {
    "duration": -555,
    "start_time": "2022-01-11T00:24:34.146Z"
   },
   {
    "duration": -558,
    "start_time": "2022-01-11T00:24:34.150Z"
   },
   {
    "duration": -562,
    "start_time": "2022-01-11T00:24:34.155Z"
   },
   {
    "duration": -569,
    "start_time": "2022-01-11T00:24:34.163Z"
   },
   {
    "duration": -690,
    "start_time": "2022-01-11T00:24:34.285Z"
   },
   {
    "duration": -780,
    "start_time": "2022-01-11T00:24:34.376Z"
   },
   {
    "duration": -785,
    "start_time": "2022-01-11T00:24:34.383Z"
   },
   {
    "duration": -788,
    "start_time": "2022-01-11T00:24:34.387Z"
   },
   {
    "duration": -799,
    "start_time": "2022-01-11T00:24:34.399Z"
   },
   {
    "duration": -804,
    "start_time": "2022-01-11T00:24:34.405Z"
   },
   {
    "duration": -824,
    "start_time": "2022-01-11T00:24:34.426Z"
   },
   {
    "duration": -830,
    "start_time": "2022-01-11T00:24:34.433Z"
   },
   {
    "duration": -832,
    "start_time": "2022-01-11T00:24:34.436Z"
   },
   {
    "duration": -849,
    "start_time": "2022-01-11T00:24:34.454Z"
   },
   {
    "duration": -858,
    "start_time": "2022-01-11T00:24:34.463Z"
   },
   {
    "duration": -863,
    "start_time": "2022-01-11T00:24:34.469Z"
   },
   {
    "duration": 14,
    "start_time": "2022-01-11T00:24:51.803Z"
   },
   {
    "duration": 23,
    "start_time": "2022-01-11T00:25:00.269Z"
   },
   {
    "duration": 8,
    "start_time": "2022-01-11T00:25:12.583Z"
   },
   {
    "duration": 13,
    "start_time": "2022-01-11T00:25:18.361Z"
   },
   {
    "duration": 6,
    "start_time": "2022-01-11T00:26:35.080Z"
   },
   {
    "duration": 3,
    "start_time": "2022-01-11T00:26:43.514Z"
   },
   {
    "duration": 14,
    "start_time": "2022-01-11T00:27:47.056Z"
   },
   {
    "duration": 3,
    "start_time": "2022-01-11T00:27:50.180Z"
   },
   {
    "duration": 3,
    "start_time": "2022-01-11T00:34:46.439Z"
   },
   {
    "duration": 127,
    "start_time": "2022-01-11T00:34:46.902Z"
   },
   {
    "duration": 100,
    "start_time": "2022-01-11T00:34:47.685Z"
   },
   {
    "duration": 188,
    "start_time": "2022-01-11T00:34:49.844Z"
   },
   {
    "duration": 9,
    "start_time": "2022-01-11T00:34:51.920Z"
   },
   {
    "duration": 4,
    "start_time": "2022-01-11T00:34:52.251Z"
   },
   {
    "duration": 3,
    "start_time": "2022-01-11T00:34:53.177Z"
   },
   {
    "duration": 4,
    "start_time": "2022-01-11T00:35:10.182Z"
   },
   {
    "duration": 182,
    "start_time": "2022-01-11T00:35:10.885Z"
   },
   {
    "duration": 168,
    "start_time": "2022-01-11T00:35:18.180Z"
   },
   {
    "duration": 170,
    "start_time": "2022-01-11T00:35:25.438Z"
   },
   {
    "duration": 4338,
    "start_time": "2022-01-11T00:39:14.645Z"
   },
   {
    "duration": 816,
    "start_time": "2022-01-11T00:39:59.811Z"
   },
   {
    "duration": 11,
    "start_time": "2022-01-11T00:40:04.643Z"
   },
   {
    "duration": 168,
    "start_time": "2022-01-11T00:40:04.846Z"
   },
   {
    "duration": 274,
    "start_time": "2022-01-11T00:40:29.888Z"
   },
   {
    "duration": 3273,
    "start_time": "2022-01-11T00:40:44.851Z"
   },
   {
    "duration": 260,
    "start_time": "2022-01-11T00:41:16.473Z"
   },
   {
    "duration": 1511,
    "start_time": "2022-01-11T00:41:26.127Z"
   },
   {
    "duration": 28,
    "start_time": "2022-01-11T00:41:27.640Z"
   },
   {
    "duration": 21,
    "start_time": "2022-01-11T00:41:27.670Z"
   },
   {
    "duration": 5,
    "start_time": "2022-01-11T00:41:27.693Z"
   },
   {
    "duration": 9,
    "start_time": "2022-01-11T00:41:27.699Z"
   },
   {
    "duration": 7,
    "start_time": "2022-01-11T00:41:27.710Z"
   },
   {
    "duration": 8,
    "start_time": "2022-01-11T00:41:27.718Z"
   },
   {
    "duration": 34,
    "start_time": "2022-01-11T00:41:27.728Z"
   },
   {
    "duration": 9,
    "start_time": "2022-01-11T00:41:27.764Z"
   },
   {
    "duration": 5,
    "start_time": "2022-01-11T00:41:27.775Z"
   },
   {
    "duration": 16,
    "start_time": "2022-01-11T00:41:27.782Z"
   },
   {
    "duration": 7,
    "start_time": "2022-01-11T00:41:27.799Z"
   },
   {
    "duration": 40,
    "start_time": "2022-01-11T00:41:27.807Z"
   },
   {
    "duration": 11,
    "start_time": "2022-01-11T00:41:27.861Z"
   },
   {
    "duration": 20,
    "start_time": "2022-01-11T00:41:27.873Z"
   },
   {
    "duration": 13,
    "start_time": "2022-01-11T00:41:27.894Z"
   },
   {
    "duration": 13,
    "start_time": "2022-01-11T00:41:27.909Z"
   },
   {
    "duration": 2,
    "start_time": "2022-01-11T00:41:27.924Z"
   },
   {
    "duration": 132,
    "start_time": "2022-01-11T00:41:27.960Z"
   },
   {
    "duration": 100,
    "start_time": "2022-01-11T00:41:28.094Z"
   },
   {
    "duration": 189,
    "start_time": "2022-01-11T00:41:28.196Z"
   },
   {
    "duration": 9,
    "start_time": "2022-01-11T00:41:28.387Z"
   },
   {
    "duration": 3,
    "start_time": "2022-01-11T00:41:28.398Z"
   },
   {
    "duration": 9,
    "start_time": "2022-01-11T00:41:28.403Z"
   },
   {
    "duration": 198,
    "start_time": "2022-01-11T00:41:28.413Z"
   },
   {
    "duration": 3891,
    "start_time": "2022-01-11T00:41:28.613Z"
   },
   {
    "duration": 720,
    "start_time": "2022-01-11T00:41:32.508Z"
   },
   {
    "duration": 3,
    "start_time": "2022-01-11T00:41:33.229Z"
   },
   {
    "duration": 16,
    "start_time": "2022-01-11T00:41:33.233Z"
   },
   {
    "duration": 175,
    "start_time": "2022-01-11T00:41:33.251Z"
   },
   {
    "duration": 2,
    "start_time": "2022-01-11T00:41:33.428Z"
   },
   {
    "duration": 2112,
    "start_time": "2022-01-11T00:41:33.432Z"
   },
   {
    "duration": 7,
    "start_time": "2022-01-11T00:41:35.547Z"
   },
   {
    "duration": 84,
    "start_time": "2022-01-11T00:41:35.556Z"
   },
   {
    "duration": -135,
    "start_time": "2022-01-11T00:41:35.776Z"
   },
   {
    "duration": -145,
    "start_time": "2022-01-11T00:41:35.787Z"
   },
   {
    "duration": -159,
    "start_time": "2022-01-11T00:41:35.802Z"
   },
   {
    "duration": -164,
    "start_time": "2022-01-11T00:41:35.808Z"
   },
   {
    "duration": -175,
    "start_time": "2022-01-11T00:41:35.820Z"
   },
   {
    "duration": -183,
    "start_time": "2022-01-11T00:41:35.829Z"
   },
   {
    "duration": 6601,
    "start_time": "2022-01-11T00:41:41.824Z"
   },
   {
    "duration": 11,
    "start_time": "2022-01-11T00:42:00.684Z"
   },
   {
    "duration": 257,
    "start_time": "2022-01-11T00:42:06.412Z"
   },
   {
    "duration": 345,
    "start_time": "2022-01-11T00:45:23.918Z"
   },
   {
    "duration": 58,
    "start_time": "2022-01-11T00:45:44.084Z"
   },
   {
    "duration": 4,
    "start_time": "2022-01-11T00:45:50.008Z"
   },
   {
    "duration": 4,
    "start_time": "2022-01-11T00:45:53.989Z"
   },
   {
    "duration": 3,
    "start_time": "2022-01-11T00:45:54.652Z"
   },
   {
    "duration": 3,
    "start_time": "2022-01-11T00:45:58.618Z"
   },
   {
    "duration": 3,
    "start_time": "2022-01-11T00:45:58.930Z"
   },
   {
    "duration": 5,
    "start_time": "2022-01-11T00:52:57.888Z"
   },
   {
    "duration": 260,
    "start_time": "2022-01-11T00:57:37.480Z"
   },
   {
    "duration": 3,
    "start_time": "2022-01-11T01:02:31.730Z"
   },
   {
    "duration": 6631,
    "start_time": "2022-01-11T01:02:37.191Z"
   },
   {
    "duration": 28,
    "start_time": "2022-01-11T01:02:54.640Z"
   },
   {
    "duration": 344,
    "start_time": "2022-01-11T01:03:09.833Z"
   },
   {
    "duration": 12,
    "start_time": "2022-01-11T01:03:16.653Z"
   },
   {
    "duration": 159,
    "start_time": "2022-01-11T01:03:24.671Z"
   },
   {
    "duration": 33911,
    "start_time": "2022-01-11T01:04:15.310Z"
   },
   {
    "duration": 9,
    "start_time": "2022-01-11T01:05:11.760Z"
   },
   {
    "duration": 198,
    "start_time": "2022-01-11T01:05:13.111Z"
   },
   {
    "duration": 209,
    "start_time": "2022-01-11T01:18:43.192Z"
   },
   {
    "duration": 204,
    "start_time": "2022-01-11T01:18:52.806Z"
   },
   {
    "duration": 199,
    "start_time": "2022-01-11T01:18:58.630Z"
   },
   {
    "duration": 205,
    "start_time": "2022-01-11T01:19:04.310Z"
   },
   {
    "duration": 212,
    "start_time": "2022-01-11T01:19:53.561Z"
   },
   {
    "duration": 223,
    "start_time": "2022-01-11T01:20:02.241Z"
   },
   {
    "duration": 210,
    "start_time": "2022-01-11T01:20:14.606Z"
   },
   {
    "duration": 9,
    "start_time": "2022-01-11T01:20:39.601Z"
   },
   {
    "duration": 13,
    "start_time": "2022-01-11T01:20:44.539Z"
   },
   {
    "duration": 3,
    "start_time": "2022-01-11T01:22:21.459Z"
   },
   {
    "duration": 318,
    "start_time": "2022-01-11T01:36:03.218Z"
   },
   {
    "duration": 4,
    "start_time": "2022-01-11T01:36:17.633Z"
   },
   {
    "duration": 85,
    "start_time": "2022-01-11T01:36:21.654Z"
   },
   {
    "duration": 361,
    "start_time": "2022-01-11T01:38:22.535Z"
   },
   {
    "duration": 701,
    "start_time": "2022-01-11T01:38:54.097Z"
   },
   {
    "duration": 12,
    "start_time": "2022-01-11T01:39:27.204Z"
   },
   {
    "duration": 270,
    "start_time": "2022-01-11T01:40:58.805Z"
   },
   {
    "duration": 108,
    "start_time": "2022-01-11T01:44:01.275Z"
   },
   {
    "duration": 10,
    "start_time": "2022-01-11T01:44:15.151Z"
   },
   {
    "duration": 15,
    "start_time": "2022-01-11T01:44:20.957Z"
   },
   {
    "duration": 15,
    "start_time": "2022-01-11T01:45:05.304Z"
   },
   {
    "duration": 14,
    "start_time": "2022-01-11T01:46:14.863Z"
   },
   {
    "duration": 302,
    "start_time": "2022-01-11T01:46:30.863Z"
   },
   {
    "duration": 282,
    "start_time": "2022-01-11T01:46:38.155Z"
   },
   {
    "duration": 16,
    "start_time": "2022-01-11T01:46:42.647Z"
   },
   {
    "duration": 260,
    "start_time": "2022-01-11T01:46:57.867Z"
   },
   {
    "duration": 15,
    "start_time": "2022-01-11T01:47:16.043Z"
   },
   {
    "duration": 264,
    "start_time": "2022-01-11T01:47:49.082Z"
   },
   {
    "duration": 15,
    "start_time": "2022-01-11T01:48:31.185Z"
   },
   {
    "duration": 202,
    "start_time": "2022-01-11T01:49:11.358Z"
   },
   {
    "duration": 16,
    "start_time": "2022-01-11T02:19:35.974Z"
   },
   {
    "duration": 256,
    "start_time": "2022-01-11T02:22:29.344Z"
   },
   {
    "duration": 262,
    "start_time": "2022-01-11T02:22:39.867Z"
   },
   {
    "duration": 257,
    "start_time": "2022-01-11T02:22:43.625Z"
   },
   {
    "duration": 10,
    "start_time": "2022-01-11T02:22:55.222Z"
   },
   {
    "duration": 266,
    "start_time": "2022-01-11T02:23:05.571Z"
   },
   {
    "duration": 263,
    "start_time": "2022-01-11T02:23:12.737Z"
   },
   {
    "duration": 276,
    "start_time": "2022-01-11T02:25:37.440Z"
   },
   {
    "duration": 254,
    "start_time": "2022-01-11T02:25:42.053Z"
   },
   {
    "duration": 7,
    "start_time": "2022-01-11T02:26:00.147Z"
   },
   {
    "duration": 274,
    "start_time": "2022-01-11T02:26:13.656Z"
   },
   {
    "duration": 12,
    "start_time": "2022-01-11T02:26:20.167Z"
   },
   {
    "duration": 11,
    "start_time": "2022-01-11T02:26:41.404Z"
   },
   {
    "duration": 12,
    "start_time": "2022-01-11T02:26:54.997Z"
   },
   {
    "duration": 11,
    "start_time": "2022-01-11T02:27:09.855Z"
   },
   {
    "duration": 5,
    "start_time": "2022-01-11T02:39:56.472Z"
   },
   {
    "duration": 328,
    "start_time": "2022-01-11T02:45:36.653Z"
   },
   {
    "duration": 4,
    "start_time": "2022-01-11T02:45:43.312Z"
   },
   {
    "duration": 8,
    "start_time": "2022-01-11T02:46:29.739Z"
   },
   {
    "duration": 2,
    "start_time": "2022-01-11T02:46:35.818Z"
   },
   {
    "duration": 83,
    "start_time": "2022-01-11T02:49:07.550Z"
   },
   {
    "duration": 4,
    "start_time": "2022-01-11T02:52:43.065Z"
   },
   {
    "duration": 152,
    "start_time": "2022-01-11T02:54:15.191Z"
   },
   {
    "duration": 774,
    "start_time": "2022-01-11T02:54:25.834Z"
   },
   {
    "duration": 947,
    "start_time": "2022-01-11T03:54:16.892Z"
   },
   {
    "duration": 292,
    "start_time": "2022-01-11T03:54:33.689Z"
   },
   {
    "duration": 907,
    "start_time": "2022-01-11T03:55:33.440Z"
   },
   {
    "duration": 804,
    "start_time": "2022-01-11T03:55:41.280Z"
   },
   {
    "duration": 89,
    "start_time": "2022-01-11T04:07:51.587Z"
   },
   {
    "duration": 78,
    "start_time": "2022-01-11T04:08:02.588Z"
   },
   {
    "duration": 6081,
    "start_time": "2022-01-11T04:08:13.533Z"
   },
   {
    "duration": 6153,
    "start_time": "2022-01-11T04:08:40.131Z"
   },
   {
    "duration": 5870,
    "start_time": "2022-01-11T04:10:40.811Z"
   },
   {
    "duration": 6535,
    "start_time": "2022-01-11T04:11:02.417Z"
   },
   {
    "duration": 14,
    "start_time": "2022-01-11T04:11:16.815Z"
   },
   {
    "duration": 17,
    "start_time": "2022-01-11T04:12:01.854Z"
   },
   {
    "duration": 14,
    "start_time": "2022-01-11T04:12:15.617Z"
   },
   {
    "duration": 14,
    "start_time": "2022-01-11T04:12:24.357Z"
   },
   {
    "duration": 14,
    "start_time": "2022-01-11T04:12:28.688Z"
   },
   {
    "duration": 14,
    "start_time": "2022-01-11T04:12:32.478Z"
   },
   {
    "duration": 15,
    "start_time": "2022-01-11T04:12:35.776Z"
   },
   {
    "duration": 13,
    "start_time": "2022-01-11T04:12:44.595Z"
   },
   {
    "duration": 9,
    "start_time": "2022-01-11T04:12:50.592Z"
   },
   {
    "duration": 656,
    "start_time": "2022-01-11T04:13:07.014Z"
   },
   {
    "duration": 110,
    "start_time": "2022-01-11T04:13:16.070Z"
   },
   {
    "duration": 11,
    "start_time": "2022-01-11T04:14:29.344Z"
   },
   {
    "duration": 123,
    "start_time": "2022-01-11T04:14:30.272Z"
   },
   {
    "duration": 132,
    "start_time": "2022-01-11T04:14:57.006Z"
   },
   {
    "duration": 158,
    "start_time": "2022-01-11T04:15:04.622Z"
   },
   {
    "duration": 363,
    "start_time": "2022-01-11T04:15:12.812Z"
   },
   {
    "duration": 286,
    "start_time": "2022-01-11T04:15:22.002Z"
   },
   {
    "duration": 238,
    "start_time": "2022-01-11T04:15:29.404Z"
   },
   {
    "duration": 118,
    "start_time": "2022-01-11T04:15:34.348Z"
   },
   {
    "duration": 184,
    "start_time": "2022-01-11T04:15:38.253Z"
   },
   {
    "duration": 126,
    "start_time": "2022-01-11T04:15:45.642Z"
   },
   {
    "duration": 119,
    "start_time": "2022-01-11T04:15:49.220Z"
   },
   {
    "duration": 126,
    "start_time": "2022-01-11T04:16:24.951Z"
   },
   {
    "duration": 87,
    "start_time": "2022-01-11T04:16:44.547Z"
   },
   {
    "duration": 122,
    "start_time": "2022-01-11T04:16:46.764Z"
   },
   {
    "duration": 9,
    "start_time": "2022-01-11T04:22:22.226Z"
   },
   {
    "duration": 1513,
    "start_time": "2022-01-11T04:23:10.439Z"
   },
   {
    "duration": 28,
    "start_time": "2022-01-11T04:23:11.954Z"
   },
   {
    "duration": 20,
    "start_time": "2022-01-11T04:23:11.985Z"
   },
   {
    "duration": 13,
    "start_time": "2022-01-11T04:23:12.007Z"
   },
   {
    "duration": 42,
    "start_time": "2022-01-11T04:23:12.021Z"
   },
   {
    "duration": 21,
    "start_time": "2022-01-11T04:23:12.065Z"
   },
   {
    "duration": 23,
    "start_time": "2022-01-11T04:23:12.088Z"
   },
   {
    "duration": 25,
    "start_time": "2022-01-11T04:23:12.112Z"
   },
   {
    "duration": 21,
    "start_time": "2022-01-11T04:23:12.140Z"
   },
   {
    "duration": 29,
    "start_time": "2022-01-11T04:23:12.163Z"
   },
   {
    "duration": 28,
    "start_time": "2022-01-11T04:23:12.193Z"
   },
   {
    "duration": 12,
    "start_time": "2022-01-11T04:23:12.223Z"
   },
   {
    "duration": 58,
    "start_time": "2022-01-11T04:23:12.237Z"
   },
   {
    "duration": 13,
    "start_time": "2022-01-11T04:23:12.296Z"
   },
   {
    "duration": 20,
    "start_time": "2022-01-11T04:23:12.311Z"
   },
   {
    "duration": 38,
    "start_time": "2022-01-11T04:23:12.332Z"
   },
   {
    "duration": 30,
    "start_time": "2022-01-11T04:23:12.372Z"
   },
   {
    "duration": 10,
    "start_time": "2022-01-11T04:23:12.403Z"
   },
   {
    "duration": 151,
    "start_time": "2022-01-11T04:23:12.414Z"
   },
   {
    "duration": 111,
    "start_time": "2022-01-11T04:23:12.566Z"
   },
   {
    "duration": 190,
    "start_time": "2022-01-11T04:23:12.679Z"
   },
   {
    "duration": 10,
    "start_time": "2022-01-11T04:23:12.870Z"
   },
   {
    "duration": 4,
    "start_time": "2022-01-11T04:23:12.882Z"
   },
   {
    "duration": 7,
    "start_time": "2022-01-11T04:23:12.887Z"
   },
   {
    "duration": 203,
    "start_time": "2022-01-11T04:23:12.896Z"
   },
   {
    "duration": 4406,
    "start_time": "2022-01-11T04:23:13.101Z"
   },
   {
    "duration": 846,
    "start_time": "2022-01-11T04:23:17.510Z"
   },
   {
    "duration": 3,
    "start_time": "2022-01-11T04:23:18.358Z"
   },
   {
    "duration": 33,
    "start_time": "2022-01-11T04:23:18.363Z"
   },
   {
    "duration": 175,
    "start_time": "2022-01-11T04:23:18.398Z"
   },
   {
    "duration": 3,
    "start_time": "2022-01-11T04:23:18.575Z"
   },
   {
    "duration": 19,
    "start_time": "2022-01-11T04:23:18.579Z"
   },
   {
    "duration": 40,
    "start_time": "2022-01-11T04:23:18.600Z"
   },
   {
    "duration": 23,
    "start_time": "2022-01-11T04:23:18.641Z"
   },
   {
    "duration": 219,
    "start_time": "2022-01-11T04:23:18.666Z"
   },
   {
    "duration": 9,
    "start_time": "2022-01-11T04:23:18.887Z"
   },
   {
    "duration": 14,
    "start_time": "2022-01-11T04:23:18.897Z"
   },
   {
    "duration": 10,
    "start_time": "2022-01-11T04:23:18.912Z"
   },
   {
    "duration": 158,
    "start_time": "2022-01-11T04:23:18.923Z"
   },
   {
    "duration": 7,
    "start_time": "2022-01-11T04:24:59.830Z"
   },
   {
    "duration": 12,
    "start_time": "2022-01-11T04:25:09.278Z"
   },
   {
    "duration": 10,
    "start_time": "2022-01-11T04:25:33.716Z"
   },
   {
    "duration": 1431,
    "start_time": "2022-01-11T04:26:39.412Z"
   },
   {
    "duration": 28,
    "start_time": "2022-01-11T04:26:40.845Z"
   },
   {
    "duration": 20,
    "start_time": "2022-01-11T04:26:40.875Z"
   },
   {
    "duration": 6,
    "start_time": "2022-01-11T04:26:40.897Z"
   },
   {
    "duration": 12,
    "start_time": "2022-01-11T04:26:40.905Z"
   },
   {
    "duration": 8,
    "start_time": "2022-01-11T04:26:40.918Z"
   },
   {
    "duration": 35,
    "start_time": "2022-01-11T04:26:40.927Z"
   },
   {
    "duration": 5,
    "start_time": "2022-01-11T04:26:40.964Z"
   },
   {
    "duration": 7,
    "start_time": "2022-01-11T04:26:40.972Z"
   },
   {
    "duration": 4,
    "start_time": "2022-01-11T04:26:40.981Z"
   },
   {
    "duration": 10,
    "start_time": "2022-01-11T04:26:40.987Z"
   },
   {
    "duration": 5,
    "start_time": "2022-01-11T04:26:40.999Z"
   },
   {
    "duration": 85,
    "start_time": "2022-01-11T04:26:41.006Z"
   },
   {
    "duration": 13,
    "start_time": "2022-01-11T04:26:41.093Z"
   },
   {
    "duration": 56,
    "start_time": "2022-01-11T04:26:41.108Z"
   },
   {
    "duration": 16,
    "start_time": "2022-01-11T04:26:41.166Z"
   },
   {
    "duration": 14,
    "start_time": "2022-01-11T04:26:41.184Z"
   },
   {
    "duration": 4,
    "start_time": "2022-01-11T04:26:41.200Z"
   },
   {
    "duration": 169,
    "start_time": "2022-01-11T04:26:41.206Z"
   },
   {
    "duration": 117,
    "start_time": "2022-01-11T04:26:41.377Z"
   },
   {
    "duration": 190,
    "start_time": "2022-01-11T04:26:41.496Z"
   },
   {
    "duration": 9,
    "start_time": "2022-01-11T04:26:41.688Z"
   },
   {
    "duration": 4,
    "start_time": "2022-01-11T04:26:41.700Z"
   },
   {
    "duration": 5,
    "start_time": "2022-01-11T04:26:41.706Z"
   },
   {
    "duration": 205,
    "start_time": "2022-01-11T04:26:41.713Z"
   },
   {
    "duration": 3858,
    "start_time": "2022-01-11T04:26:41.920Z"
   },
   {
    "duration": 739,
    "start_time": "2022-01-11T04:26:45.780Z"
   },
   {
    "duration": 2,
    "start_time": "2022-01-11T04:26:46.521Z"
   },
   {
    "duration": 24,
    "start_time": "2022-01-11T04:26:46.524Z"
   },
   {
    "duration": 175,
    "start_time": "2022-01-11T04:26:46.550Z"
   },
   {
    "duration": 2,
    "start_time": "2022-01-11T04:26:46.727Z"
   },
   {
    "duration": 20,
    "start_time": "2022-01-11T04:26:46.731Z"
   },
   {
    "duration": 62,
    "start_time": "2022-01-11T04:26:46.752Z"
   },
   {
    "duration": 31,
    "start_time": "2022-01-11T04:26:46.816Z"
   },
   {
    "duration": 220,
    "start_time": "2022-01-11T04:26:46.849Z"
   },
   {
    "duration": 7,
    "start_time": "2022-01-11T04:26:47.070Z"
   },
   {
    "duration": 31,
    "start_time": "2022-01-11T04:26:47.078Z"
   },
   {
    "duration": 55,
    "start_time": "2022-01-11T04:26:47.111Z"
   },
   {
    "duration": 133,
    "start_time": "2022-01-11T04:26:47.168Z"
   },
   {
    "duration": 124,
    "start_time": "2022-01-11T04:28:35.630Z"
   },
   {
    "duration": 18,
    "start_time": "2022-01-11T04:42:12.629Z"
   },
   {
    "duration": 15,
    "start_time": "2022-01-11T04:42:58.535Z"
   },
   {
    "duration": 3,
    "start_time": "2022-01-11T04:46:38.101Z"
   },
   {
    "duration": 16,
    "start_time": "2022-01-11T04:48:33.156Z"
   },
   {
    "duration": 19,
    "start_time": "2022-01-11T04:49:16.540Z"
   },
   {
    "duration": 14,
    "start_time": "2022-01-11T04:50:54.345Z"
   },
   {
    "duration": 16,
    "start_time": "2022-01-11T04:50:57.115Z"
   },
   {
    "duration": 13,
    "start_time": "2022-01-11T04:51:07.786Z"
   },
   {
    "duration": 14,
    "start_time": "2022-01-11T04:51:11.468Z"
   },
   {
    "duration": 15,
    "start_time": "2022-01-11T04:51:28.430Z"
   },
   {
    "duration": 7878,
    "start_time": "2022-01-11T04:51:39.016Z"
   },
   {
    "duration": 1513,
    "start_time": "2022-01-11T04:51:52.125Z"
   },
   {
    "duration": 28,
    "start_time": "2022-01-11T04:51:53.640Z"
   },
   {
    "duration": 21,
    "start_time": "2022-01-11T04:51:53.670Z"
   },
   {
    "duration": 5,
    "start_time": "2022-01-11T04:51:53.693Z"
   },
   {
    "duration": 9,
    "start_time": "2022-01-11T04:51:53.700Z"
   },
   {
    "duration": 7,
    "start_time": "2022-01-11T04:51:53.711Z"
   },
   {
    "duration": 45,
    "start_time": "2022-01-11T04:51:53.719Z"
   },
   {
    "duration": 5,
    "start_time": "2022-01-11T04:51:53.767Z"
   },
   {
    "duration": 7,
    "start_time": "2022-01-11T04:51:53.774Z"
   },
   {
    "duration": 7,
    "start_time": "2022-01-11T04:51:53.782Z"
   },
   {
    "duration": 11,
    "start_time": "2022-01-11T04:51:53.791Z"
   },
   {
    "duration": 6,
    "start_time": "2022-01-11T04:51:53.803Z"
   },
   {
    "duration": 79,
    "start_time": "2022-01-11T04:51:53.811Z"
   },
   {
    "duration": 10,
    "start_time": "2022-01-11T04:51:53.892Z"
   },
   {
    "duration": 22,
    "start_time": "2022-01-11T04:51:53.904Z"
   },
   {
    "duration": 45,
    "start_time": "2022-01-11T04:51:53.928Z"
   },
   {
    "duration": 13,
    "start_time": "2022-01-11T04:51:53.975Z"
   },
   {
    "duration": 3,
    "start_time": "2022-01-11T04:51:53.990Z"
   },
   {
    "duration": 172,
    "start_time": "2022-01-11T04:51:53.995Z"
   },
   {
    "duration": 117,
    "start_time": "2022-01-11T04:51:54.169Z"
   },
   {
    "duration": 198,
    "start_time": "2022-01-11T04:51:54.288Z"
   },
   {
    "duration": 9,
    "start_time": "2022-01-11T04:51:54.488Z"
   },
   {
    "duration": 4,
    "start_time": "2022-01-11T04:51:54.500Z"
   },
   {
    "duration": 5,
    "start_time": "2022-01-11T04:51:54.506Z"
   },
   {
    "duration": 201,
    "start_time": "2022-01-11T04:51:54.513Z"
   },
   {
    "duration": 4292,
    "start_time": "2022-01-11T04:51:54.716Z"
   },
   {
    "duration": 862,
    "start_time": "2022-01-11T04:51:59.010Z"
   },
   {
    "duration": 2,
    "start_time": "2022-01-11T04:51:59.874Z"
   },
   {
    "duration": 25,
    "start_time": "2022-01-11T04:51:59.877Z"
   },
   {
    "duration": 191,
    "start_time": "2022-01-11T04:51:59.904Z"
   },
   {
    "duration": 3,
    "start_time": "2022-01-11T04:52:00.096Z"
   },
   {
    "duration": 12,
    "start_time": "2022-01-11T04:52:00.100Z"
   },
   {
    "duration": 44,
    "start_time": "2022-01-11T04:52:00.114Z"
   },
   {
    "duration": 15,
    "start_time": "2022-01-11T04:52:00.160Z"
   },
   {
    "duration": 233,
    "start_time": "2022-01-11T04:52:00.176Z"
   },
   {
    "duration": 6,
    "start_time": "2022-01-11T04:52:00.411Z"
   },
   {
    "duration": 14,
    "start_time": "2022-01-11T04:52:00.419Z"
   },
   {
    "duration": 33,
    "start_time": "2022-01-11T04:52:00.435Z"
   },
   {
    "duration": 142,
    "start_time": "2022-01-11T04:52:00.470Z"
   },
   {
    "duration": 6,
    "start_time": "2022-01-11T04:52:00.614Z"
   },
   {
    "duration": 18,
    "start_time": "2022-01-11T04:52:00.622Z"
   },
   {
    "duration": 7488,
    "start_time": "2022-01-11T04:52:00.642Z"
   },
   {
    "duration": 26,
    "start_time": "2022-01-11T04:52:18.723Z"
   },
   {
    "duration": 106,
    "start_time": "2022-01-11T04:53:15.989Z"
   },
   {
    "duration": 91,
    "start_time": "2022-01-11T04:53:20.074Z"
   },
   {
    "duration": 6,
    "start_time": "2022-01-11T04:53:27.272Z"
   },
   {
    "duration": 13,
    "start_time": "2022-01-11T04:53:32.022Z"
   },
   {
    "duration": 305,
    "start_time": "2022-01-11T04:54:25.536Z"
   },
   {
    "duration": 267,
    "start_time": "2022-01-11T04:55:16.808Z"
   },
   {
    "duration": 185,
    "start_time": "2022-01-11T04:55:33.141Z"
   },
   {
    "duration": 173,
    "start_time": "2022-01-11T04:55:39.069Z"
   },
   {
    "duration": 6,
    "start_time": "2022-01-11T04:56:24.451Z"
   },
   {
    "duration": 12,
    "start_time": "2022-01-11T04:56:31.392Z"
   },
   {
    "duration": 5,
    "start_time": "2022-01-11T04:56:32.483Z"
   },
   {
    "duration": 96,
    "start_time": "2022-01-11T04:57:30.197Z"
   },
   {
    "duration": 7,
    "start_time": "2022-01-11T04:58:13.048Z"
   },
   {
    "duration": 11,
    "start_time": "2022-01-11T04:58:15.556Z"
   },
   {
    "duration": 6,
    "start_time": "2022-01-11T04:58:16.313Z"
   },
   {
    "duration": 1559,
    "start_time": "2022-01-11T04:58:29.436Z"
   },
   {
    "duration": 30,
    "start_time": "2022-01-11T04:58:30.997Z"
   },
   {
    "duration": 32,
    "start_time": "2022-01-11T04:58:31.029Z"
   },
   {
    "duration": 8,
    "start_time": "2022-01-11T04:58:31.063Z"
   },
   {
    "duration": 33,
    "start_time": "2022-01-11T04:58:31.072Z"
   },
   {
    "duration": 20,
    "start_time": "2022-01-11T04:58:31.107Z"
   },
   {
    "duration": 19,
    "start_time": "2022-01-11T04:58:31.129Z"
   },
   {
    "duration": 6,
    "start_time": "2022-01-11T04:58:31.151Z"
   },
   {
    "duration": 29,
    "start_time": "2022-01-11T04:58:31.159Z"
   },
   {
    "duration": 26,
    "start_time": "2022-01-11T04:58:31.190Z"
   },
   {
    "duration": 36,
    "start_time": "2022-01-11T04:58:31.218Z"
   },
   {
    "duration": 8,
    "start_time": "2022-01-11T04:58:31.256Z"
   },
   {
    "duration": 51,
    "start_time": "2022-01-11T04:58:31.266Z"
   },
   {
    "duration": 10,
    "start_time": "2022-01-11T04:58:31.319Z"
   },
   {
    "duration": 30,
    "start_time": "2022-01-11T04:58:31.331Z"
   },
   {
    "duration": 14,
    "start_time": "2022-01-11T04:58:31.364Z"
   },
   {
    "duration": 15,
    "start_time": "2022-01-11T04:58:31.379Z"
   },
   {
    "duration": 3,
    "start_time": "2022-01-11T04:58:31.396Z"
   },
   {
    "duration": 164,
    "start_time": "2022-01-11T04:58:31.400Z"
   },
   {
    "duration": 110,
    "start_time": "2022-01-11T04:58:31.566Z"
   },
   {
    "duration": 195,
    "start_time": "2022-01-11T04:58:31.678Z"
   },
   {
    "duration": 9,
    "start_time": "2022-01-11T04:58:31.875Z"
   },
   {
    "duration": 4,
    "start_time": "2022-01-11T04:58:31.887Z"
   },
   {
    "duration": 9,
    "start_time": "2022-01-11T04:58:31.893Z"
   },
   {
    "duration": 206,
    "start_time": "2022-01-11T04:58:31.904Z"
   },
   {
    "duration": 3953,
    "start_time": "2022-01-11T04:58:32.112Z"
   },
   {
    "duration": 744,
    "start_time": "2022-01-11T04:58:36.068Z"
   },
   {
    "duration": 3,
    "start_time": "2022-01-11T04:58:36.813Z"
   },
   {
    "duration": 14,
    "start_time": "2022-01-11T04:58:36.817Z"
   },
   {
    "duration": 187,
    "start_time": "2022-01-11T04:58:36.832Z"
   },
   {
    "duration": 2,
    "start_time": "2022-01-11T04:58:37.021Z"
   },
   {
    "duration": 6,
    "start_time": "2022-01-11T04:58:37.025Z"
   },
   {
    "duration": 49,
    "start_time": "2022-01-11T04:58:37.032Z"
   },
   {
    "duration": 13,
    "start_time": "2022-01-11T04:58:37.083Z"
   },
   {
    "duration": 227,
    "start_time": "2022-01-11T04:58:37.098Z"
   },
   {
    "duration": 7,
    "start_time": "2022-01-11T04:58:37.327Z"
   },
   {
    "duration": 27,
    "start_time": "2022-01-11T04:58:37.335Z"
   },
   {
    "duration": 17,
    "start_time": "2022-01-11T04:58:37.364Z"
   },
   {
    "duration": 144,
    "start_time": "2022-01-11T04:58:37.382Z"
   },
   {
    "duration": 15,
    "start_time": "2022-01-11T04:58:37.528Z"
   },
   {
    "duration": 28,
    "start_time": "2022-01-11T04:58:37.545Z"
   },
   {
    "duration": 7,
    "start_time": "2022-01-11T04:58:37.575Z"
   },
   {
    "duration": 13,
    "start_time": "2022-01-11T04:58:37.583Z"
   },
   {
    "duration": 12,
    "start_time": "2022-01-11T04:58:37.598Z"
   },
   {
    "duration": 273,
    "start_time": "2022-01-11T04:58:37.611Z"
   },
   {
    "duration": 372,
    "start_time": "2022-01-11T04:58:37.886Z"
   },
   {
    "duration": 8,
    "start_time": "2022-01-11T04:58:54.943Z"
   },
   {
    "duration": 12,
    "start_time": "2022-01-11T04:58:55.466Z"
   },
   {
    "duration": 12,
    "start_time": "2022-01-11T04:58:56.151Z"
   },
   {
    "duration": 243,
    "start_time": "2022-01-11T04:59:50.223Z"
   },
   {
    "duration": 175,
    "start_time": "2022-01-11T05:10:22.474Z"
   },
   {
    "duration": 248,
    "start_time": "2022-01-11T05:10:27.526Z"
   },
   {
    "duration": 340,
    "start_time": "2022-01-11T05:10:32.567Z"
   },
   {
    "duration": 258,
    "start_time": "2022-01-11T05:10:37.359Z"
   },
   {
    "duration": 14,
    "start_time": "2022-01-11T05:29:10.421Z"
   },
   {
    "duration": 14,
    "start_time": "2022-01-11T05:29:39.558Z"
   },
   {
    "duration": 255,
    "start_time": "2022-01-11T05:31:47.168Z"
   },
   {
    "duration": 255,
    "start_time": "2022-01-11T05:32:44.308Z"
   },
   {
    "duration": 315,
    "start_time": "2022-01-11T05:34:39.424Z"
   },
   {
    "duration": 298,
    "start_time": "2022-01-11T05:34:43.041Z"
   },
   {
    "duration": 87,
    "start_time": "2022-01-11T05:40:10.878Z"
   },
   {
    "duration": 16,
    "start_time": "2022-01-11T05:45:45.378Z"
   },
   {
    "duration": 14,
    "start_time": "2022-01-11T05:46:09.297Z"
   },
   {
    "duration": 15,
    "start_time": "2022-01-11T05:46:32.018Z"
   },
   {
    "duration": 15,
    "start_time": "2022-01-11T05:46:41.746Z"
   },
   {
    "duration": 16,
    "start_time": "2022-01-11T05:56:29.510Z"
   },
   {
    "duration": 274,
    "start_time": "2022-01-11T06:00:45.070Z"
   },
   {
    "duration": 254,
    "start_time": "2022-01-11T06:00:56.060Z"
   },
   {
    "duration": 244,
    "start_time": "2022-01-11T06:01:29.238Z"
   },
   {
    "duration": 255,
    "start_time": "2022-01-11T06:01:33.411Z"
   },
   {
    "duration": 23,
    "start_time": "2022-01-11T06:12:35.470Z"
   },
   {
    "duration": 32,
    "start_time": "2022-01-11T06:12:40.404Z"
   },
   {
    "duration": 1446,
    "start_time": "2022-01-11T06:13:19.113Z"
   },
   {
    "duration": 28,
    "start_time": "2022-01-11T06:13:20.561Z"
   },
   {
    "duration": 23,
    "start_time": "2022-01-11T06:13:20.591Z"
   },
   {
    "duration": 18,
    "start_time": "2022-01-11T06:13:20.616Z"
   },
   {
    "duration": 33,
    "start_time": "2022-01-11T06:13:20.636Z"
   },
   {
    "duration": 20,
    "start_time": "2022-01-11T06:13:20.671Z"
   },
   {
    "duration": 27,
    "start_time": "2022-01-11T06:13:20.692Z"
   },
   {
    "duration": 11,
    "start_time": "2022-01-11T06:13:20.722Z"
   },
   {
    "duration": 16,
    "start_time": "2022-01-11T06:13:20.735Z"
   },
   {
    "duration": 19,
    "start_time": "2022-01-11T06:13:20.752Z"
   },
   {
    "duration": 27,
    "start_time": "2022-01-11T06:13:20.773Z"
   },
   {
    "duration": 20,
    "start_time": "2022-01-11T06:13:20.802Z"
   },
   {
    "duration": 42,
    "start_time": "2022-01-11T06:13:20.824Z"
   },
   {
    "duration": 10,
    "start_time": "2022-01-11T06:13:20.868Z"
   },
   {
    "duration": 42,
    "start_time": "2022-01-11T06:13:20.879Z"
   },
   {
    "duration": 17,
    "start_time": "2022-01-11T06:13:20.923Z"
   },
   {
    "duration": 13,
    "start_time": "2022-01-11T06:13:20.941Z"
   },
   {
    "duration": 4,
    "start_time": "2022-01-11T06:13:20.956Z"
   },
   {
    "duration": 142,
    "start_time": "2022-01-11T06:13:20.962Z"
   },
   {
    "duration": 107,
    "start_time": "2022-01-11T06:13:21.106Z"
   },
   {
    "duration": 186,
    "start_time": "2022-01-11T06:13:21.215Z"
   },
   {
    "duration": 16,
    "start_time": "2022-01-11T06:13:21.402Z"
   },
   {
    "duration": 13,
    "start_time": "2022-01-11T06:13:21.421Z"
   },
   {
    "duration": 32,
    "start_time": "2022-01-11T06:13:21.436Z"
   },
   {
    "duration": 300,
    "start_time": "2022-01-11T06:13:21.469Z"
   },
   {
    "duration": 233,
    "start_time": "2022-01-11T06:13:21.771Z"
   },
   {
    "duration": 4266,
    "start_time": "2022-01-11T06:13:22.006Z"
   },
   {
    "duration": 858,
    "start_time": "2022-01-11T06:13:26.274Z"
   },
   {
    "duration": 2,
    "start_time": "2022-01-11T06:13:27.134Z"
   },
   {
    "duration": 23,
    "start_time": "2022-01-11T06:13:27.137Z"
   },
   {
    "duration": 173,
    "start_time": "2022-01-11T06:13:27.162Z"
   },
   {
    "duration": 2,
    "start_time": "2022-01-11T06:13:27.336Z"
   },
   {
    "duration": 5,
    "start_time": "2022-01-11T06:13:27.340Z"
   },
   {
    "duration": 40,
    "start_time": "2022-01-11T06:13:27.346Z"
   },
   {
    "duration": 15,
    "start_time": "2022-01-11T06:13:27.388Z"
   },
   {
    "duration": 233,
    "start_time": "2022-01-11T06:13:27.405Z"
   },
   {
    "duration": 6,
    "start_time": "2022-01-11T06:13:27.640Z"
   },
   {
    "duration": 21,
    "start_time": "2022-01-11T06:13:27.648Z"
   },
   {
    "duration": 9,
    "start_time": "2022-01-11T06:13:27.671Z"
   },
   {
    "duration": 144,
    "start_time": "2022-01-11T06:13:27.682Z"
   },
   {
    "duration": 14,
    "start_time": "2022-01-11T06:13:27.827Z"
   },
   {
    "duration": 30,
    "start_time": "2022-01-11T06:13:27.842Z"
   },
   {
    "duration": 13,
    "start_time": "2022-01-11T06:13:27.874Z"
   },
   {
    "duration": 280,
    "start_time": "2022-01-11T06:13:27.889Z"
   },
   {
    "duration": 124,
    "start_time": "2022-01-13T06:29:32.710Z"
   },
   {
    "duration": 1491,
    "start_time": "2022-01-13T06:29:38.898Z"
   },
   {
    "duration": 33,
    "start_time": "2022-01-13T06:29:40.391Z"
   },
   {
    "duration": 20,
    "start_time": "2022-01-13T06:29:40.426Z"
   },
   {
    "duration": 5,
    "start_time": "2022-01-13T06:29:40.448Z"
   },
   {
    "duration": 10,
    "start_time": "2022-01-13T06:29:40.454Z"
   },
   {
    "duration": 9,
    "start_time": "2022-01-13T06:29:40.465Z"
   },
   {
    "duration": 8,
    "start_time": "2022-01-13T06:29:40.476Z"
   },
   {
    "duration": 6,
    "start_time": "2022-01-13T06:29:40.486Z"
   },
   {
    "duration": 7,
    "start_time": "2022-01-13T06:29:40.495Z"
   },
   {
    "duration": 6,
    "start_time": "2022-01-13T06:29:40.504Z"
   },
   {
    "duration": 36,
    "start_time": "2022-01-13T06:29:40.511Z"
   },
   {
    "duration": 6,
    "start_time": "2022-01-13T06:29:40.548Z"
   },
   {
    "duration": 46,
    "start_time": "2022-01-13T06:29:40.555Z"
   },
   {
    "duration": 10,
    "start_time": "2022-01-13T06:29:40.603Z"
   },
   {
    "duration": 26,
    "start_time": "2022-01-13T06:29:40.615Z"
   },
   {
    "duration": 14,
    "start_time": "2022-01-13T06:29:40.642Z"
   },
   {
    "duration": 22,
    "start_time": "2022-01-13T06:29:40.657Z"
   },
   {
    "duration": 2,
    "start_time": "2022-01-13T06:29:40.681Z"
   },
   {
    "duration": 119,
    "start_time": "2022-01-13T06:29:40.684Z"
   },
   {
    "duration": -838,
    "start_time": "2022-01-13T06:29:41.643Z"
   },
   {
    "duration": -842,
    "start_time": "2022-01-13T06:29:41.647Z"
   },
   {
    "duration": -844,
    "start_time": "2022-01-13T06:29:41.650Z"
   },
   {
    "duration": -980,
    "start_time": "2022-01-13T06:29:41.787Z"
   },
   {
    "duration": -982,
    "start_time": "2022-01-13T06:29:41.790Z"
   },
   {
    "duration": -991,
    "start_time": "2022-01-13T06:29:41.800Z"
   },
   {
    "duration": -1005,
    "start_time": "2022-01-13T06:29:41.815Z"
   },
   {
    "duration": -1008,
    "start_time": "2022-01-13T06:29:41.819Z"
   },
   {
    "duration": -1013,
    "start_time": "2022-01-13T06:29:41.824Z"
   },
   {
    "duration": -1016,
    "start_time": "2022-01-13T06:29:41.828Z"
   },
   {
    "duration": -1018,
    "start_time": "2022-01-13T06:29:41.831Z"
   },
   {
    "duration": -1021,
    "start_time": "2022-01-13T06:29:41.835Z"
   },
   {
    "duration": -1023,
    "start_time": "2022-01-13T06:29:41.838Z"
   },
   {
    "duration": -1026,
    "start_time": "2022-01-13T06:29:41.842Z"
   },
   {
    "duration": -1028,
    "start_time": "2022-01-13T06:29:41.845Z"
   },
   {
    "duration": -1031,
    "start_time": "2022-01-13T06:29:41.849Z"
   },
   {
    "duration": -1160,
    "start_time": "2022-01-13T06:29:41.979Z"
   },
   {
    "duration": -1175,
    "start_time": "2022-01-13T06:29:41.994Z"
   },
   {
    "duration": -1177,
    "start_time": "2022-01-13T06:29:41.997Z"
   },
   {
    "duration": -1182,
    "start_time": "2022-01-13T06:29:42.003Z"
   },
   {
    "duration": -1193,
    "start_time": "2022-01-13T06:29:42.015Z"
   },
   {
    "duration": -1198,
    "start_time": "2022-01-13T06:29:42.021Z"
   },
   {
    "duration": -1201,
    "start_time": "2022-01-13T06:29:42.025Z"
   },
   {
    "duration": -1204,
    "start_time": "2022-01-13T06:29:42.029Z"
   },
   {
    "duration": -1207,
    "start_time": "2022-01-13T06:29:42.032Z"
   },
   {
    "duration": 121,
    "start_time": "2022-01-13T06:30:55.685Z"
   },
   {
    "duration": 1424,
    "start_time": "2022-01-13T06:31:09.604Z"
   },
   {
    "duration": 27,
    "start_time": "2022-01-13T06:31:11.030Z"
   },
   {
    "duration": 17,
    "start_time": "2022-01-13T06:31:11.059Z"
   },
   {
    "duration": 29,
    "start_time": "2022-01-13T06:31:11.078Z"
   },
   {
    "duration": 29,
    "start_time": "2022-01-13T06:31:11.108Z"
   },
   {
    "duration": 15,
    "start_time": "2022-01-13T06:31:11.139Z"
   },
   {
    "duration": 29,
    "start_time": "2022-01-13T06:31:11.156Z"
   },
   {
    "duration": 19,
    "start_time": "2022-01-13T06:31:11.187Z"
   },
   {
    "duration": 19,
    "start_time": "2022-01-13T06:31:11.208Z"
   },
   {
    "duration": 30,
    "start_time": "2022-01-13T06:31:11.229Z"
   },
   {
    "duration": 29,
    "start_time": "2022-01-13T06:31:11.260Z"
   },
   {
    "duration": 18,
    "start_time": "2022-01-13T06:31:11.290Z"
   },
   {
    "duration": 60,
    "start_time": "2022-01-13T06:31:11.310Z"
   },
   {
    "duration": 33,
    "start_time": "2022-01-13T06:31:11.372Z"
   },
   {
    "duration": 25,
    "start_time": "2022-01-13T06:31:11.406Z"
   },
   {
    "duration": 16,
    "start_time": "2022-01-13T06:31:11.433Z"
   },
   {
    "duration": 15,
    "start_time": "2022-01-13T06:31:11.450Z"
   },
   {
    "duration": 15,
    "start_time": "2022-01-13T06:31:11.467Z"
   },
   {
    "duration": 135,
    "start_time": "2022-01-13T06:31:11.483Z"
   },
   {
    "duration": 97,
    "start_time": "2022-01-13T06:31:11.620Z"
   },
   {
    "duration": 181,
    "start_time": "2022-01-13T06:31:11.718Z"
   },
   {
    "duration": 13,
    "start_time": "2022-01-13T06:31:11.900Z"
   },
   {
    "duration": 26,
    "start_time": "2022-01-13T06:31:11.915Z"
   },
   {
    "duration": 9,
    "start_time": "2022-01-13T06:31:11.942Z"
   },
   {
    "duration": 238,
    "start_time": "2022-01-13T06:31:11.952Z"
   },
   {
    "duration": 161,
    "start_time": "2022-01-13T06:31:12.192Z"
   },
   {
    "duration": 3643,
    "start_time": "2022-01-13T06:31:12.356Z"
   },
   {
    "duration": 687,
    "start_time": "2022-01-13T06:31:16.001Z"
   },
   {
    "duration": 2,
    "start_time": "2022-01-13T06:31:16.690Z"
   },
   {
    "duration": 13,
    "start_time": "2022-01-13T06:31:16.694Z"
   },
   {
    "duration": 167,
    "start_time": "2022-01-13T06:31:16.709Z"
   },
   {
    "duration": 2,
    "start_time": "2022-01-13T06:31:16.878Z"
   },
   {
    "duration": 15,
    "start_time": "2022-01-13T06:31:16.881Z"
   },
   {
    "duration": 39,
    "start_time": "2022-01-13T06:31:16.898Z"
   },
   {
    "duration": 24,
    "start_time": "2022-01-13T06:31:16.939Z"
   },
   {
    "duration": 199,
    "start_time": "2022-01-13T06:31:16.965Z"
   },
   {
    "duration": 9,
    "start_time": "2022-01-13T06:31:17.165Z"
   },
   {
    "duration": 10,
    "start_time": "2022-01-13T06:31:17.176Z"
   },
   {
    "duration": 16,
    "start_time": "2022-01-13T06:31:17.188Z"
   },
   {
    "duration": 139,
    "start_time": "2022-01-13T06:31:17.205Z"
   },
   {
    "duration": 12,
    "start_time": "2022-01-13T06:31:17.346Z"
   },
   {
    "duration": 18,
    "start_time": "2022-01-13T06:31:17.359Z"
   },
   {
    "duration": 14,
    "start_time": "2022-01-13T06:31:17.379Z"
   },
   {
    "duration": 278,
    "start_time": "2022-01-13T06:31:17.395Z"
   },
   {
    "duration": 563,
    "start_time": "2022-01-13T06:31:32.175Z"
   },
   {
    "duration": -392,
    "start_time": "2022-01-13T06:31:33.132Z"
   },
   {
    "duration": 99,
    "start_time": "2022-01-13T06:31:35.844Z"
   },
   {
    "duration": 3,
    "start_time": "2022-01-13T06:31:48.821Z"
   },
   {
    "duration": 4,
    "start_time": "2022-01-13T06:34:11.878Z"
   },
   {
    "duration": 222,
    "start_time": "2022-01-13T06:34:29.700Z"
   },
   {
    "duration": 3,
    "start_time": "2022-01-13T06:36:01.833Z"
   },
   {
    "duration": 127,
    "start_time": "2022-01-13T06:36:03.612Z"
   },
   {
    "duration": 117,
    "start_time": "2022-01-13T06:36:10.873Z"
   },
   {
    "duration": 3,
    "start_time": "2022-01-13T06:36:26.189Z"
   },
   {
    "duration": 128,
    "start_time": "2022-01-13T06:36:28.018Z"
   },
   {
    "duration": 123,
    "start_time": "2022-01-13T06:36:49.348Z"
   },
   {
    "duration": 121,
    "start_time": "2022-01-13T06:36:55.330Z"
   },
   {
    "duration": 117,
    "start_time": "2022-01-13T06:37:18.926Z"
   },
   {
    "duration": 3,
    "start_time": "2022-01-13T06:37:21.173Z"
   },
   {
    "duration": 122,
    "start_time": "2022-01-13T06:37:26.032Z"
   },
   {
    "duration": 122,
    "start_time": "2022-01-13T06:37:30.321Z"
   },
   {
    "duration": 1444,
    "start_time": "2022-01-13T06:37:46.830Z"
   },
   {
    "duration": 26,
    "start_time": "2022-01-13T06:37:48.276Z"
   },
   {
    "duration": 18,
    "start_time": "2022-01-13T06:37:48.304Z"
   },
   {
    "duration": 5,
    "start_time": "2022-01-13T06:37:48.324Z"
   },
   {
    "duration": 9,
    "start_time": "2022-01-13T06:37:48.330Z"
   },
   {
    "duration": 10,
    "start_time": "2022-01-13T06:37:48.341Z"
   },
   {
    "duration": 9,
    "start_time": "2022-01-13T06:37:48.353Z"
   },
   {
    "duration": 6,
    "start_time": "2022-01-13T06:37:48.363Z"
   },
   {
    "duration": 13,
    "start_time": "2022-01-13T06:37:48.371Z"
   },
   {
    "duration": 10,
    "start_time": "2022-01-13T06:37:48.385Z"
   },
   {
    "duration": 13,
    "start_time": "2022-01-13T06:37:48.397Z"
   },
   {
    "duration": 11,
    "start_time": "2022-01-13T06:37:48.411Z"
   },
   {
    "duration": 44,
    "start_time": "2022-01-13T06:37:48.423Z"
   },
   {
    "duration": 9,
    "start_time": "2022-01-13T06:37:48.469Z"
   },
   {
    "duration": 19,
    "start_time": "2022-01-13T06:37:48.479Z"
   },
   {
    "duration": 11,
    "start_time": "2022-01-13T06:37:48.499Z"
   },
   {
    "duration": 40,
    "start_time": "2022-01-13T06:37:48.512Z"
   },
   {
    "duration": 2,
    "start_time": "2022-01-13T06:37:48.554Z"
   },
   {
    "duration": 132,
    "start_time": "2022-01-13T06:37:48.557Z"
   },
   {
    "duration": 102,
    "start_time": "2022-01-13T06:37:48.690Z"
   },
   {
    "duration": 193,
    "start_time": "2022-01-13T06:37:48.793Z"
   },
   {
    "duration": 13,
    "start_time": "2022-01-13T06:37:48.988Z"
   },
   {
    "duration": 14,
    "start_time": "2022-01-13T06:37:49.003Z"
   },
   {
    "duration": 28,
    "start_time": "2022-01-13T06:37:49.019Z"
   },
   {
    "duration": 239,
    "start_time": "2022-01-13T06:37:49.049Z"
   },
   {
    "duration": 197,
    "start_time": "2022-01-13T06:37:49.290Z"
   },
   {
    "duration": 3614,
    "start_time": "2022-01-13T06:37:49.490Z"
   },
   {
    "duration": 695,
    "start_time": "2022-01-13T06:37:53.106Z"
   },
   {
    "duration": 2,
    "start_time": "2022-01-13T06:37:53.803Z"
   },
   {
    "duration": 13,
    "start_time": "2022-01-13T06:37:53.806Z"
   },
   {
    "duration": 182,
    "start_time": "2022-01-13T06:37:53.821Z"
   },
   {
    "duration": 2,
    "start_time": "2022-01-13T06:37:54.005Z"
   },
   {
    "duration": 8,
    "start_time": "2022-01-13T06:37:54.009Z"
   },
   {
    "duration": 36,
    "start_time": "2022-01-13T06:37:54.018Z"
   },
   {
    "duration": 16,
    "start_time": "2022-01-13T06:37:54.055Z"
   },
   {
    "duration": 227,
    "start_time": "2022-01-13T06:37:54.073Z"
   },
   {
    "duration": 7,
    "start_time": "2022-01-13T06:37:54.301Z"
   },
   {
    "duration": 10,
    "start_time": "2022-01-13T06:37:54.309Z"
   },
   {
    "duration": 25,
    "start_time": "2022-01-13T06:37:54.321Z"
   },
   {
    "duration": 125,
    "start_time": "2022-01-13T06:37:54.348Z"
   },
   {
    "duration": 13,
    "start_time": "2022-01-13T06:37:54.474Z"
   },
   {
    "duration": 11,
    "start_time": "2022-01-13T06:37:54.488Z"
   },
   {
    "duration": 6,
    "start_time": "2022-01-13T06:37:54.501Z"
   },
   {
    "duration": 280,
    "start_time": "2022-01-13T06:37:54.509Z"
   },
   {
    "duration": 3,
    "start_time": "2022-01-13T06:39:45.791Z"
   },
   {
    "duration": 121,
    "start_time": "2022-01-13T06:39:47.185Z"
   },
   {
    "duration": 189,
    "start_time": "2022-01-13T06:39:55.807Z"
   },
   {
    "duration": 3,
    "start_time": "2022-01-13T06:40:05.512Z"
   },
   {
    "duration": 91,
    "start_time": "2022-01-13T06:40:08.259Z"
   },
   {
    "duration": 122,
    "start_time": "2022-01-13T06:40:13.821Z"
   },
   {
    "duration": 363,
    "start_time": "2022-01-13T06:41:53.207Z"
   },
   {
    "duration": 130,
    "start_time": "2022-01-13T06:41:59.219Z"
   },
   {
    "duration": 126,
    "start_time": "2022-01-13T06:44:30.368Z"
   },
   {
    "duration": 292,
    "start_time": "2022-01-13T06:44:56.205Z"
   },
   {
    "duration": 119,
    "start_time": "2022-01-13T06:46:57.222Z"
   },
   {
    "duration": 290,
    "start_time": "2022-01-13T06:48:35.820Z"
   },
   {
    "duration": 246,
    "start_time": "2022-01-13T06:48:38.919Z"
   },
   {
    "duration": 196,
    "start_time": "2022-01-13T06:48:45.542Z"
   },
   {
    "duration": 66,
    "start_time": "2022-01-13T06:48:50.954Z"
   },
   {
    "duration": 47,
    "start_time": "2022-01-13T06:49:16.896Z"
   },
   {
    "duration": 118,
    "start_time": "2022-01-13T06:50:10.994Z"
   },
   {
    "duration": 125,
    "start_time": "2022-01-13T06:53:10.105Z"
   },
   {
    "duration": 92,
    "start_time": "2022-01-13T06:53:36.466Z"
   },
   {
    "duration": 1410,
    "start_time": "2022-01-13T06:54:09.173Z"
   },
   {
    "duration": 27,
    "start_time": "2022-01-13T06:54:10.585Z"
   },
   {
    "duration": 19,
    "start_time": "2022-01-13T06:54:10.613Z"
   },
   {
    "duration": 5,
    "start_time": "2022-01-13T06:54:10.634Z"
   },
   {
    "duration": 13,
    "start_time": "2022-01-13T06:54:10.640Z"
   },
   {
    "duration": 6,
    "start_time": "2022-01-13T06:54:10.655Z"
   },
   {
    "duration": 9,
    "start_time": "2022-01-13T06:54:10.662Z"
   },
   {
    "duration": 6,
    "start_time": "2022-01-13T06:54:10.673Z"
   },
   {
    "duration": 9,
    "start_time": "2022-01-13T06:54:10.681Z"
   },
   {
    "duration": 8,
    "start_time": "2022-01-13T06:54:10.691Z"
   },
   {
    "duration": 12,
    "start_time": "2022-01-13T06:54:10.701Z"
   },
   {
    "duration": 9,
    "start_time": "2022-01-13T06:54:10.714Z"
   },
   {
    "duration": 47,
    "start_time": "2022-01-13T06:54:10.725Z"
   },
   {
    "duration": 9,
    "start_time": "2022-01-13T06:54:10.773Z"
   },
   {
    "duration": 17,
    "start_time": "2022-01-13T06:54:10.784Z"
   },
   {
    "duration": 12,
    "start_time": "2022-01-13T06:54:10.802Z"
   },
   {
    "duration": 11,
    "start_time": "2022-01-13T06:54:10.841Z"
   },
   {
    "duration": 3,
    "start_time": "2022-01-13T06:54:10.853Z"
   },
   {
    "duration": 136,
    "start_time": "2022-01-13T06:54:10.857Z"
   },
   {
    "duration": 93,
    "start_time": "2022-01-13T06:54:10.994Z"
   },
   {
    "duration": 175,
    "start_time": "2022-01-13T06:54:11.089Z"
   },
   {
    "duration": 14,
    "start_time": "2022-01-13T06:54:11.266Z"
   },
   {
    "duration": 11,
    "start_time": "2022-01-13T06:54:11.283Z"
   },
   {
    "duration": 7,
    "start_time": "2022-01-13T06:54:11.296Z"
   },
   {
    "duration": 244,
    "start_time": "2022-01-13T06:54:11.304Z"
   },
   {
    "duration": 177,
    "start_time": "2022-01-13T06:54:11.549Z"
   },
   {
    "duration": 3734,
    "start_time": "2022-01-13T06:54:11.728Z"
   },
   {
    "duration": 707,
    "start_time": "2022-01-13T06:54:15.464Z"
   },
   {
    "duration": 2,
    "start_time": "2022-01-13T06:54:16.173Z"
   },
   {
    "duration": 14,
    "start_time": "2022-01-13T06:54:16.177Z"
   },
   {
    "duration": 165,
    "start_time": "2022-01-13T06:54:16.192Z"
   },
   {
    "duration": 2,
    "start_time": "2022-01-13T06:54:16.359Z"
   },
   {
    "duration": 7,
    "start_time": "2022-01-13T06:54:16.362Z"
   },
   {
    "duration": 31,
    "start_time": "2022-01-13T06:54:16.370Z"
   },
   {
    "duration": 12,
    "start_time": "2022-01-13T06:54:16.403Z"
   },
   {
    "duration": 216,
    "start_time": "2022-01-13T06:54:16.417Z"
   },
   {
    "duration": 11,
    "start_time": "2022-01-13T06:54:16.634Z"
   },
   {
    "duration": 12,
    "start_time": "2022-01-13T06:54:16.646Z"
   },
   {
    "duration": 12,
    "start_time": "2022-01-13T06:54:16.659Z"
   },
   {
    "duration": 129,
    "start_time": "2022-01-13T06:54:16.673Z"
   },
   {
    "duration": 14,
    "start_time": "2022-01-13T06:54:16.804Z"
   },
   {
    "duration": 25,
    "start_time": "2022-01-13T06:54:16.819Z"
   },
   {
    "duration": 7,
    "start_time": "2022-01-13T06:54:16.846Z"
   },
   {
    "duration": 261,
    "start_time": "2022-01-13T06:54:16.854Z"
   },
   {
    "duration": 520,
    "start_time": "2022-01-13T07:05:35.502Z"
   },
   {
    "duration": 440,
    "start_time": "2022-01-13T07:06:13.367Z"
   },
   {
    "duration": 3,
    "start_time": "2022-01-13T07:07:23.849Z"
   },
   {
    "duration": 122,
    "start_time": "2022-01-13T07:07:24.884Z"
   },
   {
    "duration": 189,
    "start_time": "2022-01-13T07:07:27.697Z"
   },
   {
    "duration": 94,
    "start_time": "2022-01-13T07:07:55.854Z"
   },
   {
    "duration": 173,
    "start_time": "2022-01-13T07:08:19.469Z"
   },
   {
    "duration": 16,
    "start_time": "2022-01-13T07:08:23.906Z"
   },
   {
    "duration": 14,
    "start_time": "2022-01-13T07:08:24.294Z"
   },
   {
    "duration": 8,
    "start_time": "2022-01-13T07:08:34.364Z"
   },
   {
    "duration": 222,
    "start_time": "2022-01-13T07:08:34.572Z"
   },
   {
    "duration": 172,
    "start_time": "2022-01-13T07:08:34.803Z"
   },
   {
    "duration": 3737,
    "start_time": "2022-01-13T07:08:35.177Z"
   },
   {
    "duration": 695,
    "start_time": "2022-01-13T07:08:38.915Z"
   },
   {
    "duration": 2,
    "start_time": "2022-01-13T07:08:39.612Z"
   },
   {
    "duration": 42,
    "start_time": "2022-01-13T07:08:39.616Z"
   },
   {
    "duration": 160,
    "start_time": "2022-01-13T07:08:39.660Z"
   },
   {
    "duration": 2,
    "start_time": "2022-01-13T07:08:43.644Z"
   },
   {
    "duration": 2,
    "start_time": "2022-01-13T07:08:43.812Z"
   },
   {
    "duration": 20,
    "start_time": "2022-01-13T07:08:43.971Z"
   },
   {
    "duration": 13,
    "start_time": "2022-01-13T07:08:44.325Z"
   },
   {
    "duration": 197,
    "start_time": "2022-01-13T07:08:44.829Z"
   },
   {
    "duration": 1537,
    "start_time": "2022-01-13T07:09:31.929Z"
   },
   {
    "duration": 28,
    "start_time": "2022-01-13T07:09:33.468Z"
   },
   {
    "duration": 18,
    "start_time": "2022-01-13T07:09:33.498Z"
   },
   {
    "duration": 6,
    "start_time": "2022-01-13T07:09:33.518Z"
   },
   {
    "duration": 9,
    "start_time": "2022-01-13T07:09:33.525Z"
   },
   {
    "duration": 11,
    "start_time": "2022-01-13T07:09:33.536Z"
   },
   {
    "duration": 7,
    "start_time": "2022-01-13T07:09:33.549Z"
   },
   {
    "duration": 7,
    "start_time": "2022-01-13T07:09:33.558Z"
   },
   {
    "duration": 15,
    "start_time": "2022-01-13T07:09:33.567Z"
   },
   {
    "duration": 13,
    "start_time": "2022-01-13T07:09:33.584Z"
   },
   {
    "duration": 12,
    "start_time": "2022-01-13T07:09:33.599Z"
   },
   {
    "duration": 9,
    "start_time": "2022-01-13T07:09:33.613Z"
   },
   {
    "duration": 41,
    "start_time": "2022-01-13T07:09:33.624Z"
   },
   {
    "duration": 10,
    "start_time": "2022-01-13T07:09:33.666Z"
   },
   {
    "duration": 19,
    "start_time": "2022-01-13T07:09:33.678Z"
   },
   {
    "duration": 13,
    "start_time": "2022-01-13T07:09:33.698Z"
   },
   {
    "duration": 35,
    "start_time": "2022-01-13T07:09:33.713Z"
   },
   {
    "duration": 3,
    "start_time": "2022-01-13T07:09:33.750Z"
   },
   {
    "duration": 147,
    "start_time": "2022-01-13T07:09:33.755Z"
   },
   {
    "duration": 112,
    "start_time": "2022-01-13T07:09:33.904Z"
   },
   {
    "duration": 192,
    "start_time": "2022-01-13T07:09:34.018Z"
   },
   {
    "duration": 29,
    "start_time": "2022-01-13T07:09:34.212Z"
   },
   {
    "duration": 13,
    "start_time": "2022-01-13T07:09:34.245Z"
   },
   {
    "duration": 9,
    "start_time": "2022-01-13T07:09:34.260Z"
   },
   {
    "duration": 244,
    "start_time": "2022-01-13T07:09:34.271Z"
   },
   {
    "duration": 191,
    "start_time": "2022-01-13T07:09:34.517Z"
   },
   {
    "duration": 3961,
    "start_time": "2022-01-13T07:09:34.710Z"
   },
   {
    "duration": 704,
    "start_time": "2022-01-13T07:09:38.673Z"
   },
   {
    "duration": 2,
    "start_time": "2022-01-13T07:09:39.379Z"
   },
   {
    "duration": 17,
    "start_time": "2022-01-13T07:09:39.382Z"
   },
   {
    "duration": 169,
    "start_time": "2022-01-13T07:09:39.401Z"
   },
   {
    "duration": 2,
    "start_time": "2022-01-13T07:09:39.571Z"
   },
   {
    "duration": 6,
    "start_time": "2022-01-13T07:09:39.575Z"
   },
   {
    "duration": 29,
    "start_time": "2022-01-13T07:09:39.582Z"
   },
   {
    "duration": 29,
    "start_time": "2022-01-13T07:09:39.612Z"
   },
   {
    "duration": 210,
    "start_time": "2022-01-13T07:09:39.643Z"
   },
   {
    "duration": 6,
    "start_time": "2022-01-13T07:09:39.854Z"
   },
   {
    "duration": 12,
    "start_time": "2022-01-13T07:09:39.862Z"
   },
   {
    "duration": 12,
    "start_time": "2022-01-13T07:09:39.876Z"
   },
   {
    "duration": 141,
    "start_time": "2022-01-13T07:09:39.890Z"
   },
   {
    "duration": 20,
    "start_time": "2022-01-13T07:09:40.033Z"
   },
   {
    "duration": 13,
    "start_time": "2022-01-13T07:09:40.055Z"
   },
   {
    "duration": 7,
    "start_time": "2022-01-13T07:09:40.069Z"
   },
   {
    "duration": 268,
    "start_time": "2022-01-13T07:09:40.077Z"
   },
   {
    "duration": 1899,
    "start_time": "2022-01-14T01:14:53.248Z"
   },
   {
    "duration": 77,
    "start_time": "2022-01-14T01:14:55.150Z"
   },
   {
    "duration": 28,
    "start_time": "2022-01-14T01:14:55.230Z"
   },
   {
    "duration": 8,
    "start_time": "2022-01-14T01:14:55.261Z"
   },
   {
    "duration": 12,
    "start_time": "2022-01-14T01:14:55.271Z"
   },
   {
    "duration": 38,
    "start_time": "2022-01-14T01:14:55.286Z"
   },
   {
    "duration": 10,
    "start_time": "2022-01-14T01:14:55.327Z"
   },
   {
    "duration": 6,
    "start_time": "2022-01-14T01:14:55.341Z"
   },
   {
    "duration": 9,
    "start_time": "2022-01-14T01:14:55.350Z"
   },
   {
    "duration": 6,
    "start_time": "2022-01-14T01:14:55.417Z"
   },
   {
    "duration": 17,
    "start_time": "2022-01-14T01:14:55.425Z"
   },
   {
    "duration": 13,
    "start_time": "2022-01-14T01:14:55.444Z"
   },
   {
    "duration": 86,
    "start_time": "2022-01-14T01:14:55.459Z"
   },
   {
    "duration": 15,
    "start_time": "2022-01-14T01:14:55.547Z"
   },
   {
    "duration": 59,
    "start_time": "2022-01-14T01:14:55.565Z"
   },
   {
    "duration": 20,
    "start_time": "2022-01-14T01:14:55.626Z"
   },
   {
    "duration": 20,
    "start_time": "2022-01-14T01:14:55.648Z"
   },
   {
    "duration": 3,
    "start_time": "2022-01-14T01:14:55.671Z"
   },
   {
    "duration": 267,
    "start_time": "2022-01-14T01:14:55.676Z"
   },
   {
    "duration": 193,
    "start_time": "2022-01-14T01:14:55.945Z"
   },
   {
    "duration": 306,
    "start_time": "2022-01-14T01:14:56.140Z"
   },
   {
    "duration": 20,
    "start_time": "2022-01-14T01:14:56.448Z"
   },
   {
    "duration": 48,
    "start_time": "2022-01-14T01:14:56.473Z"
   },
   {
    "duration": 14,
    "start_time": "2022-01-14T01:14:56.524Z"
   },
   {
    "duration": 424,
    "start_time": "2022-01-14T01:14:56.541Z"
   },
   {
    "duration": 310,
    "start_time": "2022-01-14T01:14:56.967Z"
   },
   {
    "duration": 6167,
    "start_time": "2022-01-14T01:14:57.279Z"
   },
   {
    "duration": 1081,
    "start_time": "2022-01-14T01:15:03.448Z"
   },
   {
    "duration": 4,
    "start_time": "2022-01-14T01:15:04.531Z"
   },
   {
    "duration": 19,
    "start_time": "2022-01-14T01:15:04.537Z"
   },
   {
    "duration": 299,
    "start_time": "2022-01-14T01:15:04.558Z"
   },
   {
    "duration": 3,
    "start_time": "2022-01-14T01:15:04.859Z"
   },
   {
    "duration": 6,
    "start_time": "2022-01-14T01:15:04.864Z"
   },
   {
    "duration": 73,
    "start_time": "2022-01-14T01:15:04.873Z"
   },
   {
    "duration": 20,
    "start_time": "2022-01-14T01:15:04.949Z"
   },
   {
    "duration": 366,
    "start_time": "2022-01-14T01:15:04.971Z"
   },
   {
    "duration": 9,
    "start_time": "2022-01-14T01:15:05.339Z"
   },
   {
    "duration": 17,
    "start_time": "2022-01-14T01:15:05.351Z"
   },
   {
    "duration": 52,
    "start_time": "2022-01-14T01:15:05.370Z"
   },
   {
    "duration": 220,
    "start_time": "2022-01-14T01:15:05.424Z"
   },
   {
    "duration": 20,
    "start_time": "2022-01-14T01:15:05.646Z"
   },
   {
    "duration": 50,
    "start_time": "2022-01-14T01:15:05.668Z"
   },
   {
    "duration": 12,
    "start_time": "2022-01-14T01:15:05.721Z"
   },
   {
    "duration": 468,
    "start_time": "2022-01-14T01:15:05.735Z"
   },
   {
    "duration": 466,
    "start_time": "2022-01-14T01:31:18.061Z"
   },
   {
    "duration": 384,
    "start_time": "2022-01-14T01:31:23.843Z"
   },
   {
    "duration": 288,
    "start_time": "2022-01-14T01:45:05.981Z"
   },
   {
    "duration": 44,
    "start_time": "2022-01-14T01:45:11.248Z"
   },
   {
    "duration": 43,
    "start_time": "2022-01-14T01:45:51.207Z"
   },
   {
    "duration": 38,
    "start_time": "2022-01-14T01:46:03.278Z"
   },
   {
    "duration": 34,
    "start_time": "2022-01-14T01:46:07.866Z"
   },
   {
    "duration": 43,
    "start_time": "2022-01-14T01:46:11.446Z"
   },
   {
    "duration": 42,
    "start_time": "2022-01-14T01:46:42.429Z"
   },
   {
    "duration": 6,
    "start_time": "2022-01-14T01:48:05.776Z"
   },
   {
    "duration": 18,
    "start_time": "2022-01-14T01:48:49.274Z"
   },
   {
    "duration": 25,
    "start_time": "2022-01-14T01:49:08.161Z"
   },
   {
    "duration": 276,
    "start_time": "2022-01-14T01:50:05.786Z"
   },
   {
    "duration": 24,
    "start_time": "2022-01-14T01:50:10.115Z"
   },
   {
    "duration": 19,
    "start_time": "2022-01-14T01:50:32.078Z"
   },
   {
    "duration": 24,
    "start_time": "2022-01-14T01:50:52.428Z"
   },
   {
    "duration": 17,
    "start_time": "2022-01-14T02:09:34.768Z"
   },
   {
    "duration": 25,
    "start_time": "2022-01-14T02:09:49.360Z"
   },
   {
    "duration": 90,
    "start_time": "2022-01-14T02:34:55.839Z"
   },
   {
    "duration": 964,
    "start_time": "2022-01-14T02:35:08.811Z"
   },
   {
    "duration": 1022,
    "start_time": "2022-01-14T02:35:43.276Z"
   },
   {
    "duration": 1027,
    "start_time": "2022-01-14T02:35:50.042Z"
   },
   {
    "duration": 911,
    "start_time": "2022-01-14T02:40:23.416Z"
   },
   {
    "duration": 93,
    "start_time": "2022-01-14T02:44:15.639Z"
   },
   {
    "duration": 949,
    "start_time": "2022-01-14T02:44:29.235Z"
   },
   {
    "duration": 955,
    "start_time": "2022-01-14T02:44:53.344Z"
   },
   {
    "duration": 962,
    "start_time": "2022-01-14T02:46:05.743Z"
   },
   {
    "duration": 1278,
    "start_time": "2022-01-14T02:58:52.977Z"
   },
   {
    "duration": 1629,
    "start_time": "2022-01-14T02:59:03.636Z"
   },
   {
    "duration": 6,
    "start_time": "2022-01-14T03:00:43.500Z"
   },
   {
    "duration": 784,
    "start_time": "2022-01-14T03:01:00.261Z"
   },
   {
    "duration": 481,
    "start_time": "2022-01-14T03:01:11.899Z"
   },
   {
    "duration": 612,
    "start_time": "2022-01-14T03:03:59.970Z"
   },
   {
    "duration": 8,
    "start_time": "2022-01-14T03:04:02.714Z"
   },
   {
    "duration": 781,
    "start_time": "2022-01-14T03:04:03.401Z"
   },
   {
    "duration": 681,
    "start_time": "2022-01-14T03:04:10.308Z"
   },
   {
    "duration": 765,
    "start_time": "2022-01-14T03:04:16.289Z"
   },
   {
    "duration": 552,
    "start_time": "2022-01-14T03:04:34.213Z"
   },
   {
    "duration": 439,
    "start_time": "2022-01-14T03:04:49.612Z"
   },
   {
    "duration": 42,
    "start_time": "2022-01-14T03:06:01.368Z"
   },
   {
    "duration": 23,
    "start_time": "2022-01-14T03:06:01.796Z"
   },
   {
    "duration": 22,
    "start_time": "2022-01-14T03:06:02.327Z"
   },
   {
    "duration": 943,
    "start_time": "2022-01-14T03:06:11.569Z"
   },
   {
    "duration": 257,
    "start_time": "2022-01-14T03:16:37.278Z"
   },
   {
    "duration": 8,
    "start_time": "2022-01-14T03:16:40.822Z"
   },
   {
    "duration": 417,
    "start_time": "2022-01-14T03:16:41.058Z"
   },
   {
    "duration": 467,
    "start_time": "2022-01-14T03:18:17.080Z"
   },
   {
    "duration": 400,
    "start_time": "2022-01-14T03:18:30.826Z"
   },
   {
    "duration": 8,
    "start_time": "2022-01-14T03:19:34.377Z"
   },
   {
    "duration": 417,
    "start_time": "2022-01-14T03:19:35.288Z"
   },
   {
    "duration": 465,
    "start_time": "2022-01-14T03:19:35.771Z"
   },
   {
    "duration": 464,
    "start_time": "2022-01-14T03:21:24.477Z"
   },
   {
    "duration": 514,
    "start_time": "2022-01-14T03:21:55.648Z"
   },
   {
    "duration": 512,
    "start_time": "2022-01-14T03:22:03.024Z"
   },
   {
    "duration": 589,
    "start_time": "2022-01-14T03:22:20.157Z"
   },
   {
    "duration": 498,
    "start_time": "2022-01-14T03:22:23.870Z"
   },
   {
    "duration": 454,
    "start_time": "2022-01-14T03:22:28.416Z"
   },
   {
    "duration": 513,
    "start_time": "2022-01-14T03:22:40.665Z"
   },
   {
    "duration": 476,
    "start_time": "2022-01-14T03:22:45.765Z"
   },
   {
    "duration": 509,
    "start_time": "2022-01-14T03:23:47.279Z"
   },
   {
    "duration": 561,
    "start_time": "2022-01-14T03:24:00.770Z"
   },
   {
    "duration": 429,
    "start_time": "2022-01-14T03:24:03.230Z"
   },
   {
    "duration": 418,
    "start_time": "2022-01-14T03:51:40.612Z"
   },
   {
    "duration": 493,
    "start_time": "2022-01-14T03:51:42.577Z"
   },
   {
    "duration": 21,
    "start_time": "2022-01-14T04:49:37.459Z"
   },
   {
    "duration": 22,
    "start_time": "2022-01-14T04:49:45.177Z"
   },
   {
    "duration": 26,
    "start_time": "2022-01-14T04:49:50.804Z"
   },
   {
    "duration": 92,
    "start_time": "2022-01-14T04:50:02.285Z"
   },
   {
    "duration": 95,
    "start_time": "2022-01-14T04:50:08.609Z"
   },
   {
    "duration": 432,
    "start_time": "2022-01-14T04:50:19.040Z"
   },
   {
    "duration": 261,
    "start_time": "2022-01-14T04:50:32.314Z"
   },
   {
    "duration": 23,
    "start_time": "2022-01-14T04:51:41.806Z"
   },
   {
    "duration": 82,
    "start_time": "2022-01-14T04:51:51.974Z"
   },
   {
    "duration": 23,
    "start_time": "2022-01-14T04:51:58.444Z"
   },
   {
    "duration": 41,
    "start_time": "2022-01-14T04:52:24.881Z"
   },
   {
    "duration": 63,
    "start_time": "2022-01-14T05:10:17.691Z"
   },
   {
    "duration": 89,
    "start_time": "2022-01-14T05:19:32.372Z"
   },
   {
    "duration": 459,
    "start_time": "2022-01-14T05:21:41.312Z"
   },
   {
    "duration": 594,
    "start_time": "2022-01-14T05:21:45.126Z"
   },
   {
    "duration": 721,
    "start_time": "2022-01-14T05:24:34.548Z"
   },
   {
    "duration": 480,
    "start_time": "2022-01-14T05:31:12.926Z"
   },
   {
    "duration": 436,
    "start_time": "2022-01-14T05:51:53.067Z"
   },
   {
    "duration": 231,
    "start_time": "2022-01-14T05:54:15.323Z"
   },
   {
    "duration": 1203,
    "start_time": "2022-01-14T05:54:50.311Z"
   },
   {
    "duration": 396,
    "start_time": "2022-01-14T05:55:04.947Z"
   },
   {
    "duration": 251,
    "start_time": "2022-01-14T05:55:11.967Z"
   },
   {
    "duration": 293,
    "start_time": "2022-01-14T05:55:22.427Z"
   },
   {
    "duration": 1028,
    "start_time": "2022-01-14T05:55:25.738Z"
   },
   {
    "duration": 1325,
    "start_time": "2022-01-14T05:55:32.862Z"
   },
   {
    "duration": 220,
    "start_time": "2022-01-14T05:55:37.664Z"
   },
   {
    "duration": 310,
    "start_time": "2022-01-14T05:57:03.001Z"
   },
   {
    "duration": 205,
    "start_time": "2022-01-14T05:57:11.501Z"
   },
   {
    "duration": 295,
    "start_time": "2022-01-14T05:57:21.254Z"
   },
   {
    "duration": 198,
    "start_time": "2022-01-14T05:57:25.813Z"
   },
   {
    "duration": 195,
    "start_time": "2022-01-14T05:57:29.593Z"
   },
   {
    "duration": 1406,
    "start_time": "2022-01-14T05:58:03.827Z"
   },
   {
    "duration": 232,
    "start_time": "2022-01-14T05:58:25.345Z"
   },
   {
    "duration": 1245,
    "start_time": "2022-01-14T06:00:17.091Z"
   },
   {
    "duration": 310,
    "start_time": "2022-01-14T06:03:08.073Z"
   },
   {
    "duration": 535,
    "start_time": "2022-01-14T06:03:37.487Z"
   },
   {
    "duration": 298,
    "start_time": "2022-01-14T06:03:42.431Z"
   },
   {
    "duration": 278,
    "start_time": "2022-01-14T06:03:48.582Z"
   },
   {
    "duration": 279,
    "start_time": "2022-01-14T06:03:54.740Z"
   },
   {
    "duration": 244,
    "start_time": "2022-01-14T06:04:08.831Z"
   },
   {
    "duration": 246,
    "start_time": "2022-01-14T06:04:13.309Z"
   },
   {
    "duration": 495,
    "start_time": "2022-01-14T06:04:25.252Z"
   },
   {
    "duration": 406,
    "start_time": "2022-01-14T06:04:32.503Z"
   },
   {
    "duration": 185,
    "start_time": "2022-01-14T06:07:15.966Z"
   },
   {
    "duration": 15,
    "start_time": "2022-01-14T06:07:28.672Z"
   },
   {
    "duration": 15,
    "start_time": "2022-01-14T06:07:48.733Z"
   },
   {
    "duration": 1901,
    "start_time": "2022-01-14T06:07:55.197Z"
   },
   {
    "duration": 32,
    "start_time": "2022-01-14T06:07:57.101Z"
   },
   {
    "duration": 30,
    "start_time": "2022-01-14T06:07:57.136Z"
   },
   {
    "duration": 8,
    "start_time": "2022-01-14T06:07:57.169Z"
   },
   {
    "duration": 43,
    "start_time": "2022-01-14T06:07:57.179Z"
   },
   {
    "duration": 11,
    "start_time": "2022-01-14T06:07:57.224Z"
   },
   {
    "duration": 10,
    "start_time": "2022-01-14T06:07:57.237Z"
   },
   {
    "duration": 7,
    "start_time": "2022-01-14T06:07:57.251Z"
   },
   {
    "duration": 61,
    "start_time": "2022-01-14T06:07:57.261Z"
   },
   {
    "duration": 7,
    "start_time": "2022-01-14T06:07:57.325Z"
   },
   {
    "duration": 20,
    "start_time": "2022-01-14T06:07:57.334Z"
   },
   {
    "duration": 9,
    "start_time": "2022-01-14T06:07:57.356Z"
   },
   {
    "duration": 91,
    "start_time": "2022-01-14T06:07:57.368Z"
   },
   {
    "duration": 15,
    "start_time": "2022-01-14T06:07:57.462Z"
   },
   {
    "duration": 56,
    "start_time": "2022-01-14T06:07:57.480Z"
   },
   {
    "duration": 19,
    "start_time": "2022-01-14T06:07:57.539Z"
   },
   {
    "duration": 57,
    "start_time": "2022-01-14T06:07:57.561Z"
   },
   {
    "duration": 4,
    "start_time": "2022-01-14T06:07:57.621Z"
   },
   {
    "duration": 255,
    "start_time": "2022-01-14T06:07:57.628Z"
   },
   {
    "duration": 191,
    "start_time": "2022-01-14T06:07:57.885Z"
   },
   {
    "duration": 309,
    "start_time": "2022-01-14T06:07:58.078Z"
   },
   {
    "duration": 69,
    "start_time": "2022-01-14T06:07:58.389Z"
   },
   {
    "duration": 23,
    "start_time": "2022-01-14T06:07:58.463Z"
   },
   {
    "duration": 430,
    "start_time": "2022-01-14T06:07:58.518Z"
   },
   {
    "duration": -96,
    "start_time": "2022-01-14T06:07:59.047Z"
   },
   {
    "duration": -99,
    "start_time": "2022-01-14T06:07:59.051Z"
   },
   {
    "duration": -103,
    "start_time": "2022-01-14T06:07:59.056Z"
   },
   {
    "duration": -105,
    "start_time": "2022-01-14T06:07:59.060Z"
   },
   {
    "duration": -109,
    "start_time": "2022-01-14T06:07:59.065Z"
   },
   {
    "duration": -112,
    "start_time": "2022-01-14T06:07:59.069Z"
   },
   {
    "duration": -116,
    "start_time": "2022-01-14T06:07:59.075Z"
   },
   {
    "duration": -119,
    "start_time": "2022-01-14T06:07:59.079Z"
   },
   {
    "duration": -125,
    "start_time": "2022-01-14T06:07:59.087Z"
   },
   {
    "duration": -136,
    "start_time": "2022-01-14T06:07:59.099Z"
   },
   {
    "duration": -141,
    "start_time": "2022-01-14T06:07:59.105Z"
   },
   {
    "duration": -142,
    "start_time": "2022-01-14T06:07:59.108Z"
   },
   {
    "duration": -148,
    "start_time": "2022-01-14T06:07:59.115Z"
   },
   {
    "duration": -156,
    "start_time": "2022-01-14T06:07:59.125Z"
   },
   {
    "duration": -195,
    "start_time": "2022-01-14T06:07:59.165Z"
   },
   {
    "duration": -199,
    "start_time": "2022-01-14T06:07:59.170Z"
   },
   {
    "duration": -205,
    "start_time": "2022-01-14T06:07:59.178Z"
   },
   {
    "duration": -212,
    "start_time": "2022-01-14T06:07:59.186Z"
   },
   {
    "duration": -218,
    "start_time": "2022-01-14T06:07:59.193Z"
   },
   {
    "duration": -220,
    "start_time": "2022-01-14T06:07:59.197Z"
   },
   {
    "duration": 21,
    "start_time": "2022-01-14T06:08:54.086Z"
   },
   {
    "duration": 1034,
    "start_time": "2022-01-14T06:09:52.879Z"
   },
   {
    "duration": 361,
    "start_time": "2022-01-14T06:10:45.919Z"
   },
   {
    "duration": 249,
    "start_time": "2022-01-14T06:10:46.474Z"
   },
   {
    "duration": 278,
    "start_time": "2022-01-14T06:10:46.788Z"
   },
   {
    "duration": 24,
    "start_time": "2022-01-14T06:14:10.878Z"
   },
   {
    "duration": 9,
    "start_time": "2022-01-14T06:14:57.430Z"
   },
   {
    "duration": 8,
    "start_time": "2022-01-14T06:19:04.522Z"
   },
   {
    "duration": 260,
    "start_time": "2022-01-14T06:19:59.426Z"
   },
   {
    "duration": 9,
    "start_time": "2022-01-14T06:20:05.785Z"
   },
   {
    "duration": 10,
    "start_time": "2022-01-14T06:20:18.849Z"
   },
   {
    "duration": 422,
    "start_time": "2022-01-14T06:20:19.718Z"
   },
   {
    "duration": 482,
    "start_time": "2022-01-14T06:21:53.787Z"
   },
   {
    "duration": 481,
    "start_time": "2022-01-14T06:22:32.393Z"
   },
   {
    "duration": 1127,
    "start_time": "2022-01-14T06:23:40.674Z"
   },
   {
    "duration": 26,
    "start_time": "2022-01-14T06:24:09.446Z"
   },
   {
    "duration": 927,
    "start_time": "2022-01-14T06:24:16.385Z"
   },
   {
    "duration": 9,
    "start_time": "2022-01-14T06:24:20.878Z"
   },
   {
    "duration": 315,
    "start_time": "2022-01-14T06:25:03.240Z"
   },
   {
    "duration": 1010,
    "start_time": "2022-01-14T06:25:12.927Z"
   },
   {
    "duration": 10,
    "start_time": "2022-01-14T06:25:13.940Z"
   },
   {
    "duration": 344,
    "start_time": "2022-01-14T06:25:14.693Z"
   },
   {
    "duration": 701,
    "start_time": "2022-01-14T06:25:23.469Z"
   },
   {
    "duration": 864,
    "start_time": "2022-01-14T06:25:54.395Z"
   },
   {
    "duration": 9,
    "start_time": "2022-01-14T06:38:56.370Z"
   },
   {
    "duration": 1170,
    "start_time": "2022-01-14T06:39:09.235Z"
   },
   {
    "duration": 1185,
    "start_time": "2022-01-14T06:39:39.674Z"
   },
   {
    "duration": 1188,
    "start_time": "2022-01-14T06:40:04.806Z"
   },
   {
    "duration": 1932,
    "start_time": "2022-01-14T06:40:19.284Z"
   },
   {
    "duration": 36,
    "start_time": "2022-01-14T06:40:21.219Z"
   },
   {
    "duration": 58,
    "start_time": "2022-01-14T06:40:21.259Z"
   },
   {
    "duration": 11,
    "start_time": "2022-01-14T06:40:21.321Z"
   },
   {
    "duration": 16,
    "start_time": "2022-01-14T06:40:21.335Z"
   },
   {
    "duration": 12,
    "start_time": "2022-01-14T06:40:21.354Z"
   },
   {
    "duration": 57,
    "start_time": "2022-01-14T06:40:21.368Z"
   },
   {
    "duration": 8,
    "start_time": "2022-01-14T06:40:21.429Z"
   },
   {
    "duration": 23,
    "start_time": "2022-01-14T06:40:21.440Z"
   },
   {
    "duration": 17,
    "start_time": "2022-01-14T06:40:21.465Z"
   },
   {
    "duration": 46,
    "start_time": "2022-01-14T06:40:21.485Z"
   },
   {
    "duration": 16,
    "start_time": "2022-01-14T06:40:21.534Z"
   },
   {
    "duration": 85,
    "start_time": "2022-01-14T06:40:21.553Z"
   },
   {
    "duration": 15,
    "start_time": "2022-01-14T06:40:21.641Z"
   },
   {
    "duration": 62,
    "start_time": "2022-01-14T06:40:21.658Z"
   },
   {
    "duration": 20,
    "start_time": "2022-01-14T06:40:21.722Z"
   },
   {
    "duration": 32,
    "start_time": "2022-01-14T06:40:21.745Z"
   },
   {
    "duration": 4,
    "start_time": "2022-01-14T06:40:21.780Z"
   },
   {
    "duration": 262,
    "start_time": "2022-01-14T06:40:21.787Z"
   },
   {
    "duration": 193,
    "start_time": "2022-01-14T06:40:22.052Z"
   },
   {
    "duration": 310,
    "start_time": "2022-01-14T06:40:22.248Z"
   },
   {
    "duration": 1063,
    "start_time": "2022-01-14T06:40:22.561Z"
   },
   {
    "duration": 27,
    "start_time": "2022-01-14T06:40:23.632Z"
   },
   {
    "duration": 1054,
    "start_time": "2022-01-14T06:40:23.663Z"
   },
   {
    "duration": 12,
    "start_time": "2022-01-14T06:40:24.720Z"
   },
   {
    "duration": 1305,
    "start_time": "2022-01-14T06:40:24.734Z"
   },
   {
    "duration": 986,
    "start_time": "2022-01-14T06:40:26.042Z"
   },
   {
    "duration": 16,
    "start_time": "2022-01-14T06:40:27.030Z"
   },
   {
    "duration": 292,
    "start_time": "2022-01-14T06:40:27.049Z"
   },
   {
    "duration": 3,
    "start_time": "2022-01-14T06:40:27.343Z"
   },
   {
    "duration": 11,
    "start_time": "2022-01-14T06:40:27.349Z"
   },
   {
    "duration": 71,
    "start_time": "2022-01-14T06:40:27.363Z"
   },
   {
    "duration": 25,
    "start_time": "2022-01-14T06:40:27.436Z"
   },
   {
    "duration": 385,
    "start_time": "2022-01-14T06:40:27.463Z"
   },
   {
    "duration": 9,
    "start_time": "2022-01-14T06:40:27.850Z"
   },
   {
    "duration": 473,
    "start_time": "2022-01-14T06:40:27.862Z"
   },
   {
    "duration": 16,
    "start_time": "2022-01-14T06:40:28.338Z"
   },
   {
    "duration": 16,
    "start_time": "2022-01-14T06:40:28.356Z"
   },
   {
    "duration": 1451,
    "start_time": "2022-01-14T06:40:28.374Z"
   },
   {
    "duration": 189,
    "start_time": "2022-01-14T06:40:29.828Z"
   },
   {
    "duration": 19,
    "start_time": "2022-01-14T06:40:30.020Z"
   },
   {
    "duration": 20,
    "start_time": "2022-01-14T06:40:30.042Z"
   },
   {
    "duration": 54,
    "start_time": "2022-01-14T06:40:30.064Z"
   },
   {
    "duration": 920,
    "start_time": "2022-01-14T06:40:30.121Z"
   },
   {
    "duration": 554,
    "start_time": "2022-01-14T06:52:54.008Z"
   },
   {
    "duration": 683,
    "start_time": "2022-01-14T06:54:13.763Z"
   },
   {
    "duration": 1416,
    "start_time": "2022-01-14T06:54:29.649Z"
   },
   {
    "duration": 1429,
    "start_time": "2022-01-14T06:55:14.407Z"
   },
   {
    "duration": 1446,
    "start_time": "2022-01-14T06:55:33.906Z"
   },
   {
    "duration": 1527,
    "start_time": "2022-01-14T06:55:40.376Z"
   },
   {
    "duration": 1475,
    "start_time": "2022-01-14T06:55:51.199Z"
   },
   {
    "duration": 1578,
    "start_time": "2022-01-14T06:55:59.978Z"
   },
   {
    "duration": 1434,
    "start_time": "2022-01-14T06:56:24.529Z"
   },
   {
    "duration": 1458,
    "start_time": "2022-01-14T06:56:29.430Z"
   },
   {
    "duration": 1407,
    "start_time": "2022-01-14T06:56:37.467Z"
   },
   {
    "duration": 1407,
    "start_time": "2022-01-14T07:10:04.613Z"
   },
   {
    "duration": 1443,
    "start_time": "2022-01-14T07:10:14.941Z"
   },
   {
    "duration": 7,
    "start_time": "2022-01-14T07:47:09.297Z"
   },
   {
    "duration": 9,
    "start_time": "2022-01-14T07:47:20.670Z"
   },
   {
    "duration": 2004,
    "start_time": "2022-01-14T07:48:05.126Z"
   },
   {
    "duration": 32,
    "start_time": "2022-01-14T07:48:07.133Z"
   },
   {
    "duration": 31,
    "start_time": "2022-01-14T07:48:07.169Z"
   },
   {
    "duration": 10,
    "start_time": "2022-01-14T07:48:07.218Z"
   },
   {
    "duration": 15,
    "start_time": "2022-01-14T07:48:07.230Z"
   },
   {
    "duration": 10,
    "start_time": "2022-01-14T07:48:07.248Z"
   },
   {
    "duration": 60,
    "start_time": "2022-01-14T07:48:07.261Z"
   },
   {
    "duration": 8,
    "start_time": "2022-01-14T07:48:07.324Z"
   },
   {
    "duration": 9,
    "start_time": "2022-01-14T07:48:07.336Z"
   },
   {
    "duration": 9,
    "start_time": "2022-01-14T07:48:07.349Z"
   },
   {
    "duration": 67,
    "start_time": "2022-01-14T07:48:07.360Z"
   },
   {
    "duration": 7,
    "start_time": "2022-01-14T07:48:07.431Z"
   },
   {
    "duration": 88,
    "start_time": "2022-01-14T07:48:07.440Z"
   },
   {
    "duration": 15,
    "start_time": "2022-01-14T07:48:07.530Z"
   },
   {
    "duration": 33,
    "start_time": "2022-01-14T07:48:07.547Z"
   },
   {
    "duration": 25,
    "start_time": "2022-01-14T07:48:07.618Z"
   },
   {
    "duration": 28,
    "start_time": "2022-01-14T07:48:07.645Z"
   },
   {
    "duration": 43,
    "start_time": "2022-01-14T07:48:07.675Z"
   },
   {
    "duration": 240,
    "start_time": "2022-01-14T07:48:07.722Z"
   },
   {
    "duration": 187,
    "start_time": "2022-01-14T07:48:07.965Z"
   },
   {
    "duration": 426,
    "start_time": "2022-01-14T07:48:08.155Z"
   },
   {
    "duration": 1011,
    "start_time": "2022-01-14T07:48:08.583Z"
   },
   {
    "duration": 44,
    "start_time": "2022-01-14T07:48:09.596Z"
   },
   {
    "duration": 981,
    "start_time": "2022-01-14T07:48:09.642Z"
   },
   {
    "duration": 13,
    "start_time": "2022-01-14T07:48:10.626Z"
   },
   {
    "duration": 1318,
    "start_time": "2022-01-14T07:48:10.642Z"
   },
   {
    "duration": 1432,
    "start_time": "2022-01-14T07:48:11.967Z"
   },
   {
    "duration": 24,
    "start_time": "2022-01-14T07:48:13.402Z"
   },
   {
    "duration": 306,
    "start_time": "2022-01-14T07:48:13.428Z"
   },
   {
    "duration": 3,
    "start_time": "2022-01-14T07:48:13.738Z"
   },
   {
    "duration": 16,
    "start_time": "2022-01-14T07:48:13.743Z"
   },
   {
    "duration": 67,
    "start_time": "2022-01-14T07:48:13.762Z"
   },
   {
    "duration": 27,
    "start_time": "2022-01-14T07:48:13.832Z"
   },
   {
    "duration": 391,
    "start_time": "2022-01-14T07:48:13.861Z"
   },
   {
    "duration": 10,
    "start_time": "2022-01-14T07:48:14.255Z"
   },
   {
    "duration": 457,
    "start_time": "2022-01-14T07:48:14.268Z"
   },
   {
    "duration": 17,
    "start_time": "2022-01-14T07:48:14.727Z"
   },
   {
    "duration": 13,
    "start_time": "2022-01-14T07:48:14.746Z"
   },
   {
    "duration": 13,
    "start_time": "2022-01-14T07:48:14.761Z"
   },
   {
    "duration": 1344,
    "start_time": "2022-01-14T07:48:14.776Z"
   },
   {
    "duration": 186,
    "start_time": "2022-01-14T07:48:16.123Z"
   },
   {
    "duration": 19,
    "start_time": "2022-01-14T07:48:16.312Z"
   },
   {
    "duration": 20,
    "start_time": "2022-01-14T07:48:16.334Z"
   },
   {
    "duration": 11,
    "start_time": "2022-01-14T07:48:16.357Z"
   },
   {
    "duration": 943,
    "start_time": "2022-01-14T07:48:16.418Z"
   },
   {
    "duration": 17,
    "start_time": "2022-01-14T07:49:37.610Z"
   },
   {
    "duration": 8,
    "start_time": "2022-01-14T07:49:38.785Z"
   },
   {
    "duration": 16,
    "start_time": "2022-01-14T07:52:00.689Z"
   },
   {
    "duration": 14,
    "start_time": "2022-01-14T07:52:09.723Z"
   },
   {
    "duration": 8,
    "start_time": "2022-01-14T07:52:37.590Z"
   },
   {
    "duration": 14,
    "start_time": "2022-01-14T07:52:43.822Z"
   },
   {
    "duration": 15,
    "start_time": "2022-01-14T07:52:48.554Z"
   },
   {
    "duration": 1386,
    "start_time": "2022-01-14T07:54:11.438Z"
   },
   {
    "duration": 235,
    "start_time": "2022-01-14T07:54:17.807Z"
   },
   {
    "duration": 10,
    "start_time": "2022-01-14T07:59:30.959Z"
   },
   {
    "duration": 15,
    "start_time": "2022-01-14T07:59:31.174Z"
   },
   {
    "duration": 21,
    "start_time": "2022-01-14T07:59:31.326Z"
   },
   {
    "duration": 227,
    "start_time": "2022-01-14T07:59:33.583Z"
   },
   {
    "duration": 227,
    "start_time": "2022-01-14T08:02:40.219Z"
   },
   {
    "duration": 245,
    "start_time": "2022-01-14T08:02:45.516Z"
   },
   {
    "duration": 250,
    "start_time": "2022-01-14T08:03:01.272Z"
   },
   {
    "duration": 235,
    "start_time": "2022-01-14T08:03:21.655Z"
   },
   {
    "duration": 218,
    "start_time": "2022-01-14T08:03:54.085Z"
   },
   {
    "duration": 226,
    "start_time": "2022-01-14T08:04:09.094Z"
   },
   {
    "duration": 227,
    "start_time": "2022-01-14T08:05:37.272Z"
   },
   {
    "duration": 592,
    "start_time": "2022-01-14T08:08:47.906Z"
   },
   {
    "duration": 431,
    "start_time": "2022-01-14T08:09:00.880Z"
   },
   {
    "duration": 13,
    "start_time": "2022-01-14T08:09:43.459Z"
   },
   {
    "duration": 731,
    "start_time": "2022-01-14T08:09:44.991Z"
   },
   {
    "duration": 20,
    "start_time": "2022-01-14T08:10:21.588Z"
   },
   {
    "duration": 22,
    "start_time": "2022-01-14T08:10:21.764Z"
   },
   {
    "duration": 12,
    "start_time": "2022-01-14T08:10:21.970Z"
   },
   {
    "duration": 694,
    "start_time": "2022-01-14T08:10:23.087Z"
   },
   {
    "duration": 10,
    "start_time": "2022-01-14T08:11:41.068Z"
   },
   {
    "duration": 11,
    "start_time": "2022-01-14T08:12:37.903Z"
   },
   {
    "duration": 713,
    "start_time": "2022-01-14T08:12:39.279Z"
   },
   {
    "duration": 456,
    "start_time": "2022-01-14T08:13:29.896Z"
   },
   {
    "duration": 2001,
    "start_time": "2022-01-14T08:13:53.240Z"
   },
   {
    "duration": 33,
    "start_time": "2022-01-14T08:13:55.244Z"
   },
   {
    "duration": 37,
    "start_time": "2022-01-14T08:13:55.280Z"
   },
   {
    "duration": 13,
    "start_time": "2022-01-14T08:13:55.320Z"
   },
   {
    "duration": 20,
    "start_time": "2022-01-14T08:13:55.336Z"
   },
   {
    "duration": 15,
    "start_time": "2022-01-14T08:13:55.358Z"
   },
   {
    "duration": 23,
    "start_time": "2022-01-14T08:13:55.376Z"
   },
   {
    "duration": 6,
    "start_time": "2022-01-14T08:13:55.419Z"
   },
   {
    "duration": 21,
    "start_time": "2022-01-14T08:13:55.428Z"
   },
   {
    "duration": 9,
    "start_time": "2022-01-14T08:13:55.451Z"
   },
   {
    "duration": 24,
    "start_time": "2022-01-14T08:13:55.462Z"
   },
   {
    "duration": 35,
    "start_time": "2022-01-14T08:13:55.488Z"
   },
   {
    "duration": 61,
    "start_time": "2022-01-14T08:13:55.526Z"
   },
   {
    "duration": 40,
    "start_time": "2022-01-14T08:13:55.589Z"
   },
   {
    "duration": 53,
    "start_time": "2022-01-14T08:13:55.632Z"
   },
   {
    "duration": 32,
    "start_time": "2022-01-14T08:13:55.687Z"
   },
   {
    "duration": 19,
    "start_time": "2022-01-14T08:13:55.721Z"
   },
   {
    "duration": 4,
    "start_time": "2022-01-14T08:13:55.742Z"
   },
   {
    "duration": 264,
    "start_time": "2022-01-14T08:13:55.748Z"
   },
   {
    "duration": 187,
    "start_time": "2022-01-14T08:13:56.017Z"
   },
   {
    "duration": 327,
    "start_time": "2022-01-14T08:13:56.206Z"
   },
   {
    "duration": 956,
    "start_time": "2022-01-14T08:13:56.536Z"
   },
   {
    "duration": 40,
    "start_time": "2022-01-14T08:13:57.497Z"
   },
   {
    "duration": 980,
    "start_time": "2022-01-14T08:13:57.540Z"
   },
   {
    "duration": 9,
    "start_time": "2022-01-14T08:13:58.522Z"
   },
   {
    "duration": 1238,
    "start_time": "2022-01-14T08:13:58.534Z"
   },
   {
    "duration": 1513,
    "start_time": "2022-01-14T08:13:59.774Z"
   },
   {
    "duration": 29,
    "start_time": "2022-01-14T08:14:01.290Z"
   },
   {
    "duration": 302,
    "start_time": "2022-01-14T08:14:01.321Z"
   },
   {
    "duration": 3,
    "start_time": "2022-01-14T08:14:01.625Z"
   },
   {
    "duration": 9,
    "start_time": "2022-01-14T08:14:01.631Z"
   },
   {
    "duration": 47,
    "start_time": "2022-01-14T08:14:01.643Z"
   },
   {
    "duration": 25,
    "start_time": "2022-01-14T08:14:01.717Z"
   },
   {
    "duration": 376,
    "start_time": "2022-01-14T08:14:01.744Z"
   },
   {
    "duration": 9,
    "start_time": "2022-01-14T08:14:02.123Z"
   },
   {
    "duration": 19,
    "start_time": "2022-01-14T08:14:02.135Z"
   },
   {
    "duration": 20,
    "start_time": "2022-01-14T08:14:02.157Z"
   },
   {
    "duration": 275,
    "start_time": "2022-01-14T08:14:02.179Z"
   },
   {
    "duration": 18,
    "start_time": "2022-01-14T08:14:02.456Z"
   },
   {
    "duration": 51,
    "start_time": "2022-01-14T08:14:02.477Z"
   },
   {
    "duration": 10,
    "start_time": "2022-01-14T08:14:02.531Z"
   },
   {
    "duration": 490,
    "start_time": "2022-01-14T08:14:02.544Z"
   },
   {
    "duration": 213,
    "start_time": "2022-01-14T08:18:48.303Z"
   },
   {
    "duration": 209,
    "start_time": "2022-01-14T08:18:55.794Z"
   },
   {
    "duration": 221,
    "start_time": "2022-01-14T08:19:00.710Z"
   },
   {
    "duration": 88,
    "start_time": "2022-01-14T08:19:08.077Z"
   },
   {
    "duration": 314,
    "start_time": "2022-01-14T08:19:18.564Z"
   },
   {
    "duration": 2147,
    "start_time": "2022-01-14T08:57:51.982Z"
   },
   {
    "duration": 35,
    "start_time": "2022-01-14T08:57:54.132Z"
   },
   {
    "duration": 46,
    "start_time": "2022-01-14T08:57:54.171Z"
   },
   {
    "duration": 9,
    "start_time": "2022-01-14T08:57:54.220Z"
   },
   {
    "duration": 13,
    "start_time": "2022-01-14T08:57:54.232Z"
   },
   {
    "duration": 12,
    "start_time": "2022-01-14T08:57:54.247Z"
   },
   {
    "duration": 61,
    "start_time": "2022-01-14T08:57:54.261Z"
   },
   {
    "duration": 9,
    "start_time": "2022-01-14T08:57:54.324Z"
   },
   {
    "duration": 9,
    "start_time": "2022-01-14T08:57:54.338Z"
   },
   {
    "duration": 8,
    "start_time": "2022-01-14T08:57:54.351Z"
   },
   {
    "duration": 68,
    "start_time": "2022-01-14T08:57:54.361Z"
   },
   {
    "duration": 9,
    "start_time": "2022-01-14T08:57:54.432Z"
   },
   {
    "duration": 86,
    "start_time": "2022-01-14T08:57:54.443Z"
   },
   {
    "duration": 16,
    "start_time": "2022-01-14T08:57:54.531Z"
   },
   {
    "duration": 33,
    "start_time": "2022-01-14T08:57:54.549Z"
   },
   {
    "duration": 20,
    "start_time": "2022-01-14T08:57:54.616Z"
   },
   {
    "duration": 19,
    "start_time": "2022-01-14T08:57:54.639Z"
   },
   {
    "duration": 3,
    "start_time": "2022-01-14T08:57:54.660Z"
   },
   {
    "duration": 263,
    "start_time": "2022-01-14T08:57:54.666Z"
   },
   {
    "duration": 179,
    "start_time": "2022-01-14T08:57:54.932Z"
   },
   {
    "duration": 315,
    "start_time": "2022-01-14T08:57:55.117Z"
   },
   {
    "duration": 936,
    "start_time": "2022-01-14T08:57:55.434Z"
   },
   {
    "duration": 48,
    "start_time": "2022-01-14T08:57:56.372Z"
   },
   {
    "duration": 1197,
    "start_time": "2022-01-14T08:57:56.422Z"
   },
   {
    "duration": 9,
    "start_time": "2022-01-14T08:57:57.622Z"
   },
   {
    "duration": 1320,
    "start_time": "2022-01-14T08:57:57.634Z"
   },
   {
    "duration": 1437,
    "start_time": "2022-01-14T08:57:58.959Z"
   },
   {
    "duration": 29,
    "start_time": "2022-01-14T08:58:00.400Z"
   },
   {
    "duration": 297,
    "start_time": "2022-01-14T08:58:00.431Z"
   },
   {
    "duration": 4,
    "start_time": "2022-01-14T08:58:00.731Z"
   },
   {
    "duration": 51,
    "start_time": "2022-01-14T08:58:00.738Z"
   },
   {
    "duration": 49,
    "start_time": "2022-01-14T08:58:00.792Z"
   },
   {
    "duration": 396,
    "start_time": "2022-01-14T08:58:00.844Z"
   },
   {
    "duration": 13,
    "start_time": "2022-01-14T08:58:01.244Z"
   },
   {
    "duration": 48,
    "start_time": "2022-01-14T08:58:01.260Z"
   },
   {
    "duration": 33,
    "start_time": "2022-01-14T08:58:01.317Z"
   },
   {
    "duration": 245,
    "start_time": "2022-01-14T08:58:01.352Z"
   },
   {
    "duration": 28,
    "start_time": "2022-01-14T08:58:01.600Z"
   },
   {
    "duration": 36,
    "start_time": "2022-01-14T08:58:01.631Z"
   },
   {
    "duration": 12,
    "start_time": "2022-01-14T08:58:01.670Z"
   },
   {
    "duration": 505,
    "start_time": "2022-01-14T08:58:01.684Z"
   },
   {
    "duration": 1434,
    "start_time": "2022-01-14T09:22:39.551Z"
   },
   {
    "duration": 1553,
    "start_time": "2022-01-14T09:22:49.233Z"
   },
   {
    "duration": 1374,
    "start_time": "2022-01-14T09:23:01.904Z"
   },
   {
    "duration": 1420,
    "start_time": "2022-01-14T09:23:14.797Z"
   },
   {
    "duration": 1139,
    "start_time": "2022-01-14T09:23:23.246Z"
   },
   {
    "duration": 1216,
    "start_time": "2022-01-14T09:23:31.425Z"
   },
   {
    "duration": 1936,
    "start_time": "2022-01-14T09:29:21.899Z"
   },
   {
    "duration": 37,
    "start_time": "2022-01-14T09:29:23.837Z"
   },
   {
    "duration": 48,
    "start_time": "2022-01-14T09:29:23.878Z"
   },
   {
    "duration": 11,
    "start_time": "2022-01-14T09:29:23.930Z"
   },
   {
    "duration": 24,
    "start_time": "2022-01-14T09:29:23.944Z"
   },
   {
    "duration": 51,
    "start_time": "2022-01-14T09:29:23.971Z"
   },
   {
    "duration": 11,
    "start_time": "2022-01-14T09:29:24.025Z"
   },
   {
    "duration": 12,
    "start_time": "2022-01-14T09:29:24.040Z"
   },
   {
    "duration": 21,
    "start_time": "2022-01-14T09:29:24.055Z"
   },
   {
    "duration": 49,
    "start_time": "2022-01-14T09:29:24.079Z"
   },
   {
    "duration": 20,
    "start_time": "2022-01-14T09:29:24.130Z"
   },
   {
    "duration": 11,
    "start_time": "2022-01-14T09:29:24.152Z"
   },
   {
    "duration": 74,
    "start_time": "2022-01-14T09:29:24.166Z"
   },
   {
    "duration": 16,
    "start_time": "2022-01-14T09:29:24.243Z"
   },
   {
    "duration": 66,
    "start_time": "2022-01-14T09:29:24.261Z"
   },
   {
    "duration": 21,
    "start_time": "2022-01-14T09:29:24.329Z"
   },
   {
    "duration": 19,
    "start_time": "2022-01-14T09:29:24.353Z"
   },
   {
    "duration": 43,
    "start_time": "2022-01-14T09:29:24.374Z"
   },
   {
    "duration": 233,
    "start_time": "2022-01-14T09:29:24.420Z"
   },
   {
    "duration": 182,
    "start_time": "2022-01-14T09:29:24.655Z"
   },
   {
    "duration": 311,
    "start_time": "2022-01-14T09:29:24.839Z"
   },
   {
    "duration": 977,
    "start_time": "2022-01-14T09:29:25.153Z"
   },
   {
    "duration": 25,
    "start_time": "2022-01-14T09:29:26.135Z"
   },
   {
    "duration": 971,
    "start_time": "2022-01-14T09:29:26.163Z"
   },
   {
    "duration": 9,
    "start_time": "2022-01-14T09:29:27.137Z"
   },
   {
    "duration": 1400,
    "start_time": "2022-01-14T09:29:27.148Z"
   },
   {
    "duration": 1402,
    "start_time": "2022-01-14T09:29:28.550Z"
   },
   {
    "duration": 15,
    "start_time": "2022-01-14T09:29:29.954Z"
   },
   {
    "duration": 296,
    "start_time": "2022-01-14T09:29:29.972Z"
   },
   {
    "duration": 5,
    "start_time": "2022-01-14T09:29:30.270Z"
   },
   {
    "duration": 68,
    "start_time": "2022-01-14T09:29:30.277Z"
   },
   {
    "duration": 29,
    "start_time": "2022-01-14T09:29:30.348Z"
   },
   {
    "duration": 386,
    "start_time": "2022-01-14T09:29:30.379Z"
   },
   {
    "duration": 9,
    "start_time": "2022-01-14T09:29:30.767Z"
   },
   {
    "duration": 42,
    "start_time": "2022-01-14T09:29:30.778Z"
   },
   {
    "duration": 27,
    "start_time": "2022-01-14T09:29:30.822Z"
   },
   {
    "duration": 240,
    "start_time": "2022-01-14T09:29:30.851Z"
   },
   {
    "duration": 36,
    "start_time": "2022-01-14T09:29:31.094Z"
   },
   {
    "duration": 19,
    "start_time": "2022-01-14T09:29:31.132Z"
   },
   {
    "duration": 24,
    "start_time": "2022-01-14T09:29:31.153Z"
   },
   {
    "duration": 481,
    "start_time": "2022-01-14T09:29:31.180Z"
   },
   {
    "duration": 2225,
    "start_time": "2022-01-14T16:00:44.613Z"
   },
   {
    "duration": 147,
    "start_time": "2022-01-14T16:00:46.841Z"
   },
   {
    "duration": 34,
    "start_time": "2022-01-14T16:00:46.991Z"
   },
   {
    "duration": 6,
    "start_time": "2022-01-14T16:00:47.028Z"
   },
   {
    "duration": 18,
    "start_time": "2022-01-14T16:00:47.036Z"
   },
   {
    "duration": 9,
    "start_time": "2022-01-14T16:00:47.056Z"
   },
   {
    "duration": 12,
    "start_time": "2022-01-14T16:00:47.067Z"
   },
   {
    "duration": 42,
    "start_time": "2022-01-14T16:00:47.083Z"
   },
   {
    "duration": 8,
    "start_time": "2022-01-14T16:00:47.128Z"
   },
   {
    "duration": 13,
    "start_time": "2022-01-14T16:00:47.138Z"
   },
   {
    "duration": 20,
    "start_time": "2022-01-14T16:00:47.153Z"
   },
   {
    "duration": 4,
    "start_time": "2022-01-14T16:00:47.175Z"
   },
   {
    "duration": 98,
    "start_time": "2022-01-14T16:00:47.181Z"
   },
   {
    "duration": 18,
    "start_time": "2022-01-14T16:00:47.282Z"
   },
   {
    "duration": 31,
    "start_time": "2022-01-14T16:00:47.323Z"
   },
   {
    "duration": 19,
    "start_time": "2022-01-14T16:00:47.357Z"
   },
   {
    "duration": 52,
    "start_time": "2022-01-14T16:00:47.380Z"
   },
   {
    "duration": 4,
    "start_time": "2022-01-14T16:00:47.436Z"
   },
   {
    "duration": 1200,
    "start_time": "2022-01-14T16:00:47.442Z"
   },
   {
    "duration": 187,
    "start_time": "2022-01-14T16:00:48.644Z"
   },
   {
    "duration": 317,
    "start_time": "2022-01-14T16:00:48.833Z"
   },
   {
    "duration": 507,
    "start_time": "2022-01-14T16:00:49.153Z"
   },
   {
    "duration": 24,
    "start_time": "2022-01-14T16:00:49.665Z"
   },
   {
    "duration": 1001,
    "start_time": "2022-01-14T16:00:49.692Z"
   },
   {
    "duration": 6,
    "start_time": "2022-01-14T16:00:50.696Z"
   },
   {
    "duration": 1173,
    "start_time": "2022-01-14T16:00:50.705Z"
   },
   {
    "duration": 1453,
    "start_time": "2022-01-14T16:00:51.882Z"
   },
   {
    "duration": 15,
    "start_time": "2022-01-14T16:00:53.337Z"
   },
   {
    "duration": 304,
    "start_time": "2022-01-14T16:00:53.355Z"
   },
   {
    "duration": 4,
    "start_time": "2022-01-14T16:00:53.661Z"
   },
   {
    "duration": 63,
    "start_time": "2022-01-14T16:00:53.668Z"
   },
   {
    "duration": 19,
    "start_time": "2022-01-14T16:00:53.734Z"
   },
   {
    "duration": 411,
    "start_time": "2022-01-14T16:00:53.755Z"
   },
   {
    "duration": 9,
    "start_time": "2022-01-14T16:00:54.169Z"
   },
   {
    "duration": 15,
    "start_time": "2022-01-14T16:00:54.180Z"
   },
   {
    "duration": 12,
    "start_time": "2022-01-14T16:00:54.224Z"
   },
   {
    "duration": 250,
    "start_time": "2022-01-14T16:00:54.239Z"
   },
   {
    "duration": 33,
    "start_time": "2022-01-14T16:00:54.492Z"
   },
   {
    "duration": 17,
    "start_time": "2022-01-14T16:00:54.527Z"
   },
   {
    "duration": 9,
    "start_time": "2022-01-14T16:00:54.547Z"
   },
   {
    "duration": 545,
    "start_time": "2022-01-14T16:00:54.559Z"
   },
   {
    "duration": 309,
    "start_time": "2022-01-15T00:31:43.207Z"
   },
   {
    "duration": 1480,
    "start_time": "2022-01-15T00:31:52.296Z"
   },
   {
    "duration": 263,
    "start_time": "2022-01-15T00:31:53.778Z"
   },
   {
    "duration": 20,
    "start_time": "2022-01-15T00:31:54.043Z"
   },
   {
    "duration": 6,
    "start_time": "2022-01-15T00:31:54.064Z"
   },
   {
    "duration": 9,
    "start_time": "2022-01-15T00:31:54.071Z"
   },
   {
    "duration": 6,
    "start_time": "2022-01-15T00:31:54.082Z"
   },
   {
    "duration": 9,
    "start_time": "2022-01-15T00:31:54.090Z"
   },
   {
    "duration": 9,
    "start_time": "2022-01-15T00:31:54.101Z"
   },
   {
    "duration": 16,
    "start_time": "2022-01-15T00:31:54.114Z"
   },
   {
    "duration": 7,
    "start_time": "2022-01-15T00:31:54.132Z"
   },
   {
    "duration": 13,
    "start_time": "2022-01-15T00:31:54.140Z"
   },
   {
    "duration": 5,
    "start_time": "2022-01-15T00:31:54.155Z"
   },
   {
    "duration": 59,
    "start_time": "2022-01-15T00:31:54.161Z"
   },
   {
    "duration": 12,
    "start_time": "2022-01-15T00:31:54.222Z"
   },
   {
    "duration": 20,
    "start_time": "2022-01-15T00:31:54.236Z"
   },
   {
    "duration": 13,
    "start_time": "2022-01-15T00:31:54.258Z"
   },
   {
    "duration": 19,
    "start_time": "2022-01-15T00:31:54.298Z"
   },
   {
    "duration": 2,
    "start_time": "2022-01-15T00:31:54.319Z"
   },
   {
    "duration": 163,
    "start_time": "2022-01-15T00:31:54.323Z"
   },
   {
    "duration": 139,
    "start_time": "2022-01-15T00:31:54.488Z"
   },
   {
    "duration": 219,
    "start_time": "2022-01-15T00:31:54.629Z"
   },
   {
    "duration": 699,
    "start_time": "2022-01-15T00:31:54.850Z"
   },
   {
    "duration": 16,
    "start_time": "2022-01-15T00:31:55.550Z"
   },
   {
    "duration": 799,
    "start_time": "2022-01-15T00:31:55.568Z"
   },
   {
    "duration": 6,
    "start_time": "2022-01-15T00:31:56.368Z"
   },
   {
    "duration": 1047,
    "start_time": "2022-01-15T00:31:56.376Z"
   },
   {
    "duration": 1019,
    "start_time": "2022-01-15T00:31:57.426Z"
   },
   {
    "duration": 10,
    "start_time": "2022-01-15T00:31:58.447Z"
   },
   {
    "duration": 206,
    "start_time": "2022-01-15T00:31:58.459Z"
   },
   {
    "duration": 3,
    "start_time": "2022-01-15T00:31:58.666Z"
   },
   {
    "duration": 41,
    "start_time": "2022-01-15T00:31:58.670Z"
   },
   {
    "duration": 16,
    "start_time": "2022-01-15T00:31:58.713Z"
   },
   {
    "duration": 264,
    "start_time": "2022-01-15T00:31:58.731Z"
   },
   {
    "duration": 9,
    "start_time": "2022-01-15T00:31:58.999Z"
   },
   {
    "duration": 18,
    "start_time": "2022-01-15T00:31:59.012Z"
   },
   {
    "duration": 13,
    "start_time": "2022-01-15T00:31:59.032Z"
   },
   {
    "duration": 189,
    "start_time": "2022-01-15T00:31:59.047Z"
   },
   {
    "duration": 14,
    "start_time": "2022-01-15T00:31:59.238Z"
   },
   {
    "duration": 15,
    "start_time": "2022-01-15T00:31:59.254Z"
   },
   {
    "duration": 31,
    "start_time": "2022-01-15T00:31:59.271Z"
   },
   {
    "duration": 324,
    "start_time": "2022-01-15T00:31:59.303Z"
   },
   {
    "duration": 9,
    "start_time": "2022-01-15T00:32:18.878Z"
   },
   {
    "duration": 11,
    "start_time": "2022-01-15T00:32:35.111Z"
   },
   {
    "duration": 98,
    "start_time": "2022-01-15T00:33:48.699Z"
   },
   {
    "duration": 8,
    "start_time": "2022-01-15T00:33:51.333Z"
   },
   {
    "duration": 9,
    "start_time": "2022-01-15T00:33:52.265Z"
   },
   {
    "duration": 1530,
    "start_time": "2022-01-15T00:33:58.164Z"
   },
   {
    "duration": 32,
    "start_time": "2022-01-15T00:33:59.695Z"
   },
   {
    "duration": 20,
    "start_time": "2022-01-15T00:33:59.729Z"
   },
   {
    "duration": 6,
    "start_time": "2022-01-15T00:33:59.750Z"
   },
   {
    "duration": 10,
    "start_time": "2022-01-15T00:33:59.758Z"
   },
   {
    "duration": 7,
    "start_time": "2022-01-15T00:33:59.770Z"
   },
   {
    "duration": 25,
    "start_time": "2022-01-15T00:33:59.778Z"
   },
   {
    "duration": 12,
    "start_time": "2022-01-15T00:33:59.805Z"
   },
   {
    "duration": 8,
    "start_time": "2022-01-15T00:33:59.821Z"
   },
   {
    "duration": 12,
    "start_time": "2022-01-15T00:33:59.831Z"
   },
   {
    "duration": 8,
    "start_time": "2022-01-15T00:33:59.845Z"
   },
   {
    "duration": 11,
    "start_time": "2022-01-15T00:33:59.854Z"
   },
   {
    "duration": 5,
    "start_time": "2022-01-15T00:33:59.867Z"
   },
   {
    "duration": 71,
    "start_time": "2022-01-15T00:33:59.873Z"
   },
   {
    "duration": 9,
    "start_time": "2022-01-15T00:33:59.946Z"
   },
   {
    "duration": 42,
    "start_time": "2022-01-15T00:33:59.957Z"
   },
   {
    "duration": 18,
    "start_time": "2022-01-15T00:34:00.001Z"
   },
   {
    "duration": 18,
    "start_time": "2022-01-15T00:34:00.021Z"
   },
   {
    "duration": 5,
    "start_time": "2022-01-15T00:34:00.041Z"
   },
   {
    "duration": 179,
    "start_time": "2022-01-15T00:34:00.047Z"
   },
   {
    "duration": 123,
    "start_time": "2022-01-15T00:34:00.228Z"
   },
   {
    "duration": 233,
    "start_time": "2022-01-15T00:34:00.352Z"
   },
   {
    "duration": 720,
    "start_time": "2022-01-15T00:34:00.586Z"
   },
   {
    "duration": 20,
    "start_time": "2022-01-15T00:34:01.309Z"
   },
   {
    "duration": 790,
    "start_time": "2022-01-15T00:34:01.330Z"
   },
   {
    "duration": 8,
    "start_time": "2022-01-15T00:34:02.122Z"
   },
   {
    "duration": 1008,
    "start_time": "2022-01-15T00:34:02.134Z"
   },
   {
    "duration": 1081,
    "start_time": "2022-01-15T00:34:03.144Z"
   },
   {
    "duration": 11,
    "start_time": "2022-01-15T00:34:04.226Z"
   },
   {
    "duration": 213,
    "start_time": "2022-01-15T00:34:04.239Z"
   },
   {
    "duration": 3,
    "start_time": "2022-01-15T00:34:04.453Z"
   },
   {
    "duration": 44,
    "start_time": "2022-01-15T00:34:04.458Z"
   },
   {
    "duration": 18,
    "start_time": "2022-01-15T00:34:04.504Z"
   },
   {
    "duration": 278,
    "start_time": "2022-01-15T00:34:04.525Z"
   },
   {
    "duration": 10,
    "start_time": "2022-01-15T00:34:04.805Z"
   },
   {
    "duration": 14,
    "start_time": "2022-01-15T00:34:04.817Z"
   },
   {
    "duration": 13,
    "start_time": "2022-01-15T00:34:04.833Z"
   },
   {
    "duration": 197,
    "start_time": "2022-01-15T00:34:04.848Z"
   },
   {
    "duration": 14,
    "start_time": "2022-01-15T00:34:05.047Z"
   },
   {
    "duration": 14,
    "start_time": "2022-01-15T00:34:05.063Z"
   },
   {
    "duration": 28,
    "start_time": "2022-01-15T00:34:05.079Z"
   },
   {
    "duration": 369,
    "start_time": "2022-01-15T00:34:05.109Z"
   },
   {
    "duration": 1449,
    "start_time": "2022-01-15T00:34:38.116Z"
   },
   {
    "duration": 28,
    "start_time": "2022-01-15T00:34:39.567Z"
   },
   {
    "duration": 29,
    "start_time": "2022-01-15T00:34:39.597Z"
   },
   {
    "duration": 8,
    "start_time": "2022-01-15T00:34:39.628Z"
   },
   {
    "duration": 7,
    "start_time": "2022-01-15T00:34:39.638Z"
   },
   {
    "duration": 8,
    "start_time": "2022-01-15T00:34:39.647Z"
   },
   {
    "duration": 41,
    "start_time": "2022-01-15T00:34:39.657Z"
   },
   {
    "duration": 13,
    "start_time": "2022-01-15T00:34:39.702Z"
   },
   {
    "duration": 8,
    "start_time": "2022-01-15T00:34:39.718Z"
   },
   {
    "duration": 7,
    "start_time": "2022-01-15T00:34:39.728Z"
   },
   {
    "duration": 5,
    "start_time": "2022-01-15T00:34:39.737Z"
   },
   {
    "duration": 10,
    "start_time": "2022-01-15T00:34:39.744Z"
   },
   {
    "duration": 4,
    "start_time": "2022-01-15T00:34:39.755Z"
   },
   {
    "duration": 73,
    "start_time": "2022-01-15T00:34:39.761Z"
   },
   {
    "duration": 10,
    "start_time": "2022-01-15T00:34:39.836Z"
   },
   {
    "duration": 19,
    "start_time": "2022-01-15T00:34:39.848Z"
   },
   {
    "duration": 13,
    "start_time": "2022-01-15T00:34:39.869Z"
   },
   {
    "duration": 22,
    "start_time": "2022-01-15T00:34:39.884Z"
   },
   {
    "duration": 4,
    "start_time": "2022-01-15T00:34:39.908Z"
   },
   {
    "duration": 160,
    "start_time": "2022-01-15T00:34:39.914Z"
   },
   {
    "duration": 112,
    "start_time": "2022-01-15T00:34:40.076Z"
   },
   {
    "duration": 229,
    "start_time": "2022-01-15T00:34:40.190Z"
   },
   {
    "duration": 937,
    "start_time": "2022-01-15T00:34:40.423Z"
   },
   {
    "duration": 15,
    "start_time": "2022-01-15T00:34:41.362Z"
   },
   {
    "duration": 726,
    "start_time": "2022-01-15T00:34:41.378Z"
   },
   {
    "duration": 10,
    "start_time": "2022-01-15T00:34:42.106Z"
   },
   {
    "duration": 999,
    "start_time": "2022-01-15T00:34:42.119Z"
   },
   {
    "duration": 1040,
    "start_time": "2022-01-15T00:34:43.119Z"
   },
   {
    "duration": 12,
    "start_time": "2022-01-15T00:34:44.160Z"
   },
   {
    "duration": 207,
    "start_time": "2022-01-15T00:34:44.174Z"
   },
   {
    "duration": 3,
    "start_time": "2022-01-15T00:34:44.383Z"
   },
   {
    "duration": 36,
    "start_time": "2022-01-15T00:34:44.398Z"
   },
   {
    "duration": 14,
    "start_time": "2022-01-15T00:34:44.436Z"
   },
   {
    "duration": 268,
    "start_time": "2022-01-15T00:34:44.452Z"
   },
   {
    "duration": 6,
    "start_time": "2022-01-15T00:34:44.722Z"
   },
   {
    "duration": 11,
    "start_time": "2022-01-15T00:34:44.729Z"
   },
   {
    "duration": 15,
    "start_time": "2022-01-15T00:34:44.742Z"
   },
   {
    "duration": 174,
    "start_time": "2022-01-15T00:34:44.759Z"
   },
   {
    "duration": 13,
    "start_time": "2022-01-15T00:34:44.934Z"
   },
   {
    "duration": 12,
    "start_time": "2022-01-15T00:34:44.948Z"
   },
   {
    "duration": 10,
    "start_time": "2022-01-15T00:34:44.961Z"
   },
   {
    "duration": 340,
    "start_time": "2022-01-15T00:34:44.972Z"
   },
   {
    "duration": 1478,
    "start_time": "2022-01-15T02:47:20.598Z"
   },
   {
    "duration": 29,
    "start_time": "2022-01-15T02:47:22.078Z"
   },
   {
    "duration": 23,
    "start_time": "2022-01-15T02:47:22.110Z"
   },
   {
    "duration": 8,
    "start_time": "2022-01-15T02:47:22.135Z"
   },
   {
    "duration": 18,
    "start_time": "2022-01-15T02:47:22.145Z"
   },
   {
    "duration": 35,
    "start_time": "2022-01-15T02:47:22.165Z"
   },
   {
    "duration": 8,
    "start_time": "2022-01-15T02:47:22.202Z"
   },
   {
    "duration": 8,
    "start_time": "2022-01-15T02:47:22.213Z"
   },
   {
    "duration": 5,
    "start_time": "2022-01-15T02:47:22.224Z"
   },
   {
    "duration": 9,
    "start_time": "2022-01-15T02:47:22.231Z"
   },
   {
    "duration": 16,
    "start_time": "2022-01-15T02:47:22.242Z"
   },
   {
    "duration": 40,
    "start_time": "2022-01-15T02:47:22.260Z"
   },
   {
    "duration": 4,
    "start_time": "2022-01-15T02:47:22.302Z"
   },
   {
    "duration": 62,
    "start_time": "2022-01-15T02:47:22.308Z"
   },
   {
    "duration": 12,
    "start_time": "2022-01-15T02:47:22.372Z"
   },
   {
    "duration": 32,
    "start_time": "2022-01-15T02:47:22.386Z"
   },
   {
    "duration": 15,
    "start_time": "2022-01-15T02:47:22.420Z"
   },
   {
    "duration": 19,
    "start_time": "2022-01-15T02:47:22.437Z"
   },
   {
    "duration": 3,
    "start_time": "2022-01-15T02:47:22.458Z"
   },
   {
    "duration": 185,
    "start_time": "2022-01-15T02:47:22.463Z"
   },
   {
    "duration": 136,
    "start_time": "2022-01-15T02:47:22.649Z"
   },
   {
    "duration": 229,
    "start_time": "2022-01-15T02:47:22.786Z"
   },
   {
    "duration": 706,
    "start_time": "2022-01-15T02:47:23.018Z"
   },
   {
    "duration": 18,
    "start_time": "2022-01-15T02:47:23.726Z"
   },
   {
    "duration": 754,
    "start_time": "2022-01-15T02:47:23.746Z"
   },
   {
    "duration": 7,
    "start_time": "2022-01-15T02:47:24.502Z"
   },
   {
    "duration": 975,
    "start_time": "2022-01-15T02:47:24.510Z"
   },
   {
    "duration": 1045,
    "start_time": "2022-01-15T02:47:25.487Z"
   },
   {
    "duration": 11,
    "start_time": "2022-01-15T02:47:26.534Z"
   },
   {
    "duration": 201,
    "start_time": "2022-01-15T02:47:26.546Z"
   },
   {
    "duration": 2,
    "start_time": "2022-01-15T02:47:26.749Z"
   },
   {
    "duration": 30,
    "start_time": "2022-01-15T02:47:26.753Z"
   },
   {
    "duration": 24,
    "start_time": "2022-01-15T02:47:26.785Z"
   },
   {
    "duration": 245,
    "start_time": "2022-01-15T02:47:26.811Z"
   },
   {
    "duration": 7,
    "start_time": "2022-01-15T02:47:27.057Z"
   },
   {
    "duration": 10,
    "start_time": "2022-01-15T02:47:27.066Z"
   },
   {
    "duration": 26,
    "start_time": "2022-01-15T02:47:27.078Z"
   },
   {
    "duration": 162,
    "start_time": "2022-01-15T02:47:27.106Z"
   },
   {
    "duration": 13,
    "start_time": "2022-01-15T02:47:27.270Z"
   },
   {
    "duration": 23,
    "start_time": "2022-01-15T02:47:27.284Z"
   },
   {
    "duration": 7,
    "start_time": "2022-01-15T02:47:27.308Z"
   },
   {
    "duration": 313,
    "start_time": "2022-01-15T02:47:27.317Z"
   },
   {
    "duration": 1367,
    "start_time": "2022-01-15T02:57:10.368Z"
   },
   {
    "duration": 28,
    "start_time": "2022-01-15T02:57:11.737Z"
   },
   {
    "duration": 19,
    "start_time": "2022-01-15T02:57:11.767Z"
   },
   {
    "duration": 6,
    "start_time": "2022-01-15T02:57:11.788Z"
   },
   {
    "duration": 8,
    "start_time": "2022-01-15T02:57:11.795Z"
   },
   {
    "duration": 10,
    "start_time": "2022-01-15T02:57:11.805Z"
   },
   {
    "duration": 7,
    "start_time": "2022-01-15T02:57:11.816Z"
   },
   {
    "duration": 8,
    "start_time": "2022-01-15T02:57:11.824Z"
   },
   {
    "duration": 4,
    "start_time": "2022-01-15T02:57:11.835Z"
   },
   {
    "duration": 6,
    "start_time": "2022-01-15T02:57:11.840Z"
   },
   {
    "duration": 4,
    "start_time": "2022-01-15T02:57:11.848Z"
   },
   {
    "duration": 12,
    "start_time": "2022-01-15T02:57:11.853Z"
   },
   {
    "duration": 35,
    "start_time": "2022-01-15T02:57:11.866Z"
   },
   {
    "duration": 43,
    "start_time": "2022-01-15T02:57:11.903Z"
   },
   {
    "duration": 10,
    "start_time": "2022-01-15T02:57:11.948Z"
   },
   {
    "duration": 42,
    "start_time": "2022-01-15T02:57:11.960Z"
   },
   {
    "duration": 14,
    "start_time": "2022-01-15T02:57:12.004Z"
   },
   {
    "duration": 13,
    "start_time": "2022-01-15T02:57:12.019Z"
   },
   {
    "duration": 3,
    "start_time": "2022-01-15T02:57:12.033Z"
   },
   {
    "duration": 166,
    "start_time": "2022-01-15T02:57:12.037Z"
   },
   {
    "duration": 112,
    "start_time": "2022-01-15T02:57:12.205Z"
   },
   {
    "duration": 195,
    "start_time": "2022-01-15T02:57:12.319Z"
   },
   {
    "duration": 633,
    "start_time": "2022-01-15T02:57:12.516Z"
   },
   {
    "duration": 14,
    "start_time": "2022-01-15T02:57:13.150Z"
   },
   {
    "duration": 724,
    "start_time": "2022-01-15T02:57:13.166Z"
   },
   {
    "duration": 8,
    "start_time": "2022-01-15T02:57:13.891Z"
   },
   {
    "duration": 903,
    "start_time": "2022-01-15T02:57:13.902Z"
   },
   {
    "duration": 1012,
    "start_time": "2022-01-15T02:57:14.807Z"
   },
   {
    "duration": 11,
    "start_time": "2022-01-15T02:57:15.821Z"
   },
   {
    "duration": 193,
    "start_time": "2022-01-15T02:57:15.834Z"
   },
   {
    "duration": 3,
    "start_time": "2022-01-15T02:57:16.029Z"
   },
   {
    "duration": 34,
    "start_time": "2022-01-15T02:57:16.033Z"
   },
   {
    "duration": 30,
    "start_time": "2022-01-15T02:57:16.069Z"
   },
   {
    "duration": 237,
    "start_time": "2022-01-15T02:57:16.101Z"
   },
   {
    "duration": 6,
    "start_time": "2022-01-15T02:57:16.340Z"
   },
   {
    "duration": 14,
    "start_time": "2022-01-15T02:57:16.348Z"
   },
   {
    "duration": 18,
    "start_time": "2022-01-15T02:57:16.363Z"
   },
   {
    "duration": 152,
    "start_time": "2022-01-15T02:57:16.383Z"
   },
   {
    "duration": 13,
    "start_time": "2022-01-15T02:57:16.537Z"
   },
   {
    "duration": 17,
    "start_time": "2022-01-15T02:57:16.552Z"
   },
   {
    "duration": 10,
    "start_time": "2022-01-15T02:57:16.571Z"
   },
   {
    "duration": 309,
    "start_time": "2022-01-15T02:57:16.582Z"
   },
   {
    "duration": 50,
    "start_time": "2022-04-01T04:22:07.849Z"
   },
   {
    "duration": 5,
    "start_time": "2022-04-01T04:22:11.604Z"
   },
   {
    "duration": 4,
    "start_time": "2022-04-01T04:22:15.107Z"
   },
   {
    "duration": 3,
    "start_time": "2022-04-01T04:22:17.046Z"
   },
   {
    "duration": 91,
    "start_time": "2022-04-01T04:22:20.194Z"
   },
   {
    "duration": 25,
    "start_time": "2022-04-01T04:22:22.151Z"
   },
   {
    "duration": 23,
    "start_time": "2022-04-01T04:22:23.345Z"
   }
  ],
  "kernelspec": {
   "display_name": "Python 3 (ipykernel)",
   "language": "python",
   "name": "python3"
  },
  "language_info": {
   "codemirror_mode": {
    "name": "ipython",
    "version": 3
   },
   "file_extension": ".py",
   "mimetype": "text/x-python",
   "name": "python",
   "nbconvert_exporter": "python",
   "pygments_lexer": "ipython3",
   "version": "3.9.5"
  },
  "toc": {
   "base_numbering": 1,
   "nav_menu": {},
   "number_sections": true,
   "sideBar": true,
   "skip_h1_title": true,
   "title_cell": "Table of Contents",
   "title_sidebar": "Contents",
   "toc_cell": false,
   "toc_position": {},
   "toc_section_display": true,
   "toc_window_display": false
  }
 },
 "nbformat": 4,
 "nbformat_minor": 2
}
